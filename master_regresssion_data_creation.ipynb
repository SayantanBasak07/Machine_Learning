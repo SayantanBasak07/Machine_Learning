{
 "cells": [
  {
   "cell_type": "code",
   "execution_count": 1,
   "id": "fa0b6660",
   "metadata": {},
   "outputs": [],
   "source": [
    "import pandas as pd\n",
    "import numpy as np\n"
   ]
  },
  {
   "cell_type": "code",
   "execution_count": 2,
   "id": "64705829",
   "metadata": {},
   "outputs": [],
   "source": [
    "df=pd.read_csv('CarPrice_Assignment.csv')"
   ]
  },
  {
   "cell_type": "code",
   "execution_count": 3,
   "id": "7a2644e4",
   "metadata": {},
   "outputs": [
    {
     "data": {
      "text/plain": [
       "car_ID              0\n",
       "symboling           0\n",
       "CarName             0\n",
       "fueltype            0\n",
       "aspiration          0\n",
       "doornumber          0\n",
       "carbody             0\n",
       "drivewheel          0\n",
       "enginelocation      0\n",
       "wheelbase           0\n",
       "carlength           0\n",
       "carwidth            0\n",
       "carheight           0\n",
       "curbweight          0\n",
       "enginetype          0\n",
       "cylindernumber      0\n",
       "enginesize          0\n",
       "fuelsystem          0\n",
       "boreratio           0\n",
       "stroke              0\n",
       "compressionratio    0\n",
       "horsepower          0\n",
       "peakrpm             0\n",
       "citympg             0\n",
       "highwaympg          0\n",
       "price               0\n",
       "dtype: int64"
      ]
     },
     "execution_count": 3,
     "metadata": {},
     "output_type": "execute_result"
    }
   ],
   "source": [
    "df.isnull().sum()"
   ]
  },
  {
   "cell_type": "code",
   "execution_count": 4,
   "id": "63431a41",
   "metadata": {},
   "outputs": [],
   "source": [
    "x=df.iloc[:,:-1]"
   ]
  },
  {
   "cell_type": "code",
   "execution_count": 5,
   "id": "759c234b",
   "metadata": {},
   "outputs": [],
   "source": [
    "y=df.iloc[:,-1]"
   ]
  },
  {
   "cell_type": "code",
   "execution_count": 6,
   "id": "077bdb8f",
   "metadata": {},
   "outputs": [],
   "source": [
    "#handling missng data"
   ]
  },
  {
   "cell_type": "code",
   "execution_count": 7,
   "id": "077ad1d1",
   "metadata": {},
   "outputs": [],
   "source": [
    "\n",
    "from sklearn.impute import SimpleImputer\n",
    "imp_mean=SimpleImputer(missing_values=np.nan,strategy='mean') "
   ]
  },
  {
   "cell_type": "code",
   "execution_count": 8,
   "id": "3c347a98",
   "metadata": {},
   "outputs": [],
   "source": [
    "numeric_columns=list(np.where((x.dtypes==np.int64) | (x.dtypes==np.float64))[0])"
   ]
  },
  {
   "cell_type": "code",
   "execution_count": 9,
   "id": "f9837345",
   "metadata": {},
   "outputs": [
    {
     "data": {
      "text/plain": [
       "SimpleImputer()"
      ]
     },
     "execution_count": 9,
     "metadata": {},
     "output_type": "execute_result"
    }
   ],
   "source": [
    "imp_mean.fit(x.iloc[:,numeric_columns])"
   ]
  },
  {
   "cell_type": "code",
   "execution_count": 10,
   "id": "b6e5941c",
   "metadata": {},
   "outputs": [],
   "source": [
    "x.iloc[:,numeric_columns]=imp_mean.transform(x.iloc[:,numeric_columns])"
   ]
  },
  {
   "cell_type": "code",
   "execution_count": 11,
   "id": "d8d9454e",
   "metadata": {},
   "outputs": [],
   "source": [
    "string_columns=list(np.where((x.dtypes!=np.int64) | (x.dtypes!=np.float64))[0])"
   ]
  },
  {
   "cell_type": "code",
   "execution_count": 12,
   "id": "cbc7fbdf",
   "metadata": {},
   "outputs": [],
   "source": [
    "imp_mean=SimpleImputer(missing_values=np.nan,strategy='most_frequent')"
   ]
  },
  {
   "cell_type": "code",
   "execution_count": 13,
   "id": "6a52ef4b",
   "metadata": {},
   "outputs": [
    {
     "data": {
      "text/plain": [
       "SimpleImputer(strategy='most_frequent')"
      ]
     },
     "execution_count": 13,
     "metadata": {},
     "output_type": "execute_result"
    }
   ],
   "source": [
    "imp_mean.fit(x.iloc[:,string_columns])"
   ]
  },
  {
   "cell_type": "code",
   "execution_count": 14,
   "id": "3c26eaf2",
   "metadata": {},
   "outputs": [],
   "source": [
    "x.iloc[:,string_columns]=imp_mean.transform(x.iloc[:,string_columns])"
   ]
  },
  {
   "cell_type": "code",
   "execution_count": 15,
   "id": "fd1615de",
   "metadata": {},
   "outputs": [
    {
     "data": {
      "text/plain": [
       "car_ID              0\n",
       "symboling           0\n",
       "CarName             0\n",
       "fueltype            0\n",
       "aspiration          0\n",
       "doornumber          0\n",
       "carbody             0\n",
       "drivewheel          0\n",
       "enginelocation      0\n",
       "wheelbase           0\n",
       "carlength           0\n",
       "carwidth            0\n",
       "carheight           0\n",
       "curbweight          0\n",
       "enginetype          0\n",
       "cylindernumber      0\n",
       "enginesize          0\n",
       "fuelsystem          0\n",
       "boreratio           0\n",
       "stroke              0\n",
       "compressionratio    0\n",
       "horsepower          0\n",
       "peakrpm             0\n",
       "citympg             0\n",
       "highwaympg          0\n",
       "price               0\n",
       "dtype: int64"
      ]
     },
     "execution_count": 15,
     "metadata": {},
     "output_type": "execute_result"
    }
   ],
   "source": [
    "df.isnull().sum()"
   ]
  },
  {
   "cell_type": "code",
   "execution_count": 16,
   "id": "fcc964a6",
   "metadata": {},
   "outputs": [],
   "source": [
    "x.drop('car_ID',axis=1,inplace=True)"
   ]
  },
  {
   "cell_type": "code",
   "execution_count": 17,
   "id": "682ab5e8",
   "metadata": {},
   "outputs": [],
   "source": [
    "from sklearn import preprocessing\n",
    "le=preprocessing.LabelEncoder()\n",
    "from sklearn.preprocessing import OneHotEncoder\n",
    "from sklearn.compose import ColumnTransformer"
   ]
  },
  {
   "cell_type": "code",
   "execution_count": 18,
   "id": "7806ad04",
   "metadata": {},
   "outputs": [],
   "source": [
    "string_columns=list(np.where((x.dtypes!=np.int64) | (x.dtypes!=np.float64))[0])"
   ]
  },
  {
   "cell_type": "code",
   "execution_count": 19,
   "id": "e54c5a8e",
   "metadata": {},
   "outputs": [],
   "source": [
    "columnTransformer=ColumnTransformer([('encoder',OneHotEncoder(),string_columns)],remainder='passthrough')\n"
   ]
  },
  {
   "cell_type": "code",
   "execution_count": 20,
   "id": "8e8f605a",
   "metadata": {},
   "outputs": [],
   "source": [
    "x=columnTransformer.fit_transform(x)\n"
   ]
  },
  {
   "cell_type": "code",
   "execution_count": 21,
   "id": "f040866a",
   "metadata": {},
   "outputs": [
    {
     "data": {
      "text/plain": [
       "<205x875 sparse matrix of type '<class 'numpy.float64'>'\n",
       "\twith 4920 stored elements in Compressed Sparse Row format>"
      ]
     },
     "execution_count": 21,
     "metadata": {},
     "output_type": "execute_result"
    }
   ],
   "source": [
    "x"
   ]
  },
  {
   "cell_type": "code",
   "execution_count": 22,
   "id": "f0f9c8b2",
   "metadata": {},
   "outputs": [],
   "source": [
    "from sklearn.model_selection import train_test_split\n",
    "x_train,x_test,y_train,y_test=train_test_split(x,y,test_size=0.2,random_state=1)"
   ]
  },
  {
   "cell_type": "code",
   "execution_count": 23,
   "id": "caad2154",
   "metadata": {},
   "outputs": [],
   "source": [
    "sc=preprocessing.StandardScaler(with_mean=False)"
   ]
  },
  {
   "cell_type": "code",
   "execution_count": 24,
   "id": "1ee82c56",
   "metadata": {},
   "outputs": [
    {
     "data": {
      "text/plain": [
       "StandardScaler(with_mean=False)"
      ]
     },
     "execution_count": 24,
     "metadata": {},
     "output_type": "execute_result"
    }
   ],
   "source": [
    "sc.fit(x_train)"
   ]
  },
  {
   "cell_type": "code",
   "execution_count": 25,
   "id": "2bc53c07",
   "metadata": {},
   "outputs": [],
   "source": [
    "x_train=sc.transform(x_train)\n"
   ]
  },
  {
   "cell_type": "code",
   "execution_count": 26,
   "id": "781de31c",
   "metadata": {},
   "outputs": [
    {
     "data": {
      "text/plain": [
       "StandardScaler(with_mean=False)"
      ]
     },
     "execution_count": 26,
     "metadata": {},
     "output_type": "execute_result"
    }
   ],
   "source": [
    "sc.fit(x_test)"
   ]
  },
  {
   "cell_type": "code",
   "execution_count": 27,
   "id": "6adf3ca0",
   "metadata": {},
   "outputs": [],
   "source": [
    "x_test=sc.transform(x_test)"
   ]
  },
  {
   "cell_type": "code",
   "execution_count": 28,
   "id": "806a61fb",
   "metadata": {
    "scrolled": true
   },
   "outputs": [
    {
     "data": {
      "text/plain": [
       "0.7348974113377778"
      ]
     },
     "execution_count": 28,
     "metadata": {},
     "output_type": "execute_result"
    }
   ],
   "source": [
    "\n",
    "#linear regression\n",
    "from sklearn.linear_model import LinearRegression\n",
    "from sklearn.metrics import r2_score\n",
    "model=LinearRegression()\n",
    "model.fit(x_train,y_train)\n",
    "y_pred=model.predict(x_test)\n",
    "r2_score(y_test,y_pred)"
   ]
  },
  {
   "cell_type": "code",
   "execution_count": 29,
   "id": "72b28503",
   "metadata": {},
   "outputs": [],
   "source": [
    "#polynomial regression"
   ]
  },
  {
   "cell_type": "code",
   "execution_count": 30,
   "id": "07d66ecd",
   "metadata": {},
   "outputs": [
    {
     "data": {
      "text/plain": [
       "0.40091645871944503"
      ]
     },
     "execution_count": 30,
     "metadata": {},
     "output_type": "execute_result"
    }
   ],
   "source": [
    "from sklearn.linear_model import LinearRegression\n",
    "from sklearn.preprocessing import PolynomialFeatures\n",
    "model=LinearRegression()\n",
    "poly=PolynomialFeatures(degree=2)\n",
    "x_train_poly=poly.fit_transform(x_train)\n",
    "model.fit(x_train_poly,y_train)\n",
    "x_test_poly=poly.fit_transform(x_test)\n",
    "y_pred=model.predict(x_test_poly)\n",
    "r2_score(y_test,y_pred)"
   ]
  },
  {
   "cell_type": "code",
   "execution_count": 31,
   "id": "e5101881",
   "metadata": {},
   "outputs": [],
   "source": [
    "#decision tree model"
   ]
  },
  {
   "cell_type": "code",
   "execution_count": 32,
   "id": "de2a28d6",
   "metadata": {},
   "outputs": [
    {
     "data": {
      "text/plain": [
       "0.5576059905192566"
      ]
     },
     "execution_count": 32,
     "metadata": {},
     "output_type": "execute_result"
    }
   ],
   "source": [
    "from sklearn.tree import DecisionTreeRegressor\n",
    "model=DecisionTreeRegressor(max_depth=4)\n",
    "model.fit(x_train,y_train)\n",
    "y_pred=model.predict(x_test)\n",
    "r2_score(y_test,y_pred)"
   ]
  },
  {
   "cell_type": "code",
   "execution_count": 33,
   "id": "0e28a8bd",
   "metadata": {},
   "outputs": [],
   "source": [
    "#random forest model"
   ]
  },
  {
   "cell_type": "code",
   "execution_count": 34,
   "id": "ae5adb9a",
   "metadata": {},
   "outputs": [
    {
     "data": {
      "text/plain": [
       "0.790815348701032"
      ]
     },
     "execution_count": 34,
     "metadata": {},
     "output_type": "execute_result"
    }
   ],
   "source": [
    "from sklearn.ensemble import RandomForestRegressor\n",
    "model=RandomForestRegressor(n_estimators=25,random_state=10)\n",
    "model.fit(x_train,y_train)\n",
    "y_pred=model.predict(x_test)\n",
    "r2_score(y_test,y_pred)"
   ]
  },
  {
   "cell_type": "code",
   "execution_count": 35,
   "id": "0c0af34c",
   "metadata": {},
   "outputs": [
    {
     "data": {
      "text/plain": [
       "0.6954381734250454"
      ]
     },
     "execution_count": 35,
     "metadata": {},
     "output_type": "execute_result"
    }
   ],
   "source": [
    "from sklearn.ensemble  import AdaBoostRegressor\n",
    "model=AdaBoostRegressor(random_state=0,n_estimators=100)\n",
    "model.fit(x_train,y_train)\n",
    "y_pred=model.predict(x_test)\n",
    "r2_score(y_test,y_pred)"
   ]
  },
  {
   "cell_type": "code",
   "execution_count": 36,
   "id": "46ddbbe1",
   "metadata": {},
   "outputs": [],
   "source": [
    "#XG BOOST "
   ]
  },
  {
   "cell_type": "code",
   "execution_count": 37,
   "id": "0311a3be",
   "metadata": {},
   "outputs": [
    {
     "name": "stdout",
     "output_type": "stream",
     "text": [
      "Requirement already satisfied: xgboost in c:\\users\\kiit\\anaconda3\\lib\\site-packages (1.7.4)\n",
      "Requirement already satisfied: scipy in c:\\users\\kiit\\anaconda3\\lib\\site-packages (from xgboost) (1.7.3)\n",
      "Requirement already satisfied: numpy in c:\\users\\kiit\\anaconda3\\lib\\site-packages (from xgboost) (1.21.5)\n",
      "Note: you may need to restart the kernel to use updated packages.\n"
     ]
    }
   ],
   "source": [
    "pip install xgboost"
   ]
  },
  {
   "cell_type": "code",
   "execution_count": 38,
   "id": "26847ed2",
   "metadata": {},
   "outputs": [
    {
     "data": {
      "text/plain": [
       "0.7770638165984833"
      ]
     },
     "execution_count": 38,
     "metadata": {},
     "output_type": "execute_result"
    }
   ],
   "source": [
    "import xgboost as xgb\n",
    "model=xgb.XGBRegressor(\n",
    "    n_estimators=100,\n",
    "    reg_lambda=1,\n",
    "    gamma=0,\n",
    "    max_depth=3,\n",
    "    learning_rate=0.05   \n",
    ")\n",
    "model.fit(x_train,y_train)\n",
    "y_pred=model.predict(x_test)\n",
    "r2_score(y_test,y_pred)"
   ]
  },
  {
   "cell_type": "code",
   "execution_count": 39,
   "id": "b751530f",
   "metadata": {},
   "outputs": [
    {
     "data": {
      "text/plain": [
       "-0.027112906548981686"
      ]
     },
     "execution_count": 39,
     "metadata": {},
     "output_type": "execute_result"
    }
   ],
   "source": [
    "from sklearn.svm import SVR\n",
    "model=SVR()\n",
    "model.fit(x_train,y_train)\n",
    "y_pred=model.predict(x_test)\n",
    "r2_score(y_test,y_pred)"
   ]
  },
  {
   "cell_type": "code",
   "execution_count": null,
   "id": "8ce20404",
   "metadata": {},
   "outputs": [],
   "source": []
  },
  {
   "cell_type": "code",
   "execution_count": null,
   "id": "29d0dfb6",
   "metadata": {},
   "outputs": [],
   "source": []
  }
 ],
 "metadata": {
  "kernelspec": {
   "display_name": "Python 3 (ipykernel)",
   "language": "python",
   "name": "python3"
  },
  "language_info": {
   "codemirror_mode": {
    "name": "ipython",
    "version": 3
   },
   "file_extension": ".py",
   "mimetype": "text/x-python",
   "name": "python",
   "nbconvert_exporter": "python",
   "pygments_lexer": "ipython3",
   "version": "3.9.12"
  }
 },
 "nbformat": 4,
 "nbformat_minor": 5
}
