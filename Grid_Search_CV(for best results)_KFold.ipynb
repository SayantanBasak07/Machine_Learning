{
 "cells": [
  {
   "cell_type": "code",
   "execution_count": 77,
   "id": "fa0b6660",
   "metadata": {},
   "outputs": [],
   "source": [
    "import pandas as pd\n",
    "import numpy as np\n"
   ]
  },
  {
   "cell_type": "code",
   "execution_count": 78,
   "id": "64705829",
   "metadata": {},
   "outputs": [],
   "source": [
    "df=pd.read_csv('CarPrice_Assignment.csv')"
   ]
  },
  {
   "cell_type": "code",
   "execution_count": 79,
   "id": "7a2644e4",
   "metadata": {},
   "outputs": [
    {
     "data": {
      "text/html": [
       "<div>\n",
       "<style scoped>\n",
       "    .dataframe tbody tr th:only-of-type {\n",
       "        vertical-align: middle;\n",
       "    }\n",
       "\n",
       "    .dataframe tbody tr th {\n",
       "        vertical-align: top;\n",
       "    }\n",
       "\n",
       "    .dataframe thead th {\n",
       "        text-align: right;\n",
       "    }\n",
       "</style>\n",
       "<table border=\"1\" class=\"dataframe\">\n",
       "  <thead>\n",
       "    <tr style=\"text-align: right;\">\n",
       "      <th></th>\n",
       "      <th>car_ID</th>\n",
       "      <th>symboling</th>\n",
       "      <th>CarName</th>\n",
       "      <th>fueltype</th>\n",
       "      <th>aspiration</th>\n",
       "      <th>doornumber</th>\n",
       "      <th>carbody</th>\n",
       "      <th>drivewheel</th>\n",
       "      <th>enginelocation</th>\n",
       "      <th>wheelbase</th>\n",
       "      <th>...</th>\n",
       "      <th>enginesize</th>\n",
       "      <th>fuelsystem</th>\n",
       "      <th>boreratio</th>\n",
       "      <th>stroke</th>\n",
       "      <th>compressionratio</th>\n",
       "      <th>horsepower</th>\n",
       "      <th>peakrpm</th>\n",
       "      <th>citympg</th>\n",
       "      <th>highwaympg</th>\n",
       "      <th>price</th>\n",
       "    </tr>\n",
       "  </thead>\n",
       "  <tbody>\n",
       "    <tr>\n",
       "      <th>0</th>\n",
       "      <td>1</td>\n",
       "      <td>3</td>\n",
       "      <td>alfa-romero giulia</td>\n",
       "      <td>gas</td>\n",
       "      <td>std</td>\n",
       "      <td>two</td>\n",
       "      <td>convertible</td>\n",
       "      <td>rwd</td>\n",
       "      <td>front</td>\n",
       "      <td>88.6</td>\n",
       "      <td>...</td>\n",
       "      <td>130</td>\n",
       "      <td>mpfi</td>\n",
       "      <td>3.47</td>\n",
       "      <td>2.68</td>\n",
       "      <td>9.0</td>\n",
       "      <td>111</td>\n",
       "      <td>5000</td>\n",
       "      <td>21</td>\n",
       "      <td>27</td>\n",
       "      <td>13495.0</td>\n",
       "    </tr>\n",
       "    <tr>\n",
       "      <th>1</th>\n",
       "      <td>2</td>\n",
       "      <td>3</td>\n",
       "      <td>alfa-romero stelvio</td>\n",
       "      <td>gas</td>\n",
       "      <td>std</td>\n",
       "      <td>two</td>\n",
       "      <td>convertible</td>\n",
       "      <td>rwd</td>\n",
       "      <td>front</td>\n",
       "      <td>88.6</td>\n",
       "      <td>...</td>\n",
       "      <td>130</td>\n",
       "      <td>mpfi</td>\n",
       "      <td>3.47</td>\n",
       "      <td>2.68</td>\n",
       "      <td>9.0</td>\n",
       "      <td>111</td>\n",
       "      <td>5000</td>\n",
       "      <td>21</td>\n",
       "      <td>27</td>\n",
       "      <td>16500.0</td>\n",
       "    </tr>\n",
       "    <tr>\n",
       "      <th>2</th>\n",
       "      <td>3</td>\n",
       "      <td>1</td>\n",
       "      <td>alfa-romero Quadrifoglio</td>\n",
       "      <td>gas</td>\n",
       "      <td>std</td>\n",
       "      <td>two</td>\n",
       "      <td>hatchback</td>\n",
       "      <td>rwd</td>\n",
       "      <td>front</td>\n",
       "      <td>94.5</td>\n",
       "      <td>...</td>\n",
       "      <td>152</td>\n",
       "      <td>mpfi</td>\n",
       "      <td>2.68</td>\n",
       "      <td>3.47</td>\n",
       "      <td>9.0</td>\n",
       "      <td>154</td>\n",
       "      <td>5000</td>\n",
       "      <td>19</td>\n",
       "      <td>26</td>\n",
       "      <td>16500.0</td>\n",
       "    </tr>\n",
       "    <tr>\n",
       "      <th>3</th>\n",
       "      <td>4</td>\n",
       "      <td>2</td>\n",
       "      <td>audi 100 ls</td>\n",
       "      <td>gas</td>\n",
       "      <td>std</td>\n",
       "      <td>four</td>\n",
       "      <td>sedan</td>\n",
       "      <td>fwd</td>\n",
       "      <td>front</td>\n",
       "      <td>99.8</td>\n",
       "      <td>...</td>\n",
       "      <td>109</td>\n",
       "      <td>mpfi</td>\n",
       "      <td>3.19</td>\n",
       "      <td>3.40</td>\n",
       "      <td>10.0</td>\n",
       "      <td>102</td>\n",
       "      <td>5500</td>\n",
       "      <td>24</td>\n",
       "      <td>30</td>\n",
       "      <td>13950.0</td>\n",
       "    </tr>\n",
       "    <tr>\n",
       "      <th>4</th>\n",
       "      <td>5</td>\n",
       "      <td>2</td>\n",
       "      <td>audi 100ls</td>\n",
       "      <td>gas</td>\n",
       "      <td>std</td>\n",
       "      <td>four</td>\n",
       "      <td>sedan</td>\n",
       "      <td>4wd</td>\n",
       "      <td>front</td>\n",
       "      <td>99.4</td>\n",
       "      <td>...</td>\n",
       "      <td>136</td>\n",
       "      <td>mpfi</td>\n",
       "      <td>3.19</td>\n",
       "      <td>3.40</td>\n",
       "      <td>8.0</td>\n",
       "      <td>115</td>\n",
       "      <td>5500</td>\n",
       "      <td>18</td>\n",
       "      <td>22</td>\n",
       "      <td>17450.0</td>\n",
       "    </tr>\n",
       "  </tbody>\n",
       "</table>\n",
       "<p>5 rows × 26 columns</p>\n",
       "</div>"
      ],
      "text/plain": [
       "   car_ID  symboling                   CarName fueltype aspiration doornumber  \\\n",
       "0       1          3        alfa-romero giulia      gas        std        two   \n",
       "1       2          3       alfa-romero stelvio      gas        std        two   \n",
       "2       3          1  alfa-romero Quadrifoglio      gas        std        two   \n",
       "3       4          2               audi 100 ls      gas        std       four   \n",
       "4       5          2                audi 100ls      gas        std       four   \n",
       "\n",
       "       carbody drivewheel enginelocation  wheelbase  ...  enginesize  \\\n",
       "0  convertible        rwd          front       88.6  ...         130   \n",
       "1  convertible        rwd          front       88.6  ...         130   \n",
       "2    hatchback        rwd          front       94.5  ...         152   \n",
       "3        sedan        fwd          front       99.8  ...         109   \n",
       "4        sedan        4wd          front       99.4  ...         136   \n",
       "\n",
       "   fuelsystem  boreratio  stroke compressionratio horsepower  peakrpm citympg  \\\n",
       "0        mpfi       3.47    2.68              9.0        111     5000      21   \n",
       "1        mpfi       3.47    2.68              9.0        111     5000      21   \n",
       "2        mpfi       2.68    3.47              9.0        154     5000      19   \n",
       "3        mpfi       3.19    3.40             10.0        102     5500      24   \n",
       "4        mpfi       3.19    3.40              8.0        115     5500      18   \n",
       "\n",
       "   highwaympg    price  \n",
       "0          27  13495.0  \n",
       "1          27  16500.0  \n",
       "2          26  16500.0  \n",
       "3          30  13950.0  \n",
       "4          22  17450.0  \n",
       "\n",
       "[5 rows x 26 columns]"
      ]
     },
     "execution_count": 79,
     "metadata": {},
     "output_type": "execute_result"
    }
   ],
   "source": [
    "df.head()"
   ]
  },
  {
   "cell_type": "code",
   "execution_count": 80,
   "id": "63431a41",
   "metadata": {},
   "outputs": [],
   "source": [
    "x=df.iloc[:,:-1]"
   ]
  },
  {
   "cell_type": "code",
   "execution_count": 81,
   "id": "759c234b",
   "metadata": {},
   "outputs": [],
   "source": [
    "y=df.iloc[:,-1]"
   ]
  },
  {
   "cell_type": "code",
   "execution_count": 82,
   "id": "077bdb8f",
   "metadata": {},
   "outputs": [],
   "source": [
    "#handling missng data"
   ]
  },
  {
   "cell_type": "code",
   "execution_count": 83,
   "id": "077ad1d1",
   "metadata": {},
   "outputs": [],
   "source": [
    "\n",
    "from sklearn.impute import SimpleImputer\n",
    "imp_mean=SimpleImputer(missing_values=np.nan,strategy='mean')"
   ]
  },
  {
   "cell_type": "code",
   "execution_count": 84,
   "id": "3c347a98",
   "metadata": {},
   "outputs": [],
   "source": [
    "numeric_columns=list(np.where((x.dtypes==np.int64) | (x.dtypes==np.float64))[0])"
   ]
  },
  {
   "cell_type": "code",
   "execution_count": 85,
   "id": "f9837345",
   "metadata": {},
   "outputs": [
    {
     "data": {
      "text/plain": [
       "SimpleImputer()"
      ]
     },
     "execution_count": 85,
     "metadata": {},
     "output_type": "execute_result"
    }
   ],
   "source": [
    "imp_mean.fit(x.iloc[:,numeric_columns])"
   ]
  },
  {
   "cell_type": "code",
   "execution_count": 86,
   "id": "b6e5941c",
   "metadata": {},
   "outputs": [],
   "source": [
    "x.iloc[:,numeric_columns]=imp_mean.transform(x.iloc[:,numeric_columns])"
   ]
  },
  {
   "cell_type": "code",
   "execution_count": 87,
   "id": "d8d9454e",
   "metadata": {},
   "outputs": [],
   "source": [
    "string_columns=list(np.where((x.dtypes!=np.int64) | (x.dtypes!=np.float64))[0])"
   ]
  },
  {
   "cell_type": "code",
   "execution_count": 88,
   "id": "cbc7fbdf",
   "metadata": {},
   "outputs": [],
   "source": [
    "imp_mean=SimpleImputer(missing_values=np.nan,strategy='most_frequent')"
   ]
  },
  {
   "cell_type": "code",
   "execution_count": 89,
   "id": "6a52ef4b",
   "metadata": {},
   "outputs": [
    {
     "data": {
      "text/plain": [
       "SimpleImputer(strategy='most_frequent')"
      ]
     },
     "execution_count": 89,
     "metadata": {},
     "output_type": "execute_result"
    }
   ],
   "source": [
    "imp_mean.fit(x.iloc[:,string_columns])"
   ]
  },
  {
   "cell_type": "code",
   "execution_count": 90,
   "id": "3c26eaf2",
   "metadata": {},
   "outputs": [],
   "source": [
    "x.iloc[:,string_columns]=imp_mean.transform(x.iloc[:,string_columns])"
   ]
  },
  {
   "cell_type": "code",
   "execution_count": 91,
   "id": "fcc964a6",
   "metadata": {},
   "outputs": [],
   "source": [
    "x.drop('car_ID',axis=1,inplace=True)"
   ]
  },
  {
   "cell_type": "code",
   "execution_count": 92,
   "id": "682ab5e8",
   "metadata": {},
   "outputs": [],
   "source": [
    "from sklearn import preprocessing\n",
    "le=preprocessing.LabelEncoder()\n",
    "from sklearn.preprocessing import OneHotEncoder\n",
    "from sklearn.compose import ColumnTransformer"
   ]
  },
  {
   "cell_type": "code",
   "execution_count": 93,
   "id": "7806ad04",
   "metadata": {},
   "outputs": [],
   "source": [
    "string_columns=list(np.where((x.dtypes!=np.int64) | (x.dtypes!=np.float64))[0])"
   ]
  },
  {
   "cell_type": "code",
   "execution_count": 94,
   "id": "e54c5a8e",
   "metadata": {},
   "outputs": [],
   "source": [
    "columnTransformer=ColumnTransformer([('encoder',OneHotEncoder(),string_columns)],remainder='passthrough')\n"
   ]
  },
  {
   "cell_type": "code",
   "execution_count": 95,
   "id": "8e8f605a",
   "metadata": {},
   "outputs": [],
   "source": [
    "x=columnTransformer.fit_transform(x)"
   ]
  },
  {
   "cell_type": "code",
   "execution_count": 96,
   "id": "f0f9c8b2",
   "metadata": {},
   "outputs": [],
   "source": [
    "from sklearn.model_selection import train_test_split\n",
    "x_train,x_test,y_train,y_test=train_test_split(x,y,test_size=0.2,random_state=1)"
   ]
  },
  {
   "cell_type": "code",
   "execution_count": 97,
   "id": "caad2154",
   "metadata": {},
   "outputs": [],
   "source": [
    "sc=preprocessing.StandardScaler(with_mean=False)"
   ]
  },
  {
   "cell_type": "code",
   "execution_count": 98,
   "id": "1ee82c56",
   "metadata": {},
   "outputs": [
    {
     "data": {
      "text/plain": [
       "StandardScaler(with_mean=False)"
      ]
     },
     "execution_count": 98,
     "metadata": {},
     "output_type": "execute_result"
    }
   ],
   "source": [
    "sc.fit(x_train)"
   ]
  },
  {
   "cell_type": "code",
   "execution_count": 99,
   "id": "2bc53c07",
   "metadata": {},
   "outputs": [],
   "source": [
    "x_train=sc.transform(x_train)\n"
   ]
  },
  {
   "cell_type": "code",
   "execution_count": 100,
   "id": "781de31c",
   "metadata": {},
   "outputs": [
    {
     "data": {
      "text/plain": [
       "StandardScaler(with_mean=False)"
      ]
     },
     "execution_count": 100,
     "metadata": {},
     "output_type": "execute_result"
    }
   ],
   "source": [
    "sc.fit(x_test)"
   ]
  },
  {
   "cell_type": "code",
   "execution_count": 101,
   "id": "6adf3ca0",
   "metadata": {},
   "outputs": [],
   "source": [
    "x_test=sc.transform(x_test)"
   ]
  },
  {
   "cell_type": "code",
   "execution_count": 117,
   "id": "ab4278a9",
   "metadata": {},
   "outputs": [],
   "source": [
    "def build_model(x_train,x_test,y_train,y_test,model):\n",
    "    from sklearn.metrics import r2_score\n",
    "    model.fit(x_train,y_train)\n",
    "    y_pred=model.predict(x_test)\n",
    "    return r2_score(y_test,y_pred)"
   ]
  },
  {
   "cell_type": "code",
   "execution_count": 118,
   "id": "806a61fb",
   "metadata": {
    "scrolled": true
   },
   "outputs": [],
   "source": [
    "\n",
    "#linear regression\n"
   ]
  },
  {
   "cell_type": "code",
   "execution_count": 119,
   "id": "72b28503",
   "metadata": {},
   "outputs": [],
   "source": [
    "#polynomial regression"
   ]
  },
  {
   "cell_type": "code",
   "execution_count": 120,
   "id": "81aa6f04",
   "metadata": {},
   "outputs": [],
   "source": [
    "#decision tree model"
   ]
  },
  {
   "cell_type": "code",
   "execution_count": 121,
   "id": "2b9f37f3",
   "metadata": {},
   "outputs": [],
   "source": [
    "from sklearn.tree import DecisionTreeRegressor\n",
    "decisionTreeRegressor=DecisionTreeRegressor(max_depth=4)\n"
   ]
  },
  {
   "cell_type": "code",
   "execution_count": 122,
   "id": "1d4fe4be",
   "metadata": {},
   "outputs": [],
   "source": [
    "#random forest model"
   ]
  },
  {
   "cell_type": "code",
   "execution_count": 123,
   "id": "422eceea",
   "metadata": {},
   "outputs": [],
   "source": [
    "from sklearn.ensemble import RandomForestRegressor\n",
    "model=RandomForestRegressor(n_estimators=25,random_state=10)\n"
   ]
  },
  {
   "cell_type": "code",
   "execution_count": 124,
   "id": "4a2b3060",
   "metadata": {},
   "outputs": [],
   "source": [
    "from sklearn.ensemble  import AdaBoostRegressor\n",
    "model=AdaBoostRegressor(random_state=0,n_estimators=100)\n"
   ]
  },
  {
   "cell_type": "code",
   "execution_count": 125,
   "id": "a593436d",
   "metadata": {},
   "outputs": [],
   "source": [
    "#XG BOOST "
   ]
  },
  {
   "cell_type": "code",
   "execution_count": 126,
   "id": "da8e3352",
   "metadata": {},
   "outputs": [
    {
     "name": "stdout",
     "output_type": "stream",
     "text": [
      "Requirement already satisfied: xgboost in c:\\users\\kiit\\anaconda3\\lib\\site-packages (1.7.4)\n",
      "Requirement already satisfied: scipy in c:\\users\\kiit\\anaconda3\\lib\\site-packages (from xgboost) (1.7.3)\n",
      "Requirement already satisfied: numpy in c:\\users\\kiit\\anaconda3\\lib\\site-packages (from xgboost) (1.21.5)\n",
      "Note: you may need to restart the kernel to use updated packages.\n"
     ]
    }
   ],
   "source": [
    "pip install xgboost"
   ]
  },
  {
   "cell_type": "code",
   "execution_count": 127,
   "id": "0ae373d2",
   "metadata": {},
   "outputs": [],
   "source": [
    "import xgboost as xgb\n",
    "model=xgb.XGBRegressor(\n",
    "    n_estimators=100,\n",
    "    reg_lambda=1,\n",
    "    gamma=0,\n",
    "    max_depth=3,\n",
    "    learning_rate=0.05   \n",
    ")\n"
   ]
  },
  {
   "cell_type": "code",
   "execution_count": 128,
   "id": "79483036",
   "metadata": {},
   "outputs": [],
   "source": [
    "from sklearn.svm import SVR\n",
    "model=SVR()\n"
   ]
  },
  {
   "cell_type": "code",
   "execution_count": 129,
   "id": "018b7e04",
   "metadata": {},
   "outputs": [],
   "source": [
    "from sklearn.model_selection import KFold"
   ]
  },
  {
   "cell_type": "code",
   "execution_count": 130,
   "id": "dec6b5d4",
   "metadata": {},
   "outputs": [],
   "source": [
    "kf=KFold(n_splits=10,random_state=42,shuffle=True)"
   ]
  },
  {
   "cell_type": "code",
   "execution_count": 133,
   "id": "3ffa0083",
   "metadata": {},
   "outputs": [],
   "source": [
    "decisionTreeRegressor_scores = []\n",
    "randomForestRegressor_score = []\n",
    "adaBoostRegressor_score = []\n",
    "xgbRegressor_scores = []\n",
    "svr_score = []\n",
    "for train_index,test_index in kf.split(x):\n",
    "    x_train,x_test=x[train_index],x[test_index]\n",
    "    y_train,y_test=y[train_index],y[test_index]\n",
    "    decisionTreeRegressor_scores.append(build_model(x_train,x_test,y_train,y_test, decisionTreeRegressor))"
   ]
  },
  {
   "cell_type": "code",
   "execution_count": 134,
   "id": "5272f0ef",
   "metadata": {},
   "outputs": [
    {
     "data": {
      "text/plain": [
       "[0.4703240947849152,\n",
       " 0.7891127601514129,\n",
       " 0.8786790100362963,\n",
       " 0.415521706583286,\n",
       " 0.8579799929773559,\n",
       " 0.013632876691032525,\n",
       " 0.7962292851789387,\n",
       " 0.6331510885728087,\n",
       " 0.6583092003967608,\n",
       " 0.7821275628891092]"
      ]
     },
     "execution_count": 134,
     "metadata": {},
     "output_type": "execute_result"
    }
   ],
   "source": [
    "decisionTreeRegressor_scores"
   ]
  },
  {
   "cell_type": "code",
   "execution_count": 135,
   "id": "50445c7f",
   "metadata": {},
   "outputs": [
    {
     "data": {
      "text/plain": [
       "0.6295067578261916"
      ]
     },
     "execution_count": 135,
     "metadata": {},
     "output_type": "execute_result"
    }
   ],
   "source": [
    "from statistics import mean\n",
    "mean(decisionTreeRegressor_scores)"
   ]
  },
  {
   "cell_type": "code",
   "execution_count": 3,
   "id": "1eb225b3",
   "metadata": {},
   "outputs": [
    {
     "name": "stdout",
     "output_type": "stream",
     "text": [
      "False\n"
     ]
    }
   ],
   "source": [
    "y = 1j\n",
    "print(y**4 == -1)"
   ]
  },
  {
   "cell_type": "code",
   "execution_count": null,
   "id": "320c54da",
   "metadata": {},
   "outputs": [],
   "source": []
  }
 ],
 "metadata": {
  "kernelspec": {
   "display_name": "Python 3 (ipykernel)",
   "language": "python",
   "name": "python3"
  },
  "language_info": {
   "codemirror_mode": {
    "name": "ipython",
    "version": 3
   },
   "file_extension": ".py",
   "mimetype": "text/x-python",
   "name": "python",
   "nbconvert_exporter": "python",
   "pygments_lexer": "ipython3",
   "version": "3.9.12"
  }
 },
 "nbformat": 4,
 "nbformat_minor": 5
}
