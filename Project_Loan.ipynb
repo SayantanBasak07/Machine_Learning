{
 "cells": [
  {
   "cell_type": "code",
   "execution_count": 1,
   "id": "9f46a086",
   "metadata": {},
   "outputs": [],
   "source": [
    "import pandas as pd\n",
    "import numpy as np"
   ]
  },
  {
   "cell_type": "code",
   "execution_count": 2,
   "id": "ef4af5df",
   "metadata": {},
   "outputs": [],
   "source": [
    "df=pd.read_csv(\"Testing_Data.csv\")"
   ]
  },
  {
   "cell_type": "code",
   "execution_count": 3,
   "id": "d6f8644b",
   "metadata": {},
   "outputs": [],
   "source": [
    "data=pd.read_csv(\"Training_Data.csv\")"
   ]
  },
  {
   "cell_type": "code",
   "execution_count": 4,
   "id": "cd04ebff",
   "metadata": {},
   "outputs": [
    {
     "data": {
      "text/html": [
       "<div>\n",
       "<style scoped>\n",
       "    .dataframe tbody tr th:only-of-type {\n",
       "        vertical-align: middle;\n",
       "    }\n",
       "\n",
       "    .dataframe tbody tr th {\n",
       "        vertical-align: top;\n",
       "    }\n",
       "\n",
       "    .dataframe thead th {\n",
       "        text-align: right;\n",
       "    }\n",
       "</style>\n",
       "<table border=\"1\" class=\"dataframe\">\n",
       "  <thead>\n",
       "    <tr style=\"text-align: right;\">\n",
       "      <th></th>\n",
       "      <th>Loan_ID</th>\n",
       "      <th>Gender</th>\n",
       "      <th>Married</th>\n",
       "      <th>Dependents</th>\n",
       "      <th>Education</th>\n",
       "      <th>Self_Employed</th>\n",
       "      <th>ApplicantIncome</th>\n",
       "      <th>CoapplicantIncome</th>\n",
       "      <th>LoanAmount</th>\n",
       "      <th>Loan_Amount_Term</th>\n",
       "      <th>Credit_History</th>\n",
       "      <th>Property_Area</th>\n",
       "    </tr>\n",
       "  </thead>\n",
       "  <tbody>\n",
       "    <tr>\n",
       "      <th>0</th>\n",
       "      <td>LP001015</td>\n",
       "      <td>Male</td>\n",
       "      <td>Yes</td>\n",
       "      <td>0</td>\n",
       "      <td>Graduate</td>\n",
       "      <td>No</td>\n",
       "      <td>5720</td>\n",
       "      <td>0</td>\n",
       "      <td>110.0</td>\n",
       "      <td>360.0</td>\n",
       "      <td>1.0</td>\n",
       "      <td>Urban</td>\n",
       "    </tr>\n",
       "    <tr>\n",
       "      <th>1</th>\n",
       "      <td>LP001022</td>\n",
       "      <td>Male</td>\n",
       "      <td>Yes</td>\n",
       "      <td>1</td>\n",
       "      <td>Graduate</td>\n",
       "      <td>No</td>\n",
       "      <td>3076</td>\n",
       "      <td>1500</td>\n",
       "      <td>126.0</td>\n",
       "      <td>360.0</td>\n",
       "      <td>1.0</td>\n",
       "      <td>Urban</td>\n",
       "    </tr>\n",
       "    <tr>\n",
       "      <th>2</th>\n",
       "      <td>LP001031</td>\n",
       "      <td>Male</td>\n",
       "      <td>Yes</td>\n",
       "      <td>2</td>\n",
       "      <td>Graduate</td>\n",
       "      <td>No</td>\n",
       "      <td>5000</td>\n",
       "      <td>1800</td>\n",
       "      <td>208.0</td>\n",
       "      <td>360.0</td>\n",
       "      <td>1.0</td>\n",
       "      <td>Urban</td>\n",
       "    </tr>\n",
       "    <tr>\n",
       "      <th>3</th>\n",
       "      <td>LP001035</td>\n",
       "      <td>Male</td>\n",
       "      <td>Yes</td>\n",
       "      <td>2</td>\n",
       "      <td>Graduate</td>\n",
       "      <td>No</td>\n",
       "      <td>2340</td>\n",
       "      <td>2546</td>\n",
       "      <td>100.0</td>\n",
       "      <td>360.0</td>\n",
       "      <td>NaN</td>\n",
       "      <td>Urban</td>\n",
       "    </tr>\n",
       "    <tr>\n",
       "      <th>4</th>\n",
       "      <td>LP001051</td>\n",
       "      <td>Male</td>\n",
       "      <td>No</td>\n",
       "      <td>0</td>\n",
       "      <td>Not Graduate</td>\n",
       "      <td>No</td>\n",
       "      <td>3276</td>\n",
       "      <td>0</td>\n",
       "      <td>78.0</td>\n",
       "      <td>360.0</td>\n",
       "      <td>1.0</td>\n",
       "      <td>Urban</td>\n",
       "    </tr>\n",
       "  </tbody>\n",
       "</table>\n",
       "</div>"
      ],
      "text/plain": [
       "    Loan_ID Gender Married Dependents     Education Self_Employed  \\\n",
       "0  LP001015   Male     Yes          0      Graduate            No   \n",
       "1  LP001022   Male     Yes          1      Graduate            No   \n",
       "2  LP001031   Male     Yes          2      Graduate            No   \n",
       "3  LP001035   Male     Yes          2      Graduate            No   \n",
       "4  LP001051   Male      No          0  Not Graduate            No   \n",
       "\n",
       "   ApplicantIncome  CoapplicantIncome  LoanAmount  Loan_Amount_Term  \\\n",
       "0             5720                  0       110.0             360.0   \n",
       "1             3076               1500       126.0             360.0   \n",
       "2             5000               1800       208.0             360.0   \n",
       "3             2340               2546       100.0             360.0   \n",
       "4             3276                  0        78.0             360.0   \n",
       "\n",
       "   Credit_History Property_Area  \n",
       "0             1.0         Urban  \n",
       "1             1.0         Urban  \n",
       "2             1.0         Urban  \n",
       "3             NaN         Urban  \n",
       "4             1.0         Urban  "
      ]
     },
     "execution_count": 4,
     "metadata": {},
     "output_type": "execute_result"
    }
   ],
   "source": [
    "df.head()\n"
   ]
  },
  {
   "cell_type": "code",
   "execution_count": 5,
   "id": "7e5935f6",
   "metadata": {},
   "outputs": [],
   "source": [
    "x_train=data.iloc[:,:-1]"
   ]
  },
  {
   "cell_type": "code",
   "execution_count": 6,
   "id": "1d13c0cf",
   "metadata": {},
   "outputs": [],
   "source": [
    "y_train=data.iloc[:,-1]"
   ]
  },
  {
   "cell_type": "code",
   "execution_count": 7,
   "id": "51608f60",
   "metadata": {},
   "outputs": [
    {
     "data": {
      "text/plain": [
       "0      Y\n",
       "1      N\n",
       "2      Y\n",
       "3      Y\n",
       "4      Y\n",
       "      ..\n",
       "609    Y\n",
       "610    Y\n",
       "611    Y\n",
       "612    Y\n",
       "613    N\n",
       "Name: Loan_Status, Length: 614, dtype: object"
      ]
     },
     "execution_count": 7,
     "metadata": {},
     "output_type": "execute_result"
    }
   ],
   "source": [
    "y_train"
   ]
  },
  {
   "cell_type": "code",
   "execution_count": 8,
   "id": "12842586",
   "metadata": {},
   "outputs": [],
   "source": [
    "#handling missing data\n",
    "from sklearn.impute import SimpleImputer\n",
    "imp_mean=SimpleImputer(missing_values=np.nan,strategy='mean')"
   ]
  },
  {
   "cell_type": "code",
   "execution_count": 9,
   "id": "2f40f5ab",
   "metadata": {},
   "outputs": [],
   "source": [
    "numeric_columns=list(np.where((x_train.dtypes==np.int64) | (x_train.dtypes==np.float64))[0])"
   ]
  },
  {
   "cell_type": "code",
   "execution_count": 10,
   "id": "a8bfdf37",
   "metadata": {},
   "outputs": [],
   "source": [
    "credit_score=numeric_columns[4:5]"
   ]
  },
  {
   "cell_type": "code",
   "execution_count": 11,
   "id": "f9d26abb",
   "metadata": {},
   "outputs": [
    {
     "data": {
      "text/plain": [
       "[10]"
      ]
     },
     "execution_count": 11,
     "metadata": {},
     "output_type": "execute_result"
    }
   ],
   "source": [
    "credit_score"
   ]
  },
  {
   "cell_type": "code",
   "execution_count": 12,
   "id": "b0fb58c8",
   "metadata": {},
   "outputs": [],
   "source": [
    "numeric_columns=numeric_columns[:4]"
   ]
  },
  {
   "cell_type": "code",
   "execution_count": 13,
   "id": "6afc9394",
   "metadata": {},
   "outputs": [
    {
     "data": {
      "text/plain": [
       "[6, 7, 8, 9]"
      ]
     },
     "execution_count": 13,
     "metadata": {},
     "output_type": "execute_result"
    }
   ],
   "source": [
    "numeric_columns"
   ]
  },
  {
   "cell_type": "code",
   "execution_count": 14,
   "id": "96ad39ba",
   "metadata": {
    "scrolled": true
   },
   "outputs": [
    {
     "data": {
      "text/html": [
       "<div>\n",
       "<style scoped>\n",
       "    .dataframe tbody tr th:only-of-type {\n",
       "        vertical-align: middle;\n",
       "    }\n",
       "\n",
       "    .dataframe tbody tr th {\n",
       "        vertical-align: top;\n",
       "    }\n",
       "\n",
       "    .dataframe thead th {\n",
       "        text-align: right;\n",
       "    }\n",
       "</style>\n",
       "<table border=\"1\" class=\"dataframe\">\n",
       "  <thead>\n",
       "    <tr style=\"text-align: right;\">\n",
       "      <th></th>\n",
       "      <th>ApplicantIncome</th>\n",
       "      <th>CoapplicantIncome</th>\n",
       "      <th>LoanAmount</th>\n",
       "      <th>Loan_Amount_Term</th>\n",
       "    </tr>\n",
       "  </thead>\n",
       "  <tbody>\n",
       "    <tr>\n",
       "      <th>0</th>\n",
       "      <td>5849</td>\n",
       "      <td>0.0</td>\n",
       "      <td>NaN</td>\n",
       "      <td>360.0</td>\n",
       "    </tr>\n",
       "    <tr>\n",
       "      <th>1</th>\n",
       "      <td>4583</td>\n",
       "      <td>1508.0</td>\n",
       "      <td>128.0</td>\n",
       "      <td>360.0</td>\n",
       "    </tr>\n",
       "    <tr>\n",
       "      <th>2</th>\n",
       "      <td>3000</td>\n",
       "      <td>0.0</td>\n",
       "      <td>66.0</td>\n",
       "      <td>360.0</td>\n",
       "    </tr>\n",
       "    <tr>\n",
       "      <th>3</th>\n",
       "      <td>2583</td>\n",
       "      <td>2358.0</td>\n",
       "      <td>120.0</td>\n",
       "      <td>360.0</td>\n",
       "    </tr>\n",
       "    <tr>\n",
       "      <th>4</th>\n",
       "      <td>6000</td>\n",
       "      <td>0.0</td>\n",
       "      <td>141.0</td>\n",
       "      <td>360.0</td>\n",
       "    </tr>\n",
       "    <tr>\n",
       "      <th>...</th>\n",
       "      <td>...</td>\n",
       "      <td>...</td>\n",
       "      <td>...</td>\n",
       "      <td>...</td>\n",
       "    </tr>\n",
       "    <tr>\n",
       "      <th>609</th>\n",
       "      <td>2900</td>\n",
       "      <td>0.0</td>\n",
       "      <td>71.0</td>\n",
       "      <td>360.0</td>\n",
       "    </tr>\n",
       "    <tr>\n",
       "      <th>610</th>\n",
       "      <td>4106</td>\n",
       "      <td>0.0</td>\n",
       "      <td>40.0</td>\n",
       "      <td>180.0</td>\n",
       "    </tr>\n",
       "    <tr>\n",
       "      <th>611</th>\n",
       "      <td>8072</td>\n",
       "      <td>240.0</td>\n",
       "      <td>253.0</td>\n",
       "      <td>360.0</td>\n",
       "    </tr>\n",
       "    <tr>\n",
       "      <th>612</th>\n",
       "      <td>7583</td>\n",
       "      <td>0.0</td>\n",
       "      <td>187.0</td>\n",
       "      <td>360.0</td>\n",
       "    </tr>\n",
       "    <tr>\n",
       "      <th>613</th>\n",
       "      <td>4583</td>\n",
       "      <td>0.0</td>\n",
       "      <td>133.0</td>\n",
       "      <td>360.0</td>\n",
       "    </tr>\n",
       "  </tbody>\n",
       "</table>\n",
       "<p>614 rows × 4 columns</p>\n",
       "</div>"
      ],
      "text/plain": [
       "     ApplicantIncome  CoapplicantIncome  LoanAmount  Loan_Amount_Term\n",
       "0               5849                0.0         NaN             360.0\n",
       "1               4583             1508.0       128.0             360.0\n",
       "2               3000                0.0        66.0             360.0\n",
       "3               2583             2358.0       120.0             360.0\n",
       "4               6000                0.0       141.0             360.0\n",
       "..               ...                ...         ...               ...\n",
       "609             2900                0.0        71.0             360.0\n",
       "610             4106                0.0        40.0             180.0\n",
       "611             8072              240.0       253.0             360.0\n",
       "612             7583                0.0       187.0             360.0\n",
       "613             4583                0.0       133.0             360.0\n",
       "\n",
       "[614 rows x 4 columns]"
      ]
     },
     "execution_count": 14,
     "metadata": {},
     "output_type": "execute_result"
    }
   ],
   "source": [
    "x_train.iloc[:,numeric_columns]"
   ]
  },
  {
   "cell_type": "code",
   "execution_count": 15,
   "id": "ecca3884",
   "metadata": {},
   "outputs": [
    {
     "data": {
      "text/plain": [
       "SimpleImputer()"
      ]
     },
     "execution_count": 15,
     "metadata": {},
     "output_type": "execute_result"
    }
   ],
   "source": [
    "imp_mean.fit(x_train.iloc[:,numeric_columns])"
   ]
  },
  {
   "cell_type": "code",
   "execution_count": 16,
   "id": "1946a484",
   "metadata": {},
   "outputs": [],
   "source": [
    "x_train.iloc[:,numeric_columns]=imp_mean.transform(x_train.iloc[:,numeric_columns])"
   ]
  },
  {
   "cell_type": "code",
   "execution_count": 17,
   "id": "b2108513",
   "metadata": {},
   "outputs": [
    {
     "name": "stderr",
     "output_type": "stream",
     "text": [
      "C:\\Users\\KIIT\\AppData\\Local\\Temp\\ipykernel_21352\\466058247.py:1: DeprecationWarning: `np.object` is a deprecated alias for the builtin `object`. To silence this warning, use `object` by itself. Doing this will not modify any behavior and is safe. \n",
      "Deprecated in NumPy 1.20; for more details and guidance: https://numpy.org/devdocs/release/1.20.0-notes.html#deprecations\n",
      "  string_columns=list(np.where((x_train.dtypes==np.object))[0])\n"
     ]
    }
   ],
   "source": [
    "string_columns=list(np.where((x_train.dtypes==np.object))[0])\n"
   ]
  },
  {
   "cell_type": "code",
   "execution_count": 18,
   "id": "ffb407c7",
   "metadata": {},
   "outputs": [
    {
     "data": {
      "text/plain": [
       "[6, 7, 8, 9]"
      ]
     },
     "execution_count": 18,
     "metadata": {},
     "output_type": "execute_result"
    }
   ],
   "source": [
    "numeric_columns"
   ]
  },
  {
   "cell_type": "code",
   "execution_count": 19,
   "id": "b7c12825",
   "metadata": {},
   "outputs": [],
   "source": [
    "numeric_columns=numeric_columns[:4]"
   ]
  },
  {
   "cell_type": "code",
   "execution_count": 20,
   "id": "a7eb426d",
   "metadata": {},
   "outputs": [
    {
     "data": {
      "text/plain": [
       "[6, 7, 8, 9]"
      ]
     },
     "execution_count": 20,
     "metadata": {},
     "output_type": "execute_result"
    }
   ],
   "source": [
    "numeric_columns"
   ]
  },
  {
   "cell_type": "code",
   "execution_count": 21,
   "id": "6234f701",
   "metadata": {},
   "outputs": [
    {
     "data": {
      "text/plain": [
       "[0, 1, 2, 3, 4, 5, 11]"
      ]
     },
     "execution_count": 21,
     "metadata": {},
     "output_type": "execute_result"
    }
   ],
   "source": [
    "string_columns"
   ]
  },
  {
   "cell_type": "code",
   "execution_count": null,
   "id": "24f6f53a",
   "metadata": {},
   "outputs": [],
   "source": []
  },
  {
   "cell_type": "code",
   "execution_count": 22,
   "id": "311ace00",
   "metadata": {},
   "outputs": [],
   "source": [
    "imp_mean=SimpleImputer(missing_values=np.nan,strategy='most_frequent')\n"
   ]
  },
  {
   "cell_type": "code",
   "execution_count": 23,
   "id": "9fb99f58",
   "metadata": {},
   "outputs": [
    {
     "data": {
      "text/plain": [
       "SimpleImputer(strategy='most_frequent')"
      ]
     },
     "execution_count": 23,
     "metadata": {},
     "output_type": "execute_result"
    }
   ],
   "source": [
    "imp_mean.fit(x_train.iloc[:,string_columns])"
   ]
  },
  {
   "cell_type": "code",
   "execution_count": 24,
   "id": "d75865bd",
   "metadata": {},
   "outputs": [],
   "source": [
    "x_train.iloc[:,string_columns]=imp_mean.transform(x_train.iloc[:,string_columns])"
   ]
  },
  {
   "cell_type": "code",
   "execution_count": 25,
   "id": "de5d611f",
   "metadata": {},
   "outputs": [
    {
     "data": {
      "text/plain": [
       "SimpleImputer(strategy='most_frequent')"
      ]
     },
     "execution_count": 25,
     "metadata": {},
     "output_type": "execute_result"
    }
   ],
   "source": [
    "imp_mean.fit(x_train.iloc[:,credit_score])"
   ]
  },
  {
   "cell_type": "code",
   "execution_count": 26,
   "id": "6ef94af8",
   "metadata": {},
   "outputs": [],
   "source": [
    "x_train.iloc[:,credit_score]=imp_mean.transform(x_train.iloc[:,credit_score])"
   ]
  },
  {
   "cell_type": "code",
   "execution_count": 27,
   "id": "da957d7f",
   "metadata": {},
   "outputs": [
    {
     "data": {
      "text/plain": [
       "Loan_ID              0\n",
       "Gender               0\n",
       "Married              0\n",
       "Dependents           0\n",
       "Education            0\n",
       "Self_Employed        0\n",
       "ApplicantIncome      0\n",
       "CoapplicantIncome    0\n",
       "LoanAmount           0\n",
       "Loan_Amount_Term     0\n",
       "Credit_History       0\n",
       "Property_Area        0\n",
       "dtype: int64"
      ]
     },
     "execution_count": 27,
     "metadata": {},
     "output_type": "execute_result"
    }
   ],
   "source": [
    "x_train.isnull().sum()"
   ]
  },
  {
   "cell_type": "code",
   "execution_count": 28,
   "id": "811a04f1",
   "metadata": {},
   "outputs": [],
   "source": [
    "#missing data handled"
   ]
  },
  {
   "cell_type": "code",
   "execution_count": 29,
   "id": "49d04198",
   "metadata": {},
   "outputs": [
    {
     "data": {
      "text/plain": [
       "0"
      ]
     },
     "execution_count": 29,
     "metadata": {},
     "output_type": "execute_result"
    }
   ],
   "source": [
    "y_train.isnull().sum()"
   ]
  },
  {
   "cell_type": "code",
   "execution_count": 30,
   "id": "3f24ef8c",
   "metadata": {},
   "outputs": [],
   "source": [
    " #encoding the data\n",
    "    "
   ]
  },
  {
   "cell_type": "code",
   "execution_count": 31,
   "id": "5d2b667d",
   "metadata": {},
   "outputs": [],
   "source": [
    "def labelencodermethod(series):\n",
    "    from sklearn import preprocessing\n",
    "    le=preprocessing.LabelEncoder()\n",
    "    le.fit(series)\n",
    "    return le.transform(series)"
   ]
  },
  {
   "cell_type": "code",
   "execution_count": 32,
   "id": "04f436ed",
   "metadata": {},
   "outputs": [],
   "source": [
    "y_train=labelencodermethod(y_train)"
   ]
  },
  {
   "cell_type": "code",
   "execution_count": 33,
   "id": "17e7a0b7",
   "metadata": {},
   "outputs": [
    {
     "data": {
      "text/plain": [
       "array([1, 0, 1, 1, 1, 1, 1, 0, 1, 0, 1, 1, 1, 0, 1, 1, 1, 0, 0, 1, 0, 1,\n",
       "       0, 0, 0, 1, 1, 1, 0, 1, 0, 0, 0, 1, 0, 1, 0, 1, 1, 1, 0, 1, 1, 1,\n",
       "       1, 1, 1, 1, 0, 1, 1, 1, 0, 0, 0, 1, 1, 0, 1, 1, 1, 1, 0, 0, 0, 0,\n",
       "       0, 1, 1, 0, 1, 1, 1, 0, 1, 0, 0, 0, 0, 1, 1, 1, 0, 0, 1, 1, 1, 1,\n",
       "       1, 1, 1, 1, 1, 1, 1, 0, 1, 1, 1, 1, 1, 1, 1, 1, 1, 1, 1, 0, 0, 1,\n",
       "       1, 1, 0, 1, 1, 1, 1, 1, 0, 1, 1, 1, 1, 1, 1, 1, 1, 1, 0, 0, 1, 1,\n",
       "       1, 1, 1, 0, 0, 1, 0, 0, 0, 1, 1, 1, 1, 1, 1, 1, 0, 1, 0, 1, 0, 0,\n",
       "       1, 1, 1, 1, 1, 1, 1, 0, 0, 1, 1, 1, 0, 1, 0, 1, 1, 1, 0, 1, 0, 1,\n",
       "       1, 0, 1, 0, 0, 0, 1, 0, 1, 1, 0, 1, 1, 1, 1, 0, 0, 1, 1, 0, 1, 1,\n",
       "       1, 0, 1, 1, 0, 1, 1, 1, 1, 1, 1, 0, 0, 0, 1, 1, 1, 1, 0, 1, 0, 1,\n",
       "       0, 1, 1, 1, 1, 0, 0, 1, 1, 1, 1, 1, 1, 1, 1, 1, 0, 1, 1, 1, 1, 0,\n",
       "       1, 1, 1, 0, 1, 1, 1, 1, 0, 0, 1, 1, 0, 1, 0, 0, 0, 0, 1, 1, 0, 1,\n",
       "       1, 1, 1, 1, 0, 1, 1, 1, 1, 1, 1, 1, 1, 1, 1, 1, 0, 1, 1, 1, 0, 1,\n",
       "       0, 1, 1, 1, 1, 0, 1, 0, 1, 1, 1, 1, 0, 0, 0, 1, 1, 1, 1, 0, 1, 0,\n",
       "       0, 1, 1, 1, 1, 1, 0, 1, 1, 1, 1, 0, 1, 1, 1, 1, 1, 0, 1, 1, 0, 1,\n",
       "       1, 1, 1, 1, 1, 1, 1, 1, 0, 1, 0, 0, 1, 1, 1, 1, 0, 1, 1, 1, 1, 0,\n",
       "       1, 0, 1, 1, 1, 0, 0, 1, 0, 1, 1, 1, 1, 0, 0, 0, 1, 0, 1, 1, 1, 0,\n",
       "       1, 1, 1, 1, 0, 1, 1, 1, 1, 1, 0, 1, 1, 0, 1, 1, 1, 1, 1, 1, 1, 1,\n",
       "       0, 1, 1, 0, 0, 0, 1, 1, 0, 1, 1, 1, 0, 0, 0, 1, 0, 1, 0, 1, 0, 0,\n",
       "       1, 1, 1, 0, 1, 0, 1, 1, 0, 1, 1, 1, 1, 0, 1, 1, 1, 1, 1, 1, 0, 1,\n",
       "       1, 1, 1, 1, 1, 1, 1, 0, 0, 0, 0, 1, 0, 1, 1, 1, 1, 0, 1, 0, 1, 1,\n",
       "       1, 1, 0, 1, 0, 1, 1, 0, 1, 0, 1, 1, 1, 1, 1, 0, 1, 0, 1, 1, 1, 1,\n",
       "       1, 1, 0, 0, 1, 0, 1, 1, 1, 1, 0, 1, 1, 1, 1, 0, 1, 1, 1, 0, 1, 1,\n",
       "       1, 0, 1, 1, 0, 1, 1, 0, 0, 1, 1, 0, 0, 0, 1, 1, 1, 1, 0, 1, 1, 1,\n",
       "       1, 1, 1, 1, 0, 0, 1, 1, 1, 1, 0, 1, 1, 0, 1, 1, 1, 1, 0, 1, 0, 1,\n",
       "       0, 1, 1, 0, 0, 1, 1, 1, 1, 1, 1, 1, 1, 1, 0, 1, 1, 0, 0, 0, 1, 0,\n",
       "       1, 0, 0, 1, 0, 1, 1, 1, 1, 0, 1, 0, 0, 0, 1, 1, 1, 0, 1, 0, 1, 1,\n",
       "       1, 1, 0, 0, 1, 1, 0, 1, 1, 1, 1, 0, 1, 1, 1, 1, 1, 1, 1, 0])"
      ]
     },
     "execution_count": 33,
     "metadata": {},
     "output_type": "execute_result"
    }
   ],
   "source": [
    "y_train"
   ]
  },
  {
   "cell_type": "code",
   "execution_count": 34,
   "id": "9d8613e4",
   "metadata": {},
   "outputs": [],
   "source": [
    "x_train=x_train.drop(\"Loan_ID\",axis=1)"
   ]
  },
  {
   "cell_type": "code",
   "execution_count": 35,
   "id": "171b8e82",
   "metadata": {},
   "outputs": [],
   "source": [
    "col_0=x_train.columns[0]"
   ]
  },
  {
   "cell_type": "code",
   "execution_count": 36,
   "id": "0549b9f7",
   "metadata": {},
   "outputs": [],
   "source": [
    "x_train[col_0]=labelencodermethod(x_train[col_0])"
   ]
  },
  {
   "cell_type": "code",
   "execution_count": 37,
   "id": "dded251e",
   "metadata": {},
   "outputs": [],
   "source": [
    "col_1=x_train.columns[1]"
   ]
  },
  {
   "cell_type": "code",
   "execution_count": 38,
   "id": "06b94bd0",
   "metadata": {},
   "outputs": [],
   "source": [
    "x_train[col_1]=labelencodermethod(x_train[col_1])"
   ]
  },
  {
   "cell_type": "code",
   "execution_count": 39,
   "id": "72fc3832",
   "metadata": {},
   "outputs": [],
   "source": [
    "col_2=x_train.columns[2]"
   ]
  },
  {
   "cell_type": "code",
   "execution_count": 40,
   "id": "5c3ee2e8",
   "metadata": {},
   "outputs": [],
   "source": [
    "x_train[col_2]=labelencodermethod(x_train[col_2])"
   ]
  },
  {
   "cell_type": "code",
   "execution_count": 41,
   "id": "12430f6c",
   "metadata": {},
   "outputs": [],
   "source": [
    "col_3=x_train.columns[3]"
   ]
  },
  {
   "cell_type": "code",
   "execution_count": 42,
   "id": "5227bddd",
   "metadata": {},
   "outputs": [],
   "source": [
    "x_train[col_3]=labelencodermethod(x_train[col_3])"
   ]
  },
  {
   "cell_type": "code",
   "execution_count": 43,
   "id": "fb25f938",
   "metadata": {},
   "outputs": [],
   "source": [
    "col_4=x_train.columns[4]"
   ]
  },
  {
   "cell_type": "code",
   "execution_count": 44,
   "id": "2ec3ccb3",
   "metadata": {},
   "outputs": [],
   "source": [
    "x_train[col_4]=labelencodermethod(x_train[col_4])"
   ]
  },
  {
   "cell_type": "code",
   "execution_count": 45,
   "id": "9190bfb1",
   "metadata": {},
   "outputs": [],
   "source": [
    "col_10=x_train.columns[10]\n",
    "x_train[col_10]=labelencodermethod(x_train[col_10])"
   ]
  },
  {
   "cell_type": "code",
   "execution_count": 46,
   "id": "17c44185",
   "metadata": {},
   "outputs": [
    {
     "data": {
      "text/html": [
       "<div>\n",
       "<style scoped>\n",
       "    .dataframe tbody tr th:only-of-type {\n",
       "        vertical-align: middle;\n",
       "    }\n",
       "\n",
       "    .dataframe tbody tr th {\n",
       "        vertical-align: top;\n",
       "    }\n",
       "\n",
       "    .dataframe thead th {\n",
       "        text-align: right;\n",
       "    }\n",
       "</style>\n",
       "<table border=\"1\" class=\"dataframe\">\n",
       "  <thead>\n",
       "    <tr style=\"text-align: right;\">\n",
       "      <th></th>\n",
       "      <th>Gender</th>\n",
       "      <th>Married</th>\n",
       "      <th>Dependents</th>\n",
       "      <th>Education</th>\n",
       "      <th>Self_Employed</th>\n",
       "      <th>ApplicantIncome</th>\n",
       "      <th>CoapplicantIncome</th>\n",
       "      <th>LoanAmount</th>\n",
       "      <th>Loan_Amount_Term</th>\n",
       "      <th>Credit_History</th>\n",
       "      <th>Property_Area</th>\n",
       "    </tr>\n",
       "  </thead>\n",
       "  <tbody>\n",
       "    <tr>\n",
       "      <th>0</th>\n",
       "      <td>1</td>\n",
       "      <td>0</td>\n",
       "      <td>0</td>\n",
       "      <td>0</td>\n",
       "      <td>0</td>\n",
       "      <td>5849.0</td>\n",
       "      <td>0.0</td>\n",
       "      <td>146.412162</td>\n",
       "      <td>360.0</td>\n",
       "      <td>1.0</td>\n",
       "      <td>2</td>\n",
       "    </tr>\n",
       "    <tr>\n",
       "      <th>1</th>\n",
       "      <td>1</td>\n",
       "      <td>1</td>\n",
       "      <td>1</td>\n",
       "      <td>0</td>\n",
       "      <td>0</td>\n",
       "      <td>4583.0</td>\n",
       "      <td>1508.0</td>\n",
       "      <td>128.000000</td>\n",
       "      <td>360.0</td>\n",
       "      <td>1.0</td>\n",
       "      <td>0</td>\n",
       "    </tr>\n",
       "    <tr>\n",
       "      <th>2</th>\n",
       "      <td>1</td>\n",
       "      <td>1</td>\n",
       "      <td>0</td>\n",
       "      <td>0</td>\n",
       "      <td>1</td>\n",
       "      <td>3000.0</td>\n",
       "      <td>0.0</td>\n",
       "      <td>66.000000</td>\n",
       "      <td>360.0</td>\n",
       "      <td>1.0</td>\n",
       "      <td>2</td>\n",
       "    </tr>\n",
       "    <tr>\n",
       "      <th>3</th>\n",
       "      <td>1</td>\n",
       "      <td>1</td>\n",
       "      <td>0</td>\n",
       "      <td>1</td>\n",
       "      <td>0</td>\n",
       "      <td>2583.0</td>\n",
       "      <td>2358.0</td>\n",
       "      <td>120.000000</td>\n",
       "      <td>360.0</td>\n",
       "      <td>1.0</td>\n",
       "      <td>2</td>\n",
       "    </tr>\n",
       "    <tr>\n",
       "      <th>4</th>\n",
       "      <td>1</td>\n",
       "      <td>0</td>\n",
       "      <td>0</td>\n",
       "      <td>0</td>\n",
       "      <td>0</td>\n",
       "      <td>6000.0</td>\n",
       "      <td>0.0</td>\n",
       "      <td>141.000000</td>\n",
       "      <td>360.0</td>\n",
       "      <td>1.0</td>\n",
       "      <td>2</td>\n",
       "    </tr>\n",
       "    <tr>\n",
       "      <th>...</th>\n",
       "      <td>...</td>\n",
       "      <td>...</td>\n",
       "      <td>...</td>\n",
       "      <td>...</td>\n",
       "      <td>...</td>\n",
       "      <td>...</td>\n",
       "      <td>...</td>\n",
       "      <td>...</td>\n",
       "      <td>...</td>\n",
       "      <td>...</td>\n",
       "      <td>...</td>\n",
       "    </tr>\n",
       "    <tr>\n",
       "      <th>609</th>\n",
       "      <td>0</td>\n",
       "      <td>0</td>\n",
       "      <td>0</td>\n",
       "      <td>0</td>\n",
       "      <td>0</td>\n",
       "      <td>2900.0</td>\n",
       "      <td>0.0</td>\n",
       "      <td>71.000000</td>\n",
       "      <td>360.0</td>\n",
       "      <td>1.0</td>\n",
       "      <td>0</td>\n",
       "    </tr>\n",
       "    <tr>\n",
       "      <th>610</th>\n",
       "      <td>1</td>\n",
       "      <td>1</td>\n",
       "      <td>3</td>\n",
       "      <td>0</td>\n",
       "      <td>0</td>\n",
       "      <td>4106.0</td>\n",
       "      <td>0.0</td>\n",
       "      <td>40.000000</td>\n",
       "      <td>180.0</td>\n",
       "      <td>1.0</td>\n",
       "      <td>0</td>\n",
       "    </tr>\n",
       "    <tr>\n",
       "      <th>611</th>\n",
       "      <td>1</td>\n",
       "      <td>1</td>\n",
       "      <td>1</td>\n",
       "      <td>0</td>\n",
       "      <td>0</td>\n",
       "      <td>8072.0</td>\n",
       "      <td>240.0</td>\n",
       "      <td>253.000000</td>\n",
       "      <td>360.0</td>\n",
       "      <td>1.0</td>\n",
       "      <td>2</td>\n",
       "    </tr>\n",
       "    <tr>\n",
       "      <th>612</th>\n",
       "      <td>1</td>\n",
       "      <td>1</td>\n",
       "      <td>2</td>\n",
       "      <td>0</td>\n",
       "      <td>0</td>\n",
       "      <td>7583.0</td>\n",
       "      <td>0.0</td>\n",
       "      <td>187.000000</td>\n",
       "      <td>360.0</td>\n",
       "      <td>1.0</td>\n",
       "      <td>2</td>\n",
       "    </tr>\n",
       "    <tr>\n",
       "      <th>613</th>\n",
       "      <td>0</td>\n",
       "      <td>0</td>\n",
       "      <td>0</td>\n",
       "      <td>0</td>\n",
       "      <td>1</td>\n",
       "      <td>4583.0</td>\n",
       "      <td>0.0</td>\n",
       "      <td>133.000000</td>\n",
       "      <td>360.0</td>\n",
       "      <td>0.0</td>\n",
       "      <td>1</td>\n",
       "    </tr>\n",
       "  </tbody>\n",
       "</table>\n",
       "<p>614 rows × 11 columns</p>\n",
       "</div>"
      ],
      "text/plain": [
       "     Gender  Married  Dependents  Education  Self_Employed  ApplicantIncome  \\\n",
       "0         1        0           0          0              0           5849.0   \n",
       "1         1        1           1          0              0           4583.0   \n",
       "2         1        1           0          0              1           3000.0   \n",
       "3         1        1           0          1              0           2583.0   \n",
       "4         1        0           0          0              0           6000.0   \n",
       "..      ...      ...         ...        ...            ...              ...   \n",
       "609       0        0           0          0              0           2900.0   \n",
       "610       1        1           3          0              0           4106.0   \n",
       "611       1        1           1          0              0           8072.0   \n",
       "612       1        1           2          0              0           7583.0   \n",
       "613       0        0           0          0              1           4583.0   \n",
       "\n",
       "     CoapplicantIncome  LoanAmount  Loan_Amount_Term  Credit_History  \\\n",
       "0                  0.0  146.412162             360.0             1.0   \n",
       "1               1508.0  128.000000             360.0             1.0   \n",
       "2                  0.0   66.000000             360.0             1.0   \n",
       "3               2358.0  120.000000             360.0             1.0   \n",
       "4                  0.0  141.000000             360.0             1.0   \n",
       "..                 ...         ...               ...             ...   \n",
       "609                0.0   71.000000             360.0             1.0   \n",
       "610                0.0   40.000000             180.0             1.0   \n",
       "611              240.0  253.000000             360.0             1.0   \n",
       "612                0.0  187.000000             360.0             1.0   \n",
       "613                0.0  133.000000             360.0             0.0   \n",
       "\n",
       "     Property_Area  \n",
       "0                2  \n",
       "1                0  \n",
       "2                2  \n",
       "3                2  \n",
       "4                2  \n",
       "..             ...  \n",
       "609              0  \n",
       "610              0  \n",
       "611              2  \n",
       "612              2  \n",
       "613              1  \n",
       "\n",
       "[614 rows x 11 columns]"
      ]
     },
     "execution_count": 46,
     "metadata": {},
     "output_type": "execute_result"
    }
   ],
   "source": [
    "x_train"
   ]
  },
  {
   "cell_type": "code",
   "execution_count": 47,
   "id": "4401f129",
   "metadata": {},
   "outputs": [
    {
     "data": {
      "text/plain": [
       "array([1, 0, 1, 1, 1, 1, 1, 0, 1, 0, 1, 1, 1, 0, 1, 1, 1, 0, 0, 1, 0, 1,\n",
       "       0, 0, 0, 1, 1, 1, 0, 1, 0, 0, 0, 1, 0, 1, 0, 1, 1, 1, 0, 1, 1, 1,\n",
       "       1, 1, 1, 1, 0, 1, 1, 1, 0, 0, 0, 1, 1, 0, 1, 1, 1, 1, 0, 0, 0, 0,\n",
       "       0, 1, 1, 0, 1, 1, 1, 0, 1, 0, 0, 0, 0, 1, 1, 1, 0, 0, 1, 1, 1, 1,\n",
       "       1, 1, 1, 1, 1, 1, 1, 0, 1, 1, 1, 1, 1, 1, 1, 1, 1, 1, 1, 0, 0, 1,\n",
       "       1, 1, 0, 1, 1, 1, 1, 1, 0, 1, 1, 1, 1, 1, 1, 1, 1, 1, 0, 0, 1, 1,\n",
       "       1, 1, 1, 0, 0, 1, 0, 0, 0, 1, 1, 1, 1, 1, 1, 1, 0, 1, 0, 1, 0, 0,\n",
       "       1, 1, 1, 1, 1, 1, 1, 0, 0, 1, 1, 1, 0, 1, 0, 1, 1, 1, 0, 1, 0, 1,\n",
       "       1, 0, 1, 0, 0, 0, 1, 0, 1, 1, 0, 1, 1, 1, 1, 0, 0, 1, 1, 0, 1, 1,\n",
       "       1, 0, 1, 1, 0, 1, 1, 1, 1, 1, 1, 0, 0, 0, 1, 1, 1, 1, 0, 1, 0, 1,\n",
       "       0, 1, 1, 1, 1, 0, 0, 1, 1, 1, 1, 1, 1, 1, 1, 1, 0, 1, 1, 1, 1, 0,\n",
       "       1, 1, 1, 0, 1, 1, 1, 1, 0, 0, 1, 1, 0, 1, 0, 0, 0, 0, 1, 1, 0, 1,\n",
       "       1, 1, 1, 1, 0, 1, 1, 1, 1, 1, 1, 1, 1, 1, 1, 1, 0, 1, 1, 1, 0, 1,\n",
       "       0, 1, 1, 1, 1, 0, 1, 0, 1, 1, 1, 1, 0, 0, 0, 1, 1, 1, 1, 0, 1, 0,\n",
       "       0, 1, 1, 1, 1, 1, 0, 1, 1, 1, 1, 0, 1, 1, 1, 1, 1, 0, 1, 1, 0, 1,\n",
       "       1, 1, 1, 1, 1, 1, 1, 1, 0, 1, 0, 0, 1, 1, 1, 1, 0, 1, 1, 1, 1, 0,\n",
       "       1, 0, 1, 1, 1, 0, 0, 1, 0, 1, 1, 1, 1, 0, 0, 0, 1, 0, 1, 1, 1, 0,\n",
       "       1, 1, 1, 1, 0, 1, 1, 1, 1, 1, 0, 1, 1, 0, 1, 1, 1, 1, 1, 1, 1, 1,\n",
       "       0, 1, 1, 0, 0, 0, 1, 1, 0, 1, 1, 1, 0, 0, 0, 1, 0, 1, 0, 1, 0, 0,\n",
       "       1, 1, 1, 0, 1, 0, 1, 1, 0, 1, 1, 1, 1, 0, 1, 1, 1, 1, 1, 1, 0, 1,\n",
       "       1, 1, 1, 1, 1, 1, 1, 0, 0, 0, 0, 1, 0, 1, 1, 1, 1, 0, 1, 0, 1, 1,\n",
       "       1, 1, 0, 1, 0, 1, 1, 0, 1, 0, 1, 1, 1, 1, 1, 0, 1, 0, 1, 1, 1, 1,\n",
       "       1, 1, 0, 0, 1, 0, 1, 1, 1, 1, 0, 1, 1, 1, 1, 0, 1, 1, 1, 0, 1, 1,\n",
       "       1, 0, 1, 1, 0, 1, 1, 0, 0, 1, 1, 0, 0, 0, 1, 1, 1, 1, 0, 1, 1, 1,\n",
       "       1, 1, 1, 1, 0, 0, 1, 1, 1, 1, 0, 1, 1, 0, 1, 1, 1, 1, 0, 1, 0, 1,\n",
       "       0, 1, 1, 0, 0, 1, 1, 1, 1, 1, 1, 1, 1, 1, 0, 1, 1, 0, 0, 0, 1, 0,\n",
       "       1, 0, 0, 1, 0, 1, 1, 1, 1, 0, 1, 0, 0, 0, 1, 1, 1, 0, 1, 0, 1, 1,\n",
       "       1, 1, 0, 0, 1, 1, 0, 1, 1, 1, 1, 0, 1, 1, 1, 1, 1, 1, 1, 0])"
      ]
     },
     "execution_count": 47,
     "metadata": {},
     "output_type": "execute_result"
    }
   ],
   "source": [
    "y_train"
   ]
  },
  {
   "cell_type": "code",
   "execution_count": 48,
   "id": "02009613",
   "metadata": {},
   "outputs": [],
   "source": [
    "from sklearn.model_selection import train_test_split\n",
    "x_train1,x_test1,y_train1,y_test1=train_test_split(x_train,y_train,test_size=0.3,random_state=2)"
   ]
  },
  {
   "cell_type": "code",
   "execution_count": 49,
   "id": "2604e98c",
   "metadata": {},
   "outputs": [],
   "source": [
    "x_test=df.iloc[:,:]"
   ]
  },
  {
   "cell_type": "code",
   "execution_count": 50,
   "id": "9dd6cfee",
   "metadata": {},
   "outputs": [
    {
     "data": {
      "text/html": [
       "<div>\n",
       "<style scoped>\n",
       "    .dataframe tbody tr th:only-of-type {\n",
       "        vertical-align: middle;\n",
       "    }\n",
       "\n",
       "    .dataframe tbody tr th {\n",
       "        vertical-align: top;\n",
       "    }\n",
       "\n",
       "    .dataframe thead th {\n",
       "        text-align: right;\n",
       "    }\n",
       "</style>\n",
       "<table border=\"1\" class=\"dataframe\">\n",
       "  <thead>\n",
       "    <tr style=\"text-align: right;\">\n",
       "      <th></th>\n",
       "      <th>Loan_ID</th>\n",
       "      <th>Gender</th>\n",
       "      <th>Married</th>\n",
       "      <th>Dependents</th>\n",
       "      <th>Education</th>\n",
       "      <th>Self_Employed</th>\n",
       "      <th>ApplicantIncome</th>\n",
       "      <th>CoapplicantIncome</th>\n",
       "      <th>LoanAmount</th>\n",
       "      <th>Loan_Amount_Term</th>\n",
       "      <th>Credit_History</th>\n",
       "      <th>Property_Area</th>\n",
       "    </tr>\n",
       "  </thead>\n",
       "  <tbody>\n",
       "    <tr>\n",
       "      <th>0</th>\n",
       "      <td>LP001015</td>\n",
       "      <td>Male</td>\n",
       "      <td>Yes</td>\n",
       "      <td>0</td>\n",
       "      <td>Graduate</td>\n",
       "      <td>No</td>\n",
       "      <td>5720</td>\n",
       "      <td>0</td>\n",
       "      <td>110.0</td>\n",
       "      <td>360.0</td>\n",
       "      <td>1.0</td>\n",
       "      <td>Urban</td>\n",
       "    </tr>\n",
       "    <tr>\n",
       "      <th>1</th>\n",
       "      <td>LP001022</td>\n",
       "      <td>Male</td>\n",
       "      <td>Yes</td>\n",
       "      <td>1</td>\n",
       "      <td>Graduate</td>\n",
       "      <td>No</td>\n",
       "      <td>3076</td>\n",
       "      <td>1500</td>\n",
       "      <td>126.0</td>\n",
       "      <td>360.0</td>\n",
       "      <td>1.0</td>\n",
       "      <td>Urban</td>\n",
       "    </tr>\n",
       "    <tr>\n",
       "      <th>2</th>\n",
       "      <td>LP001031</td>\n",
       "      <td>Male</td>\n",
       "      <td>Yes</td>\n",
       "      <td>2</td>\n",
       "      <td>Graduate</td>\n",
       "      <td>No</td>\n",
       "      <td>5000</td>\n",
       "      <td>1800</td>\n",
       "      <td>208.0</td>\n",
       "      <td>360.0</td>\n",
       "      <td>1.0</td>\n",
       "      <td>Urban</td>\n",
       "    </tr>\n",
       "    <tr>\n",
       "      <th>3</th>\n",
       "      <td>LP001035</td>\n",
       "      <td>Male</td>\n",
       "      <td>Yes</td>\n",
       "      <td>2</td>\n",
       "      <td>Graduate</td>\n",
       "      <td>No</td>\n",
       "      <td>2340</td>\n",
       "      <td>2546</td>\n",
       "      <td>100.0</td>\n",
       "      <td>360.0</td>\n",
       "      <td>NaN</td>\n",
       "      <td>Urban</td>\n",
       "    </tr>\n",
       "    <tr>\n",
       "      <th>4</th>\n",
       "      <td>LP001051</td>\n",
       "      <td>Male</td>\n",
       "      <td>No</td>\n",
       "      <td>0</td>\n",
       "      <td>Not Graduate</td>\n",
       "      <td>No</td>\n",
       "      <td>3276</td>\n",
       "      <td>0</td>\n",
       "      <td>78.0</td>\n",
       "      <td>360.0</td>\n",
       "      <td>1.0</td>\n",
       "      <td>Urban</td>\n",
       "    </tr>\n",
       "    <tr>\n",
       "      <th>...</th>\n",
       "      <td>...</td>\n",
       "      <td>...</td>\n",
       "      <td>...</td>\n",
       "      <td>...</td>\n",
       "      <td>...</td>\n",
       "      <td>...</td>\n",
       "      <td>...</td>\n",
       "      <td>...</td>\n",
       "      <td>...</td>\n",
       "      <td>...</td>\n",
       "      <td>...</td>\n",
       "      <td>...</td>\n",
       "    </tr>\n",
       "    <tr>\n",
       "      <th>362</th>\n",
       "      <td>LP002971</td>\n",
       "      <td>Male</td>\n",
       "      <td>Yes</td>\n",
       "      <td>3+</td>\n",
       "      <td>Not Graduate</td>\n",
       "      <td>Yes</td>\n",
       "      <td>4009</td>\n",
       "      <td>1777</td>\n",
       "      <td>113.0</td>\n",
       "      <td>360.0</td>\n",
       "      <td>1.0</td>\n",
       "      <td>Urban</td>\n",
       "    </tr>\n",
       "    <tr>\n",
       "      <th>363</th>\n",
       "      <td>LP002975</td>\n",
       "      <td>Male</td>\n",
       "      <td>Yes</td>\n",
       "      <td>0</td>\n",
       "      <td>Graduate</td>\n",
       "      <td>No</td>\n",
       "      <td>4158</td>\n",
       "      <td>709</td>\n",
       "      <td>115.0</td>\n",
       "      <td>360.0</td>\n",
       "      <td>1.0</td>\n",
       "      <td>Urban</td>\n",
       "    </tr>\n",
       "    <tr>\n",
       "      <th>364</th>\n",
       "      <td>LP002980</td>\n",
       "      <td>Male</td>\n",
       "      <td>No</td>\n",
       "      <td>0</td>\n",
       "      <td>Graduate</td>\n",
       "      <td>No</td>\n",
       "      <td>3250</td>\n",
       "      <td>1993</td>\n",
       "      <td>126.0</td>\n",
       "      <td>360.0</td>\n",
       "      <td>NaN</td>\n",
       "      <td>Semiurban</td>\n",
       "    </tr>\n",
       "    <tr>\n",
       "      <th>365</th>\n",
       "      <td>LP002986</td>\n",
       "      <td>Male</td>\n",
       "      <td>Yes</td>\n",
       "      <td>0</td>\n",
       "      <td>Graduate</td>\n",
       "      <td>No</td>\n",
       "      <td>5000</td>\n",
       "      <td>2393</td>\n",
       "      <td>158.0</td>\n",
       "      <td>360.0</td>\n",
       "      <td>1.0</td>\n",
       "      <td>Rural</td>\n",
       "    </tr>\n",
       "    <tr>\n",
       "      <th>366</th>\n",
       "      <td>LP002989</td>\n",
       "      <td>Male</td>\n",
       "      <td>No</td>\n",
       "      <td>0</td>\n",
       "      <td>Graduate</td>\n",
       "      <td>Yes</td>\n",
       "      <td>9200</td>\n",
       "      <td>0</td>\n",
       "      <td>98.0</td>\n",
       "      <td>180.0</td>\n",
       "      <td>1.0</td>\n",
       "      <td>Rural</td>\n",
       "    </tr>\n",
       "  </tbody>\n",
       "</table>\n",
       "<p>367 rows × 12 columns</p>\n",
       "</div>"
      ],
      "text/plain": [
       "      Loan_ID Gender Married Dependents     Education Self_Employed  \\\n",
       "0    LP001015   Male     Yes          0      Graduate            No   \n",
       "1    LP001022   Male     Yes          1      Graduate            No   \n",
       "2    LP001031   Male     Yes          2      Graduate            No   \n",
       "3    LP001035   Male     Yes          2      Graduate            No   \n",
       "4    LP001051   Male      No          0  Not Graduate            No   \n",
       "..        ...    ...     ...        ...           ...           ...   \n",
       "362  LP002971   Male     Yes         3+  Not Graduate           Yes   \n",
       "363  LP002975   Male     Yes          0      Graduate            No   \n",
       "364  LP002980   Male      No          0      Graduate            No   \n",
       "365  LP002986   Male     Yes          0      Graduate            No   \n",
       "366  LP002989   Male      No          0      Graduate           Yes   \n",
       "\n",
       "     ApplicantIncome  CoapplicantIncome  LoanAmount  Loan_Amount_Term  \\\n",
       "0               5720                  0       110.0             360.0   \n",
       "1               3076               1500       126.0             360.0   \n",
       "2               5000               1800       208.0             360.0   \n",
       "3               2340               2546       100.0             360.0   \n",
       "4               3276                  0        78.0             360.0   \n",
       "..               ...                ...         ...               ...   \n",
       "362             4009               1777       113.0             360.0   \n",
       "363             4158                709       115.0             360.0   \n",
       "364             3250               1993       126.0             360.0   \n",
       "365             5000               2393       158.0             360.0   \n",
       "366             9200                  0        98.0             180.0   \n",
       "\n",
       "     Credit_History Property_Area  \n",
       "0               1.0         Urban  \n",
       "1               1.0         Urban  \n",
       "2               1.0         Urban  \n",
       "3               NaN         Urban  \n",
       "4               1.0         Urban  \n",
       "..              ...           ...  \n",
       "362             1.0         Urban  \n",
       "363             1.0         Urban  \n",
       "364             NaN     Semiurban  \n",
       "365             1.0         Rural  \n",
       "366             1.0         Rural  \n",
       "\n",
       "[367 rows x 12 columns]"
      ]
     },
     "execution_count": 50,
     "metadata": {},
     "output_type": "execute_result"
    }
   ],
   "source": [
    "x_test"
   ]
  },
  {
   "cell_type": "code",
   "execution_count": 51,
   "id": "c0793420",
   "metadata": {},
   "outputs": [
    {
     "data": {
      "text/plain": [
       "[6, 7, 8, 9]"
      ]
     },
     "execution_count": 51,
     "metadata": {},
     "output_type": "execute_result"
    }
   ],
   "source": [
    "\n",
    "numeric_columns"
   ]
  },
  {
   "cell_type": "code",
   "execution_count": 52,
   "id": "0a0532f4",
   "metadata": {},
   "outputs": [
    {
     "data": {
      "text/plain": [
       "[10]"
      ]
     },
     "execution_count": 52,
     "metadata": {},
     "output_type": "execute_result"
    }
   ],
   "source": [
    "credit_score"
   ]
  },
  {
   "cell_type": "code",
   "execution_count": 53,
   "id": "f35b0c4c",
   "metadata": {},
   "outputs": [],
   "source": [
    "imp_mean=SimpleImputer(missing_values=np.nan,strategy='mean')"
   ]
  },
  {
   "cell_type": "code",
   "execution_count": 54,
   "id": "34947772",
   "metadata": {},
   "outputs": [
    {
     "data": {
      "text/plain": [
       "SimpleImputer()"
      ]
     },
     "execution_count": 54,
     "metadata": {},
     "output_type": "execute_result"
    }
   ],
   "source": [
    "imp_mean.fit(x_test.iloc[:,numeric_columns])\n",
    "#x_test.iloc[:,numeric_columns]=imp_mean.transform(x_test.iloc[:,numeric_columns])"
   ]
  },
  {
   "cell_type": "code",
   "execution_count": 55,
   "id": "a00acd86",
   "metadata": {},
   "outputs": [],
   "source": [
    "x_test.iloc[:,numeric_columns]=imp_mean.transform(x_test.iloc[:,numeric_columns])"
   ]
  },
  {
   "cell_type": "code",
   "execution_count": 56,
   "id": "015fc9c6",
   "metadata": {},
   "outputs": [],
   "source": [
    "imp_mean=SimpleImputer(missing_values=np.nan,strategy='most_frequent')"
   ]
  },
  {
   "cell_type": "code",
   "execution_count": 57,
   "id": "cc72b06f",
   "metadata": {},
   "outputs": [
    {
     "data": {
      "text/plain": [
       "SimpleImputer(strategy='most_frequent')"
      ]
     },
     "execution_count": 57,
     "metadata": {},
     "output_type": "execute_result"
    }
   ],
   "source": [
    "imp_mean.fit(x_test.iloc[:,string_columns])"
   ]
  },
  {
   "cell_type": "code",
   "execution_count": 58,
   "id": "2be26c22",
   "metadata": {},
   "outputs": [],
   "source": [
    "x_test.iloc[:,string_columns]=imp_mean.transform(x_test.iloc[:,string_columns])"
   ]
  },
  {
   "cell_type": "code",
   "execution_count": 59,
   "id": "03cfc28d",
   "metadata": {},
   "outputs": [
    {
     "data": {
      "text/plain": [
       "SimpleImputer(strategy='most_frequent')"
      ]
     },
     "execution_count": 59,
     "metadata": {},
     "output_type": "execute_result"
    }
   ],
   "source": [
    "imp_mean.fit(x_test.iloc[:,credit_score])"
   ]
  },
  {
   "cell_type": "code",
   "execution_count": 60,
   "id": "ae8a64a3",
   "metadata": {},
   "outputs": [],
   "source": [
    "x_test.iloc[:,credit_score]=imp_mean.transform(x_test.iloc[:,credit_score])"
   ]
  },
  {
   "cell_type": "code",
   "execution_count": 61,
   "id": "fcb9d4c3",
   "metadata": {},
   "outputs": [
    {
     "data": {
      "text/plain": [
       "Loan_ID              0\n",
       "Gender               0\n",
       "Married              0\n",
       "Dependents           0\n",
       "Education            0\n",
       "Self_Employed        0\n",
       "ApplicantIncome      0\n",
       "CoapplicantIncome    0\n",
       "LoanAmount           0\n",
       "Loan_Amount_Term     0\n",
       "Credit_History       0\n",
       "Property_Area        0\n",
       "dtype: int64"
      ]
     },
     "execution_count": 61,
     "metadata": {},
     "output_type": "execute_result"
    }
   ],
   "source": [
    "x_test.isnull().sum()"
   ]
  },
  {
   "cell_type": "code",
   "execution_count": 62,
   "id": "fceb3d86",
   "metadata": {},
   "outputs": [],
   "source": [
    "x_test=x_test.drop(\"Loan_ID\",axis=1)"
   ]
  },
  {
   "cell_type": "code",
   "execution_count": null,
   "id": "e5c3fe06",
   "metadata": {
    "scrolled": true
   },
   "outputs": [],
   "source": []
  },
  {
   "cell_type": "code",
   "execution_count": 63,
   "id": "62c8d2c0",
   "metadata": {},
   "outputs": [],
   "source": [
    "\n",
    "\n",
    "col_0=x_test.columns[0]\n",
    "x_test[col_0]=labelencodermethod(x_test[col_0])\n",
    "col_1=x_test.columns[1]\n",
    "x_test[col_1]=labelencodermethod(x_test[col_1])\n",
    "col_2=x_test.columns[2]\n",
    "x_test[col_2]=labelencodermethod(x_test[col_2])\n",
    "col_3=x_test.columns[3]\n",
    "x_test[col_3]=labelencodermethod(x_test[col_3])\n",
    "col_4=x_test.columns[4]\n",
    "x_test[col_4]=labelencodermethod(x_test[col_4])\n",
    "\n"
   ]
  },
  {
   "cell_type": "code",
   "execution_count": 64,
   "id": "2b64083e",
   "metadata": {},
   "outputs": [],
   "source": [
    "col_10=x_test.columns[10]\n",
    "x_test[col_10]=labelencodermethod(x_test[col_10])\n",
    "\n"
   ]
  },
  {
   "cell_type": "code",
   "execution_count": 65,
   "id": "6492e8b1",
   "metadata": {},
   "outputs": [
    {
     "data": {
      "text/html": [
       "<div>\n",
       "<style scoped>\n",
       "    .dataframe tbody tr th:only-of-type {\n",
       "        vertical-align: middle;\n",
       "    }\n",
       "\n",
       "    .dataframe tbody tr th {\n",
       "        vertical-align: top;\n",
       "    }\n",
       "\n",
       "    .dataframe thead th {\n",
       "        text-align: right;\n",
       "    }\n",
       "</style>\n",
       "<table border=\"1\" class=\"dataframe\">\n",
       "  <thead>\n",
       "    <tr style=\"text-align: right;\">\n",
       "      <th></th>\n",
       "      <th>Gender</th>\n",
       "      <th>Married</th>\n",
       "      <th>Dependents</th>\n",
       "      <th>Education</th>\n",
       "      <th>Self_Employed</th>\n",
       "      <th>ApplicantIncome</th>\n",
       "      <th>CoapplicantIncome</th>\n",
       "      <th>LoanAmount</th>\n",
       "      <th>Loan_Amount_Term</th>\n",
       "      <th>Credit_History</th>\n",
       "      <th>Property_Area</th>\n",
       "    </tr>\n",
       "  </thead>\n",
       "  <tbody>\n",
       "    <tr>\n",
       "      <th>0</th>\n",
       "      <td>1</td>\n",
       "      <td>1</td>\n",
       "      <td>0</td>\n",
       "      <td>0</td>\n",
       "      <td>0</td>\n",
       "      <td>5720.0</td>\n",
       "      <td>0.0</td>\n",
       "      <td>110.0</td>\n",
       "      <td>360.0</td>\n",
       "      <td>1.0</td>\n",
       "      <td>2</td>\n",
       "    </tr>\n",
       "    <tr>\n",
       "      <th>1</th>\n",
       "      <td>1</td>\n",
       "      <td>1</td>\n",
       "      <td>1</td>\n",
       "      <td>0</td>\n",
       "      <td>0</td>\n",
       "      <td>3076.0</td>\n",
       "      <td>1500.0</td>\n",
       "      <td>126.0</td>\n",
       "      <td>360.0</td>\n",
       "      <td>1.0</td>\n",
       "      <td>2</td>\n",
       "    </tr>\n",
       "    <tr>\n",
       "      <th>2</th>\n",
       "      <td>1</td>\n",
       "      <td>1</td>\n",
       "      <td>2</td>\n",
       "      <td>0</td>\n",
       "      <td>0</td>\n",
       "      <td>5000.0</td>\n",
       "      <td>1800.0</td>\n",
       "      <td>208.0</td>\n",
       "      <td>360.0</td>\n",
       "      <td>1.0</td>\n",
       "      <td>2</td>\n",
       "    </tr>\n",
       "    <tr>\n",
       "      <th>3</th>\n",
       "      <td>1</td>\n",
       "      <td>1</td>\n",
       "      <td>2</td>\n",
       "      <td>0</td>\n",
       "      <td>0</td>\n",
       "      <td>2340.0</td>\n",
       "      <td>2546.0</td>\n",
       "      <td>100.0</td>\n",
       "      <td>360.0</td>\n",
       "      <td>1.0</td>\n",
       "      <td>2</td>\n",
       "    </tr>\n",
       "    <tr>\n",
       "      <th>4</th>\n",
       "      <td>1</td>\n",
       "      <td>0</td>\n",
       "      <td>0</td>\n",
       "      <td>1</td>\n",
       "      <td>0</td>\n",
       "      <td>3276.0</td>\n",
       "      <td>0.0</td>\n",
       "      <td>78.0</td>\n",
       "      <td>360.0</td>\n",
       "      <td>1.0</td>\n",
       "      <td>2</td>\n",
       "    </tr>\n",
       "    <tr>\n",
       "      <th>...</th>\n",
       "      <td>...</td>\n",
       "      <td>...</td>\n",
       "      <td>...</td>\n",
       "      <td>...</td>\n",
       "      <td>...</td>\n",
       "      <td>...</td>\n",
       "      <td>...</td>\n",
       "      <td>...</td>\n",
       "      <td>...</td>\n",
       "      <td>...</td>\n",
       "      <td>...</td>\n",
       "    </tr>\n",
       "    <tr>\n",
       "      <th>362</th>\n",
       "      <td>1</td>\n",
       "      <td>1</td>\n",
       "      <td>3</td>\n",
       "      <td>1</td>\n",
       "      <td>1</td>\n",
       "      <td>4009.0</td>\n",
       "      <td>1777.0</td>\n",
       "      <td>113.0</td>\n",
       "      <td>360.0</td>\n",
       "      <td>1.0</td>\n",
       "      <td>2</td>\n",
       "    </tr>\n",
       "    <tr>\n",
       "      <th>363</th>\n",
       "      <td>1</td>\n",
       "      <td>1</td>\n",
       "      <td>0</td>\n",
       "      <td>0</td>\n",
       "      <td>0</td>\n",
       "      <td>4158.0</td>\n",
       "      <td>709.0</td>\n",
       "      <td>115.0</td>\n",
       "      <td>360.0</td>\n",
       "      <td>1.0</td>\n",
       "      <td>2</td>\n",
       "    </tr>\n",
       "    <tr>\n",
       "      <th>364</th>\n",
       "      <td>1</td>\n",
       "      <td>0</td>\n",
       "      <td>0</td>\n",
       "      <td>0</td>\n",
       "      <td>0</td>\n",
       "      <td>3250.0</td>\n",
       "      <td>1993.0</td>\n",
       "      <td>126.0</td>\n",
       "      <td>360.0</td>\n",
       "      <td>1.0</td>\n",
       "      <td>1</td>\n",
       "    </tr>\n",
       "    <tr>\n",
       "      <th>365</th>\n",
       "      <td>1</td>\n",
       "      <td>1</td>\n",
       "      <td>0</td>\n",
       "      <td>0</td>\n",
       "      <td>0</td>\n",
       "      <td>5000.0</td>\n",
       "      <td>2393.0</td>\n",
       "      <td>158.0</td>\n",
       "      <td>360.0</td>\n",
       "      <td>1.0</td>\n",
       "      <td>0</td>\n",
       "    </tr>\n",
       "    <tr>\n",
       "      <th>366</th>\n",
       "      <td>1</td>\n",
       "      <td>0</td>\n",
       "      <td>0</td>\n",
       "      <td>0</td>\n",
       "      <td>1</td>\n",
       "      <td>9200.0</td>\n",
       "      <td>0.0</td>\n",
       "      <td>98.0</td>\n",
       "      <td>180.0</td>\n",
       "      <td>1.0</td>\n",
       "      <td>0</td>\n",
       "    </tr>\n",
       "  </tbody>\n",
       "</table>\n",
       "<p>367 rows × 11 columns</p>\n",
       "</div>"
      ],
      "text/plain": [
       "     Gender  Married  Dependents  Education  Self_Employed  ApplicantIncome  \\\n",
       "0         1        1           0          0              0           5720.0   \n",
       "1         1        1           1          0              0           3076.0   \n",
       "2         1        1           2          0              0           5000.0   \n",
       "3         1        1           2          0              0           2340.0   \n",
       "4         1        0           0          1              0           3276.0   \n",
       "..      ...      ...         ...        ...            ...              ...   \n",
       "362       1        1           3          1              1           4009.0   \n",
       "363       1        1           0          0              0           4158.0   \n",
       "364       1        0           0          0              0           3250.0   \n",
       "365       1        1           0          0              0           5000.0   \n",
       "366       1        0           0          0              1           9200.0   \n",
       "\n",
       "     CoapplicantIncome  LoanAmount  Loan_Amount_Term  Credit_History  \\\n",
       "0                  0.0       110.0             360.0             1.0   \n",
       "1               1500.0       126.0             360.0             1.0   \n",
       "2               1800.0       208.0             360.0             1.0   \n",
       "3               2546.0       100.0             360.0             1.0   \n",
       "4                  0.0        78.0             360.0             1.0   \n",
       "..                 ...         ...               ...             ...   \n",
       "362             1777.0       113.0             360.0             1.0   \n",
       "363              709.0       115.0             360.0             1.0   \n",
       "364             1993.0       126.0             360.0             1.0   \n",
       "365             2393.0       158.0             360.0             1.0   \n",
       "366                0.0        98.0             180.0             1.0   \n",
       "\n",
       "     Property_Area  \n",
       "0                2  \n",
       "1                2  \n",
       "2                2  \n",
       "3                2  \n",
       "4                2  \n",
       "..             ...  \n",
       "362              2  \n",
       "363              2  \n",
       "364              1  \n",
       "365              0  \n",
       "366              0  \n",
       "\n",
       "[367 rows x 11 columns]"
      ]
     },
     "execution_count": 65,
     "metadata": {},
     "output_type": "execute_result"
    }
   ],
   "source": [
    "x_test"
   ]
  },
  {
   "cell_type": "code",
   "execution_count": null,
   "id": "24e21452",
   "metadata": {},
   "outputs": [],
   "source": []
  },
  {
   "cell_type": "code",
   "execution_count": 66,
   "id": "87355768",
   "metadata": {},
   "outputs": [],
   "source": [
    "#linear regression\n",
    "from sklearn.linear_model import LinearRegression\n",
    "from sklearn.metrics import r2_score\n",
    "model=LinearRegression()\n",
    "model.fit(x_train,y_train)\n",
    "y_pred=model.predict(x_test)"
   ]
  },
  {
   "cell_type": "code",
   "execution_count": 67,
   "id": "59947529",
   "metadata": {},
   "outputs": [
    {
     "data": {
      "text/plain": [
       "array([ 8.69763510e-01,  8.52294334e-01,  8.32219939e-01,  8.54211102e-01,\n",
       "        7.16501764e-01,  7.51197842e-01,  7.27016196e-01,  6.76441444e-02,\n",
       "        8.51220186e-01,  6.63357418e-01,  7.12685978e-01,  8.26342926e-01,\n",
       "        8.30666445e-01,  1.50475662e-01,  7.70044557e-01,  7.74350972e-01,\n",
       "        8.22710613e-01,  8.62338264e-01,  7.34974180e-01,  7.42964190e-01,\n",
       "        8.07676507e-01,  7.80701493e-01,  7.75855776e-01,  7.17145127e-01,\n",
       "        7.70177872e-01, -2.23800161e-01,  8.57668786e-01,  7.83445745e-01,\n",
       "        8.61085796e-01,  7.62366660e-01,  7.16839397e-01,  8.48464871e-01,\n",
       "        7.28526098e-01,  8.24293408e-01,  8.53411820e-01,  3.17725308e-02,\n",
       "        8.38056460e-01,  8.42059387e-01,  7.72121700e-01,  7.44248688e-01,\n",
       "        8.64272097e-01,  7.87131068e-01,  7.71116799e-01,  7.08142716e-01,\n",
       "        7.94988227e-01,  8.07379061e-01,  7.71655532e-01,  6.72946360e-01,\n",
       "        7.20636875e-01,  7.82481006e-01,  8.50058090e-01,  7.93100423e-01,\n",
       "        8.12329364e-01,  9.12377446e-01,  8.07827192e-01,  5.91738496e-02,\n",
       "        6.88377435e-01,  8.40433187e-01,  1.13909806e-01,  8.96884301e-01,\n",
       "        7.68925119e-01,  8.62348593e-01,  7.62046930e-01,  3.60077925e-02,\n",
       "        8.15201897e-01,  8.07497163e-01,  7.48638349e-02,  1.40608536e-01,\n",
       "        8.34697180e-01,  5.56310836e-02,  7.77247828e-01,  7.73326389e-01,\n",
       "        8.78753092e-01,  7.80267568e-01,  7.42077307e-01,  7.23935835e-01,\n",
       "        8.19801391e-01,  7.64621525e-01,  8.09396695e-01,  8.63856945e-01,\n",
       "        1.50611415e-01,  8.83702637e-01,  5.44736385e-02,  8.00479988e-01,\n",
       "        1.60668696e-01,  7.91365028e-01,  8.40204707e-01,  7.62774615e-01,\n",
       "        6.93335658e-01,  7.33596118e-01,  8.08254064e-01,  7.82788388e-01,\n",
       "        8.11662430e-01,  7.86513924e-01,  1.25634119e-01,  8.87534522e-01,\n",
       "        7.85661275e-01,  8.10948004e-01,  9.05746108e-01,  8.50383524e-01,\n",
       "        7.39454212e-01,  1.38909114e-01,  8.71614635e-01,  8.21530576e-01,\n",
       "        7.35321712e-01,  8.27226590e-01,  4.31523496e-02,  8.54379688e-01,\n",
       "        8.45427813e-01,  7.72426144e-01,  7.73648346e-01,  8.59135254e-01,\n",
       "        7.89295421e-01,  8.39777113e-01,  7.76214350e-01,  7.19890590e-01,\n",
       "        6.64434965e-01,  1.17305735e-01,  5.28153623e-02,  7.38692009e-02,\n",
       "        7.85852643e-01,  7.88217933e-01,  8.60521605e-01, -5.21307176e-02,\n",
       "        3.27916552e-02,  7.56976875e-01,  8.10117154e-02,  8.48302856e-01,\n",
       "        8.03556166e-01,  7.85684966e-01,  8.49909472e-01,  7.38003588e-01,\n",
       "        8.29485424e-01,  7.98759978e-01,  8.10919027e-01,  8.63660551e-01,\n",
       "        8.40601724e-01,  8.10357177e-01,  7.45699794e-01,  7.92627750e-01,\n",
       "        2.73385039e-02,  8.40889627e-01,  1.01364886e-01,  7.50392972e-01,\n",
       "        8.49427992e-01,  7.91572985e-01,  6.98910721e-01, -5.00140850e-02,\n",
       "        8.44252725e-01,  7.63249745e-01,  7.06868057e-01,  8.50716467e-01,\n",
       "        7.34926050e-01,  7.32175504e-02,  8.63582419e-01,  6.66249786e-01,\n",
       "        8.03161666e-01,  8.10908572e-01,  7.17684869e-01,  7.68628198e-01,\n",
       "        6.71893025e-01,  5.92889706e-02,  7.73149932e-01,  7.71723493e-01,\n",
       "        7.47561332e-01, -3.29730052e-02, -1.46219564e-02,  8.26786835e-01,\n",
       "        1.50620611e-01,  8.68719573e-01,  7.59519891e-01,  7.80107311e-01,\n",
       "        8.31333673e-01,  4.07573484e-02,  4.72602288e-02,  7.89718547e-01,\n",
       "        7.71359798e-01,  7.71950978e-01,  8.42487141e-01,  8.73843293e-01,\n",
       "        8.23027529e-01,  8.07453538e-01,  8.79546650e-01,  8.00620842e-01,\n",
       "        8.73578456e-01,  7.81318018e-01,  7.75931882e-01,  8.33120177e-01,\n",
       "        7.76317194e-01,  7.46550056e-01,  8.83126268e-01,  7.77550673e-01,\n",
       "        2.76745468e-02,  5.71374385e-02,  7.47424319e-01,  7.72121700e-01,\n",
       "        1.52521807e-01,  7.54236874e-01,  1.65502614e-01,  8.28185482e-01,\n",
       "        8.31506154e-01,  8.18406109e-01,  8.56488565e-01,  8.43495175e-01,\n",
       "        7.69109503e-01,  8.23668731e-01,  8.10677905e-01,  8.36575904e-01,\n",
       "        7.96785899e-01,  6.44829546e-01,  8.02312823e-01, -1.17311930e-02,\n",
       "        8.58961369e-01,  7.35090437e-01,  7.35327631e-01,  7.73609316e-01,\n",
       "        7.93980470e-01,  7.90934927e-01,  7.80665997e-01,  8.46756211e-01,\n",
       "        8.44258641e-01,  7.39781499e-01,  8.08559410e-01,  7.60113338e-01,\n",
       "        5.48951790e-02,  7.96786706e-01,  8.50575348e-01,  8.08839353e-01,\n",
       "        7.09235642e-01,  1.09260098e-01,  6.15989108e-01,  7.31568687e-01,\n",
       "        8.64478237e-01,  7.88493143e-01,  8.63612187e-01,  1.62474366e-02,\n",
       "        9.32560510e-03,  6.46678984e-01,  7.87472220e-01,  7.74015769e-01,\n",
       "        7.08982448e-01,  1.33030905e-01,  8.46391833e-01,  1.09647782e-01,\n",
       "        7.19751606e-01,  1.21251017e-01,  8.44634271e-01,  8.66526602e-01,\n",
       "        8.00825016e-01,  7.84482975e-01,  1.50302005e-01,  8.72249588e-01,\n",
       "        7.72873735e-01,  8.65624099e-01,  8.70006699e-01,  3.34484931e-02,\n",
       "        8.59465035e-01,  8.08050781e-01,  7.88243161e-01,  7.24508550e-01,\n",
       "        7.58615414e-01,  8.36894290e-01,  7.40089186e-01,  8.24294935e-01,\n",
       "        8.16315022e-01,  7.16382666e-01,  8.75047413e-02,  6.60593543e-01,\n",
       "        1.57175186e-01,  7.48072629e-01,  8.09102198e-01,  6.86572790e-01,\n",
       "        7.48258428e-01,  1.49752715e-01,  7.11306747e-02,  8.54702889e-01,\n",
       "        8.60364874e-01,  7.94723604e-01,  6.88933064e-02,  7.63933517e-01,\n",
       "        7.32527624e-01,  8.36211729e-01,  7.81642058e-01,  6.81494643e-01,\n",
       "        6.74605498e-01,  8.22335372e-01,  7.35263179e-01,  6.99630600e-01,\n",
       "        7.64967929e-01,  8.29246634e-01,  8.14935280e-01,  8.38599024e-01,\n",
       "        6.84929644e-01,  1.59655957e-01,  7.73759280e-01,  8.61742607e-01,\n",
       "        7.62554047e-01,  6.87620329e-01,  8.11456748e-01,  8.45914438e-01,\n",
       "        8.86566807e-01,  1.64812597e-01,  7.49982276e-01,  7.65783450e-01,\n",
       "        8.49432909e-01,  6.71336934e-01,  8.31706322e-01,  7.82142891e-01,\n",
       "        8.32971813e-01,  7.98683580e-01,  7.63518798e-01,  8.64449384e-04,\n",
       "        7.80835564e-01,  8.40540792e-01,  7.86455633e-01,  8.66042124e-01,\n",
       "        8.51516613e-01,  7.62768739e-02,  6.76006426e-01,  7.41101341e-01,\n",
       "        8.16840171e-01,  7.74530407e-01,  9.18864959e-01,  7.47606019e-01,\n",
       "        8.47418601e-01,  6.89422971e-02,  7.82473687e-01,  8.61042144e-01,\n",
       "        8.32191527e-01,  8.43782591e-01,  8.31641319e-01,  8.33718089e-01,\n",
       "        7.75497414e-01,  8.68062717e-01,  8.53781741e-01,  8.02050176e-01,\n",
       "        6.89755323e-01,  8.47328755e-01,  8.27800792e-01,  1.35966277e-02,\n",
       "        8.17142133e-01,  6.76834114e-01,  8.18724638e-01,  8.83326308e-01,\n",
       "        7.28502863e-01,  8.44290707e-01,  1.05468193e-01,  7.18470046e-01,\n",
       "        7.91217861e-01,  8.32270854e-01,  8.12878530e-01,  5.90498758e-01,\n",
       "        8.60818835e-01,  7.99418612e-01,  1.02834137e-01,  8.50014977e-01,\n",
       "        8.60941147e-01,  7.86682012e-01,  7.94913040e-01,  7.19207601e-01,\n",
       "        8.47597200e-01,  8.38725090e-01,  7.98736978e-01,  8.59279458e-01,\n",
       "        7.33154410e-01,  8.01980578e-01,  7.72507061e-01])"
      ]
     },
     "execution_count": 67,
     "metadata": {},
     "output_type": "execute_result"
    }
   ],
   "source": [
    "y_pred"
   ]
  },
  {
   "cell_type": "code",
   "execution_count": 68,
   "id": "44002d52",
   "metadata": {},
   "outputs": [
    {
     "data": {
      "text/plain": [
       "0.23976765837369607"
      ]
     },
     "execution_count": 68,
     "metadata": {},
     "output_type": "execute_result"
    }
   ],
   "source": [
    "#linear regression\n",
    "from sklearn.linear_model import LinearRegression\n",
    "from sklearn.metrics import r2_score\n",
    "model=LinearRegression()\n",
    "model.fit(x_train1,y_train1)\n",
    "y_pred=model.predict(x_test1)\n",
    "r2_score(y_test1,y_pred)"
   ]
  },
  {
   "cell_type": "code",
   "execution_count": null,
   "id": "d6689b37",
   "metadata": {},
   "outputs": [],
   "source": []
  },
  {
   "cell_type": "code",
   "execution_count": 69,
   "id": "3aea1ec5",
   "metadata": {},
   "outputs": [],
   "source": [
    "#Polynomial_Regression\n",
    "from sklearn.linear_model import LinearRegression\n",
    "from sklearn.preprocessing import PolynomialFeatures\n",
    "model=LinearRegression()\n",
    "poly=PolynomialFeatures(degree=2)\n",
    "x_train_poly=poly.fit_transform(x_train)\n",
    "model.fit(x_train_poly,y_train)\n",
    "x_test_poly=poly.fit_transform(x_test)\n",
    "y_pred=model.predict(x_test_poly)"
   ]
  },
  {
   "cell_type": "code",
   "execution_count": 70,
   "id": "5afb526b",
   "metadata": {},
   "outputs": [
    {
     "data": {
      "text/plain": [
       "array([ 0.82305087,  0.79255058,  0.77072307,  0.81982687,  0.60816919,\n",
       "        0.7756001 ,  0.78190302, -0.10756372,  1.02720656,  0.88033665,\n",
       "        0.58790174,  0.88205558,  1.03728411,  0.21039928,  0.81203498,\n",
       "        0.66442818,  0.78428273,  0.93108454,  0.68313125,  0.93632635,\n",
       "        0.85879559,  0.59477143,  0.68353503,  0.81955646,  0.78035996,\n",
       "       -0.50882611,  0.80715955,  0.76398866,  0.95685049,  0.80248114,\n",
       "        0.85549651,  0.79482092,  0.8462721 ,  0.8308293 ,  0.84842691,\n",
       "        0.25226713,  0.95039308,  0.75971362,  0.55189361,  0.7195091 ,\n",
       "        0.84535776,  0.77075749,  0.945104  ,  0.78913956,  0.78050114,\n",
       "        0.83238375,  0.81567461,  0.85036471,  0.74647067,  0.92544713,\n",
       "        0.78728302,  0.8560781 ,  0.88177769,  1.12678588,  0.66225701,\n",
       "        0.02964928,  0.62210232,  0.90975087, -0.0319759 ,  1.11185745,\n",
       "        0.91189019,  0.83944639,  0.69094662,  0.08894698,  0.75853086,\n",
       "        0.92924758,  0.01708675,  0.10756658,  0.83068065, -0.00610929,\n",
       "        0.83491267,  0.84017572,  0.7198915 ,  0.99933063,  1.03173405,\n",
       "        0.74246194,  0.82033184,  0.66006875,  0.89777716,  0.77910484,\n",
       "        0.02374399,  2.41469617, -0.24001898,  0.63517   ,  0.27567961,\n",
       "        0.78666606,  0.83524187,  0.83502295,  0.93094131,  0.63512476,\n",
       "        0.8958301 ,  0.6492019 ,  0.8658823 ,  0.96651659,  0.09466585,\n",
       "        0.75804147,  0.74387927,  0.92186884,  1.20408381,  0.93412693,\n",
       "        0.71270217, -0.26945046,  0.78237558,  0.61583439,  0.887021  ,\n",
       "        0.91468012,  0.06283345,  0.82369437,  0.90384004,  0.81015202,\n",
       "        0.7383951 ,  0.92497056,  0.77261114,  0.89149891,  0.72463017,\n",
       "        0.96997198,  1.04024735,  0.02913368,  0.17635256,  0.03250775,\n",
       "        0.70595238,  0.8018144 ,  0.82967973,  0.21173612,  0.04485199,\n",
       "        0.80426335,  0.06396767,  0.77560118,  0.87944612,  0.98469977,\n",
       "        0.83386044,  0.74412521,  0.84722032,  0.70521926,  0.86429494,\n",
       "        0.81510017,  0.74938677,  0.78593973,  0.85481066,  0.74371564,\n",
       "        0.1695654 ,  0.89585232,  0.2094953 ,  0.586248  ,  0.70727247,\n",
       "        0.90188627,  0.69982046, -0.01565096,  0.87936259,  0.6561641 ,\n",
       "        0.74118618,  0.84097912,  0.69290288,  0.03418994,  0.80914717,\n",
       "        0.58870282,  0.75810647,  0.77792827,  0.80599914,  0.56556511,\n",
       "        0.72909068,  0.22150631,  0.67872655,  0.6848656 ,  0.8955852 ,\n",
       "        0.1101374 ,  0.07113346,  0.84348809, -0.07715911,  0.53370154,\n",
       "        0.65000618,  0.59221587,  0.74866946,  0.15753961,  0.00690786,\n",
       "        0.74332521,  0.91015223,  0.67969581,  0.74934212,  1.18913468,\n",
       "        0.89069556,  0.90099828,  0.80601631,  0.69743431,  1.11443644,\n",
       "        0.77674213,  0.83891303,  0.844945  ,  0.52390115,  0.62111783,\n",
       "        0.36115496,  0.68784772,  0.07283996,  0.07602018,  0.75824443,\n",
       "        0.55189361,  0.08521632,  0.74327842, -0.06126047,  0.90532046,\n",
       "        0.5065386 ,  0.77154237,  0.84657137,  0.95994114,  0.93965573,\n",
       "        0.94384219,  0.86214921,  0.88287193,  0.78518117,  0.88672256,\n",
       "        0.78607936,  0.18036719,  0.99443983,  0.67039964,  0.86697675,\n",
       "        0.84419007,  0.53773167,  0.63113706,  0.88142573,  0.81433835,\n",
       "        0.84984692,  0.74650308,  0.5589418 ,  0.59316634, -0.03048444,\n",
       "        0.77886651,  0.85007632,  0.77527498,  0.79820556,  0.06271139,\n",
       "        0.84956599,  0.55460533,  1.00818506,  0.77526575,  0.92314403,\n",
       "        0.09221603,  0.42370778,  1.58008421,  0.81746403,  0.37963584,\n",
       "        0.59096519,  0.09267241,  0.93456049,  0.03617116,  0.85859267,\n",
       "        0.16169695,  0.79372789,  0.80065447,  0.74036155,  0.99315513,\n",
       "       -0.21171027,  1.03888255,  0.74483167,  0.8132087 ,  0.83018896,\n",
       "        0.20740837,  0.60281664,  0.83166327,  0.7817513 ,  0.92394148,\n",
       "        0.89745882,  0.94298641,  0.76130338,  0.35768863,  0.74575986,\n",
       "        0.87207224, -0.0516    ,  1.05833627,  0.07474697,  0.74739879,\n",
       "        0.97482015,  0.92891048,  0.5736449 ,  0.14219873,  0.08439263,\n",
       "        0.94896509,  0.80184702,  0.91243265,  0.10442682,  0.34806588,\n",
       "        0.8777263 ,  0.75784758,  0.76533341,  0.52555471,  1.15336245,\n",
       "        0.72892959,  0.79627442,  0.82407671,  0.66118166,  0.90550498,\n",
       "        0.91630742,  0.79937406,  0.58051303, -0.09532142,  0.82386958,\n",
       "        0.644413  ,  0.78886336,  0.58558754,  0.7024347 ,  0.76220112,\n",
       "        0.84818876, -0.02295993,  0.46065646,  0.65052564,  0.94938313,\n",
       "        0.65626384,  0.91062781,  0.58976176,  0.6900947 ,  0.91340062,\n",
       "        0.65792974,  0.26010629,  0.70467389,  0.74607587,  0.80450612,\n",
       "        0.88615622,  0.59282319,  0.10316429,  0.54534029,  0.74985753,\n",
       "        0.77318995,  1.02792607,  0.89464702,  1.20090397,  0.75703432,\n",
       "        0.23973953,  0.76895004,  0.80210237,  0.96170015,  0.91249873,\n",
       "        0.73910809,  0.83767047,  1.09808294,  0.80462205,  0.99952577,\n",
       "        0.70148397,  1.09100409,  0.83868448,  0.78216296,  0.1102465 ,\n",
       "        0.77870859,  0.735638  ,  0.61064767,  0.82772031,  0.62793955,\n",
       "        0.83302594,  0.01224808,  0.60623972,  0.77332204,  0.97926823,\n",
       "        0.66210346,  0.66439967,  0.84035728,  0.73016603,  0.08253595,\n",
       "        0.91330012,  0.85133025,  0.70514082,  0.63020137,  0.85086043,\n",
       "        1.1029884 ,  0.91752228,  0.7360118 ,  0.83132559,  0.86225085,\n",
       "        0.73656852,  0.87339985])"
      ]
     },
     "execution_count": 70,
     "metadata": {},
     "output_type": "execute_result"
    }
   ],
   "source": [
    "y_pred"
   ]
  },
  {
   "cell_type": "code",
   "execution_count": 71,
   "id": "73c5cd31",
   "metadata": {},
   "outputs": [
    {
     "data": {
      "text/plain": [
       "-0.42572241122263144"
      ]
     },
     "execution_count": 71,
     "metadata": {},
     "output_type": "execute_result"
    }
   ],
   "source": [
    "#Polynomial_Regression\n",
    "from sklearn.linear_model import LinearRegression\n",
    "from sklearn.preprocessing import PolynomialFeatures\n",
    "model=LinearRegression()\n",
    "poly=PolynomialFeatures(degree=2)\n",
    "x_train1_poly=poly.fit_transform(x_train1)\n",
    "model.fit(x_train1_poly,y_train1)\n",
    "x_test1_poly=poly.fit_transform(x_test1)\n",
    "y_pred=model.predict(x_test1_poly)\n",
    "r2_score(y_test1,y_pred)"
   ]
  },
  {
   "cell_type": "code",
   "execution_count": null,
   "id": "c3ea298a",
   "metadata": {},
   "outputs": [],
   "source": []
  },
  {
   "cell_type": "code",
   "execution_count": 72,
   "id": "e7284cc1",
   "metadata": {},
   "outputs": [],
   "source": [
    "#decision_tree\n",
    "from sklearn.tree import DecisionTreeRegressor\n",
    "model=DecisionTreeRegressor(max_depth=4)\n",
    "model.fit(x_train,y_train)\n",
    "y_pred=model.predict(x_test)\n"
   ]
  },
  {
   "cell_type": "code",
   "execution_count": 73,
   "id": "498b6eae",
   "metadata": {},
   "outputs": [
    {
     "data": {
      "text/plain": [
       "array([0.87555556, 0.87555556, 0.75694444, 0.87555556, 0.87555556,\n",
       "       0.75694444, 0.87555556, 0.01851852, 0.75694444, 0.87555556,\n",
       "       0.87555556, 0.75694444, 0.87555556, 0.125     , 0.87555556,\n",
       "       0.87555556, 0.75694444, 0.87555556, 0.75694444, 0.87555556,\n",
       "       0.87555556, 0.87555556, 0.87555556, 0.87555556, 0.75694444,\n",
       "       1.        , 0.75694444, 0.75694444, 0.87555556, 0.87555556,\n",
       "       0.87555556, 0.75694444, 0.75694444, 0.75694444, 0.87555556,\n",
       "       0.01851852, 0.75694444, 0.87555556, 0.87555556, 0.75694444,\n",
       "       0.87555556, 0.87555556, 0.87555556, 0.75694444, 0.87555556,\n",
       "       0.75694444, 0.75694444, 0.87555556, 0.75694444, 0.75694444,\n",
       "       0.87555556, 0.87555556, 0.75694444, 0.87555556, 0.87555556,\n",
       "       0.01851852, 0.74100719, 0.87555556, 0.01851852, 0.87555556,\n",
       "       0.87555556, 0.87555556, 0.75694444, 0.01851852, 0.87555556,\n",
       "       0.75694444, 0.125     , 0.01851852, 0.75694444, 0.01851852,\n",
       "       0.87555556, 0.87555556, 0.75694444, 0.74100719, 0.75694444,\n",
       "       0.75694444, 0.75694444, 0.74100719, 0.87555556, 0.75694444,\n",
       "       0.01851852, 0.75694444, 0.01851852, 0.74100719, 0.125     ,\n",
       "       0.74100719, 0.87555556, 0.87555556, 0.87555556, 0.74100719,\n",
       "       0.74100719, 0.41666667, 0.75694444, 0.87555556, 0.125     ,\n",
       "       0.87555556, 0.75694444, 0.75694444, 0.87555556, 0.75694444,\n",
       "       0.74100719, 0.01851852, 0.87555556, 0.74100719, 0.87555556,\n",
       "       0.75694444, 0.01851852, 0.74100719, 0.75694444, 0.75694444,\n",
       "       0.87555556, 0.87555556, 0.87555556, 0.87555556, 0.74100719,\n",
       "       0.75694444, 0.75694444, 0.01851852, 0.01851852, 0.01851852,\n",
       "       0.87555556, 0.74100719, 0.87555556, 0.01851852, 0.125     ,\n",
       "       0.87555556, 0.125     , 0.75694444, 0.87555556, 0.87555556,\n",
       "       0.87555556, 0.74100719, 0.74100719, 0.87555556, 0.87555556,\n",
       "       0.87555556, 0.74100719, 0.74100719, 0.87555556, 0.87555556,\n",
       "       0.125     , 0.74100719, 0.125     , 0.75694444, 0.41666667,\n",
       "       0.75694444, 0.87555556, 0.125     , 0.75694444, 0.75694444,\n",
       "       0.75694444, 0.87555556, 0.74100719, 0.01851852, 0.74100719,\n",
       "       0.87555556, 0.75694444, 0.74100719, 0.75694444, 0.74100719,\n",
       "       0.74100719, 0.01851852, 0.87555556, 0.74100719, 0.74100719,\n",
       "       0.01851852, 0.01851852, 0.87555556, 0.01851852, 0.74100719,\n",
       "       0.74100719, 0.74100719, 0.74100719, 0.01851852, 0.01851852,\n",
       "       0.74100719, 0.87555556, 0.74100719, 0.74100719, 0.75694444,\n",
       "       0.75694444, 0.75694444, 0.87555556, 0.74100719, 0.75694444,\n",
       "       0.87555556, 0.75694444, 0.75694444, 0.41666667, 0.74100719,\n",
       "       0.74100719, 0.87555556, 0.01851852, 0.01851852, 0.75694444,\n",
       "       0.87555556, 0.125     , 0.74100719, 0.01851852, 0.74100719,\n",
       "       0.74100719, 0.87555556, 0.87555556, 0.87555556, 0.87555556,\n",
       "       0.87555556, 0.75694444, 0.75694444, 0.87555556, 0.74100719,\n",
       "       0.87555556, 0.125     , 0.75694444, 0.74100719, 0.74100719,\n",
       "       0.75694444, 0.87555556, 0.74100719, 0.74100719, 0.87555556,\n",
       "       0.87555556, 0.74100719, 0.87555556, 0.74100719, 0.125     ,\n",
       "       0.87555556, 0.87555556, 0.74100719, 0.74100719, 0.125     ,\n",
       "       1.        , 0.75694444, 0.74100719, 0.87555556, 0.87555556,\n",
       "       0.01851852, 0.01851852, 0.        , 0.87555556, 0.87555556,\n",
       "       0.87555556, 0.01851852, 0.87555556, 0.01851852, 0.87555556,\n",
       "       0.01851852, 0.75694444, 0.87555556, 0.87555556, 0.74100719,\n",
       "       0.01851852, 0.87555556, 0.87555556, 0.87555556, 0.87555556,\n",
       "       0.01851852, 0.74100719, 0.75694444, 0.74100719, 0.74100719,\n",
       "       0.75694444, 0.87555556, 0.74100719, 0.41666667, 0.74100719,\n",
       "       0.75694444, 0.01851852, 0.74100719, 0.125     , 0.74100719,\n",
       "       0.87555556, 0.74100719, 0.75694444, 0.125     , 0.01851852,\n",
       "       0.87555556, 0.75694444, 0.87555556, 0.01851852, 0.75694444,\n",
       "       0.87555556, 0.74100719, 0.87555556, 0.74100719, 0.        ,\n",
       "       0.75694444, 0.74100719, 0.74100719, 0.75694444, 0.87555556,\n",
       "       0.75694444, 0.75694444, 0.74100719, 0.01851852, 0.87555556,\n",
       "       0.87555556, 0.87555556, 0.74100719, 0.87555556, 0.74100719,\n",
       "       0.87555556, 0.125     , 0.41666667, 0.74100719, 0.87555556,\n",
       "       0.75694444, 0.74100719, 0.74100719, 0.74100719, 0.87555556,\n",
       "       0.75694444, 0.01851852, 0.87555556, 0.74100719, 0.87555556,\n",
       "       0.75694444, 0.74100719, 0.01851852, 0.74100719, 0.87555556,\n",
       "       0.74100719, 0.75694444, 0.87555556, 0.87555556, 0.74100719,\n",
       "       0.01851852, 0.87555556, 0.75694444, 0.74100719, 0.87555556,\n",
       "       0.74100719, 0.75694444, 0.75694444, 0.87555556, 0.87555556,\n",
       "       0.87555556, 0.75694444, 0.87555556, 0.74100719, 0.125     ,\n",
       "       0.87555556, 0.74100719, 0.74100719, 0.87555556, 0.74100719,\n",
       "       0.75694444, 0.01851852, 0.87555556, 0.87555556, 0.74100719,\n",
       "       0.74100719, 1.        , 0.87555556, 0.74100719, 0.125     ,\n",
       "       0.75694444, 0.87555556, 0.87555556, 0.74100719, 0.75694444,\n",
       "       0.87555556, 0.87555556, 0.87555556, 0.87555556, 0.87555556,\n",
       "       0.74100719, 0.74100719])"
      ]
     },
     "execution_count": 73,
     "metadata": {},
     "output_type": "execute_result"
    }
   ],
   "source": [
    "y_pred"
   ]
  },
  {
   "cell_type": "code",
   "execution_count": 74,
   "id": "fd4a7447",
   "metadata": {},
   "outputs": [
    {
     "data": {
      "text/plain": [
       "0.15184593396058266"
      ]
     },
     "execution_count": 74,
     "metadata": {},
     "output_type": "execute_result"
    }
   ],
   "source": [
    "#decision_tree\n",
    "from sklearn.tree import DecisionTreeRegressor\n",
    "model=DecisionTreeRegressor(max_depth=4)\n",
    "model.fit(x_train1,y_train1)\n",
    "y_pred=model.predict(x_test1)\n",
    "r2_score(y_test1,y_pred)"
   ]
  },
  {
   "cell_type": "code",
   "execution_count": 75,
   "id": "24bf796b",
   "metadata": {},
   "outputs": [],
   "source": [
    "#Random_Forest\n",
    "from sklearn.ensemble import RandomForestRegressor\n",
    "model=RandomForestRegressor(n_estimators=25,random_state=10)\n",
    "model.fit(x_train,y_train)\n",
    "y_pred=model.predict(x_test)"
   ]
  },
  {
   "cell_type": "code",
   "execution_count": 76,
   "id": "c12ec9ac",
   "metadata": {},
   "outputs": [
    {
     "data": {
      "text/plain": [
       "array([0.92, 1.  , 0.88, 1.  , 0.68, 0.64, 0.8 , 0.  , 0.96, 0.96, 0.8 ,\n",
       "       0.8 , 0.92, 0.28, 0.92, 0.92, 0.76, 1.  , 0.64, 0.68, 0.96, 0.6 ,\n",
       "       0.92, 0.84, 0.52, 0.72, 0.8 , 0.48, 0.8 , 0.88, 0.8 , 0.88, 0.76,\n",
       "       0.76, 1.  , 0.12, 0.84, 0.88, 0.96, 0.76, 0.88, 0.96, 1.  , 0.56,\n",
       "       0.72, 0.68, 0.56, 0.96, 0.68, 0.68, 1.  , 0.96, 0.92, 0.92, 0.52,\n",
       "       0.12, 0.96, 0.92, 0.  , 0.64, 1.  , 1.  , 0.72, 0.04, 0.68, 0.96,\n",
       "       0.12, 0.08, 0.88, 0.12, 0.96, 0.76, 0.64, 0.64, 0.76, 0.88, 0.8 ,\n",
       "       0.88, 0.84, 0.72, 0.4 , 0.88, 0.  , 0.72, 0.28, 0.6 , 0.84, 0.92,\n",
       "       0.92, 0.6 , 0.88, 0.92, 0.76, 0.84, 0.08, 0.6 , 0.84, 0.96, 0.72,\n",
       "       0.88, 0.96, 0.  , 1.  , 0.52, 0.96, 0.72, 0.  , 0.56, 0.88, 0.68,\n",
       "       0.68, 0.88, 0.64, 0.96, 0.8 , 0.8 , 0.4 , 0.12, 0.04, 0.04, 0.88,\n",
       "       0.92, 0.8 , 0.32, 0.  , 0.88, 0.  , 0.96, 0.8 , 1.  , 0.96, 0.24,\n",
       "       0.84, 0.76, 0.56, 0.96, 0.72, 0.56, 0.92, 1.  , 0.24, 0.84, 0.12,\n",
       "       0.72, 0.72, 0.76, 0.88, 0.12, 0.92, 0.84, 0.72, 1.  , 0.84, 0.12,\n",
       "       0.68, 0.56, 0.64, 0.52, 0.52, 0.6 , 0.88, 0.  , 0.96, 0.76, 0.8 ,\n",
       "       0.24, 0.  , 1.  , 0.12, 0.24, 1.  , 0.68, 0.88, 0.12, 0.08, 0.88,\n",
       "       0.96, 0.88, 0.84, 0.92, 0.84, 0.8 , 0.68, 0.84, 0.76, 0.88, 0.84,\n",
       "       1.  , 0.6 , 0.72, 0.56, 0.64, 0.  , 0.08, 0.76, 0.96, 0.2 , 0.8 ,\n",
       "       0.08, 0.92, 0.56, 1.  , 1.  , 1.  , 0.96, 1.  , 0.8 , 0.76, 0.52,\n",
       "       0.6 , 0.6 , 0.2 , 0.68, 0.88, 0.84, 0.72, 0.76, 0.6 , 0.76, 0.96,\n",
       "       1.  , 0.8 , 0.4 , 0.76, 0.24, 0.88, 1.  , 0.76, 0.92, 0.16, 0.64,\n",
       "       0.88, 0.68, 0.84, 1.  , 0.12, 0.08, 0.72, 1.  , 0.2 , 0.92, 0.04,\n",
       "       0.92, 0.12, 0.96, 0.12, 0.84, 0.88, 0.48, 0.72, 0.04, 0.8 , 0.92,\n",
       "       1.  , 0.92, 0.  , 0.8 , 0.92, 0.92, 0.36, 0.56, 1.  , 0.32, 0.56,\n",
       "       0.48, 0.96, 0.  , 0.8 , 0.04, 0.48, 0.88, 0.84, 0.4 , 0.08, 0.  ,\n",
       "       1.  , 0.76, 0.76, 0.  , 0.48, 0.96, 0.8 , 0.92, 0.32, 0.64, 0.8 ,\n",
       "       0.84, 0.48, 0.84, 0.88, 0.72, 0.96, 0.76, 0.  , 0.84, 0.4 , 0.84,\n",
       "       0.44, 0.88, 0.84, 0.76, 0.  , 0.68, 0.4 , 0.92, 0.32, 0.84, 0.92,\n",
       "       0.84, 0.88, 0.8 , 0.16, 0.68, 0.8 , 0.72, 0.56, 0.72, 0.04, 0.72,\n",
       "       1.  , 0.76, 0.44, 0.72, 0.76, 0.84, 0.16, 1.  , 0.8 , 0.76, 0.92,\n",
       "       0.88, 0.8 , 0.68, 0.72, 0.88, 0.36, 0.88, 0.96, 0.72, 0.56, 0.72,\n",
       "       0.92, 0.36, 0.36, 0.88, 0.76, 0.  , 0.8 , 0.8 , 0.6 , 0.92, 0.52,\n",
       "       0.92, 0.76, 0.32, 0.88, 0.64, 0.96, 0.56, 0.88, 0.72, 0.92, 0.84,\n",
       "       0.92, 1.  , 0.52, 0.68])"
      ]
     },
     "execution_count": 76,
     "metadata": {},
     "output_type": "execute_result"
    }
   ],
   "source": [
    "y_pred"
   ]
  },
  {
   "cell_type": "code",
   "execution_count": 77,
   "id": "1a06a79a",
   "metadata": {},
   "outputs": [
    {
     "data": {
      "text/plain": [
       "0.2092066250339396"
      ]
     },
     "execution_count": 77,
     "metadata": {},
     "output_type": "execute_result"
    }
   ],
   "source": [
    "#Random_Forest\n",
    "from sklearn.ensemble import RandomForestRegressor\n",
    "model=RandomForestRegressor(n_estimators=25,random_state=10)\n",
    "model.fit(x_train1,y_train1)\n",
    "y_pred=model.predict(x_test1)\n",
    "r2_score(y_test1,y_pred)"
   ]
  },
  {
   "cell_type": "code",
   "execution_count": 78,
   "id": "cf5e8740",
   "metadata": {},
   "outputs": [],
   "source": [
    "#AdaBoost\n",
    "from sklearn.ensemble  import AdaBoostRegressor\n",
    "model=AdaBoostRegressor(random_state=0,n_estimators=100)\n",
    "model.fit(x_train,y_train)\n",
    "y_pred=model.predict(x_test)"
   ]
  },
  {
   "cell_type": "code",
   "execution_count": 79,
   "id": "bc88f2fa",
   "metadata": {},
   "outputs": [
    {
     "data": {
      "text/plain": [
       "array([0.72479564, 0.82536383, 0.70901639, 0.82536383, 0.72479564,\n",
       "       0.70901639, 0.72479564, 0.        , 0.62264151, 0.82536383,\n",
       "       0.72479564, 0.70901639, 0.72479564, 0.16666667, 0.72479564,\n",
       "       0.72479564, 0.70901639, 0.72479564, 0.69852941, 0.71875   ,\n",
       "       0.82536383, 0.72479564, 0.72479564, 0.72479564, 0.70901639,\n",
       "       0.0952381 , 0.70901639, 0.70901639, 0.82536383, 0.82536383,\n",
       "       0.72479564, 0.70901639, 0.69852941, 0.70901639, 0.82536383,\n",
       "       0.0952381 , 0.70901639, 0.82536383, 0.72479564, 0.69852941,\n",
       "       0.82536383, 0.72479564, 0.82536383, 0.69852941, 0.72479564,\n",
       "       0.70901639, 0.70901639, 0.82536383, 0.69852941, 0.71518987,\n",
       "       0.82536383, 0.82536383, 0.70901639, 0.82536383, 0.72479564,\n",
       "       0.0952381 , 0.71518987, 0.82536383, 0.06779661, 0.72479564,\n",
       "       0.82536383, 0.72479564, 0.71518987, 0.        , 0.72479564,\n",
       "       0.70901639, 0.        , 0.        , 0.71518987, 0.06779661,\n",
       "       0.72479564, 0.72479564, 0.70901639, 0.69852941, 0.70901639,\n",
       "       0.69852941, 0.70901639, 0.71518987, 0.82536383, 0.70901639,\n",
       "       0.06779661, 0.62264151, 0.        , 0.71518987, 0.        ,\n",
       "       0.82536383, 0.82536383, 0.72479564, 0.82536383, 0.71518987,\n",
       "       0.82536383, 0.62264151, 0.70901639, 0.82536383, 0.        ,\n",
       "       0.72479564, 0.70901639, 0.70901639, 0.72479564, 0.71518987,\n",
       "       0.71518987, 0.        , 0.72479564, 0.71518987, 0.82536383,\n",
       "       0.70901639, 0.        , 0.71518987, 0.71518987, 0.70901639,\n",
       "       0.72479564, 0.72479564, 0.72479564, 0.82536383, 0.69852941,\n",
       "       0.69852941, 0.6       , 0.        , 0.        , 0.06779661,\n",
       "       0.72479564, 0.69852941, 0.82536383, 0.0952381 , 0.16666667,\n",
       "       0.72479564, 0.        , 0.70901639, 0.72479564, 0.82536383,\n",
       "       0.82536383, 0.71518987, 0.82536383, 0.72479564, 0.72479564,\n",
       "       0.72479564, 0.71518987, 0.82536383, 0.82536383, 0.72479564,\n",
       "       0.0952381 , 0.82536383, 0.        , 0.62264151, 0.62264151,\n",
       "       0.5443038 , 0.72479564, 0.16666667, 0.71518987, 0.5443038 ,\n",
       "       0.69852941, 0.82536383, 0.71518987, 0.        , 0.71518987,\n",
       "       0.71875   , 0.70901639, 0.82536383, 0.69852941, 0.71518987,\n",
       "       0.69852941, 0.        , 0.72479564, 0.71518987, 0.82536383,\n",
       "       0.0952381 , 0.        , 0.82536383, 0.        , 0.71518987,\n",
       "       0.71518987, 0.71518987, 0.71518987, 0.0952381 , 0.        ,\n",
       "       0.69852941, 0.82536383, 0.71518987, 0.71518987, 0.62264151,\n",
       "       0.70901639, 0.70901639, 0.72479564, 0.69852941, 0.62264151,\n",
       "       0.72479564, 0.70901639, 0.71518987, 0.62264151, 0.69852941,\n",
       "       0.71518987, 0.72479564, 0.06779661, 0.        , 0.62264151,\n",
       "       0.72479564, 0.        , 0.82536383, 0.        , 0.82536383,\n",
       "       0.71518987, 0.72479564, 0.82536383, 0.82536383, 0.82536383,\n",
       "       0.82536383, 0.70901639, 0.70901639, 0.72479564, 0.82536383,\n",
       "       0.72479564, 0.16666667, 0.71518987, 0.71518987, 0.82536383,\n",
       "       0.70901639, 0.82536383, 0.69852941, 0.69852941, 0.82536383,\n",
       "       0.82536383, 0.69852941, 0.72479564, 0.71518987, 0.16666667,\n",
       "       0.72479564, 0.82536383, 0.82536383, 0.82536383, 0.        ,\n",
       "       0.62264151, 0.69852941, 0.6       , 0.72479564, 0.82536383,\n",
       "       0.0952381 , 0.        , 0.82536383, 0.82536383, 0.72479564,\n",
       "       0.72479564, 0.        , 0.82536383, 0.        , 0.72479564,\n",
       "       0.        , 0.70901639, 0.62264151, 0.72479564, 0.71518987,\n",
       "       0.        , 0.72479564, 0.72479564, 0.82536383, 0.82536383,\n",
       "       0.        , 0.71518987, 0.70901639, 0.69852941, 0.82536383,\n",
       "       0.70901639, 0.82536383, 0.71518987, 0.62264151, 0.69852941,\n",
       "       0.69852941, 0.        , 0.82536383, 0.06779661, 0.71518987,\n",
       "       0.71875   , 0.69852941, 0.62264151, 0.        , 0.        ,\n",
       "       0.82536383, 0.70901639, 0.72479564, 0.06779661, 0.62264151,\n",
       "       0.82536383, 0.71518987, 0.72479564, 0.71518987, 0.62264151,\n",
       "       0.70901639, 0.69852941, 0.82536383, 0.5443038 , 0.82536383,\n",
       "       0.70901639, 0.70901639, 0.71518987, 0.        , 0.82536383,\n",
       "       0.72479564, 0.72479564, 0.71518987, 0.72479564, 0.71518987,\n",
       "       0.72479564, 0.        , 0.62264151, 0.6       , 0.72479564,\n",
       "       0.69852941, 0.71518987, 0.71518987, 0.71518987, 0.82536383,\n",
       "       0.5443038 , 0.0952381 , 0.82536383, 0.71518987, 0.72479564,\n",
       "       0.70901639, 0.71518987, 0.        , 0.71518987, 0.82536383,\n",
       "       0.69852941, 0.5443038 , 0.72479564, 0.67013889, 0.71518987,\n",
       "       0.0952381 , 0.72479564, 0.70901639, 0.69852941, 0.82536383,\n",
       "       0.71518987, 0.70901639, 0.70901639, 0.72479564, 0.71875   ,\n",
       "       0.72479564, 0.69852941, 0.82536383, 0.82536383, 0.31034483,\n",
       "       0.82536383, 0.69852941, 0.71518987, 0.72479564, 0.71518987,\n",
       "       0.70901639, 0.        , 0.72479564, 0.82536383, 0.71518987,\n",
       "       0.71518987, 0.82536383, 0.82536383, 0.82536383, 0.        ,\n",
       "       0.70901639, 0.82536383, 0.72479564, 0.71518987, 0.69852941,\n",
       "       0.82536383, 0.82536383, 0.82536383, 0.72479564, 0.82536383,\n",
       "       0.69852941, 0.71518987])"
      ]
     },
     "execution_count": 79,
     "metadata": {},
     "output_type": "execute_result"
    }
   ],
   "source": [
    "y_pred"
   ]
  },
  {
   "cell_type": "code",
   "execution_count": 80,
   "id": "36a4efde",
   "metadata": {},
   "outputs": [
    {
     "data": {
      "text/plain": [
       "0.2526205324512927"
      ]
     },
     "execution_count": 80,
     "metadata": {},
     "output_type": "execute_result"
    }
   ],
   "source": [
    "#AdaBoost\n",
    "from sklearn.ensemble  import AdaBoostRegressor\n",
    "model=AdaBoostRegressor(random_state=0,n_estimators=100)\n",
    "model.fit(x_train1,y_train1)\n",
    "y_pred=model.predict(x_test1)\n",
    "r2_score(y_test1,y_pred)"
   ]
  },
  {
   "cell_type": "code",
   "execution_count": 81,
   "id": "d9f4c602",
   "metadata": {},
   "outputs": [
    {
     "name": "stdout",
     "output_type": "stream",
     "text": [
      "Requirement already satisfied: xgboost in c:\\users\\kiit\\anaconda3\\lib\\site-packages (1.7.4)\n",
      "Requirement already satisfied: scipy in c:\\users\\kiit\\anaconda3\\lib\\site-packages (from xgboost) (1.7.3)\n",
      "Requirement already satisfied: numpy in c:\\users\\kiit\\anaconda3\\lib\\site-packages (from xgboost) (1.21.5)\n",
      "Note: you may need to restart the kernel to use updated packages.\n"
     ]
    }
   ],
   "source": [
    " \n",
    "pip install xgboost"
   ]
  },
  {
   "cell_type": "code",
   "execution_count": 82,
   "id": "f8edffbd",
   "metadata": {},
   "outputs": [],
   "source": [
    "#XGBOOST\n",
    "import xgboost as xgb\n",
    "model=xgb.XGBRegressor(\n",
    "    n_estimators=100,\n",
    "    reg_lambda=1,\n",
    "    gamma=0,\n",
    "    max_depth=3,\n",
    "    learning_rate=0.05   \n",
    ")\n",
    "model.fit(x_train,y_train)\n",
    "y_pred=model.predict(x_test)\n"
   ]
  },
  {
   "cell_type": "code",
   "execution_count": 83,
   "id": "4e706bd1",
   "metadata": {},
   "outputs": [
    {
     "data": {
      "text/plain": [
       "array([ 0.82430685,  0.9016144 ,  0.7902868 ,  0.881788  ,  0.7432875 ,\n",
       "        0.7684514 ,  0.7933955 ,  0.04705422,  0.8152517 ,  0.87778986,\n",
       "        0.785792  ,  0.8168333 ,  0.86118454,  0.20383556,  0.8222748 ,\n",
       "        0.8145    ,  0.7786221 ,  0.8887361 ,  0.77817744,  0.7240094 ,\n",
       "        0.91885364,  0.7737355 ,  0.7852069 ,  0.788437  ,  0.751218  ,\n",
       "        0.32792494,  0.82222164,  0.751218  ,  0.9248859 ,  0.8587521 ,\n",
       "        0.7660248 ,  0.79540694,  0.8162146 ,  0.8388742 ,  0.88451695,\n",
       "        0.08375267,  0.8065188 ,  0.87286556,  0.80793744,  0.79399824,\n",
       "        0.8382437 ,  0.79024523,  0.90541935,  0.696223  ,  0.7439039 ,\n",
       "        0.76969963,  0.7454295 ,  0.84939086,  0.75975454,  0.7418628 ,\n",
       "        0.8903262 ,  0.8464952 ,  0.80250216,  0.9136266 ,  0.8003628 ,\n",
       "        0.093723  ,  0.7342055 ,  0.84495896,  0.11181303,  0.84252834,\n",
       "        0.90355474,  0.8576711 ,  0.7153367 ,  0.10340335,  0.8179002 ,\n",
       "        0.88916767,  0.21991724,  0.09137131,  0.8078879 ,  0.09529711,\n",
       "        0.827435  ,  0.6151014 ,  0.8132992 ,  0.72236836,  0.7736221 ,\n",
       "        0.72234005,  0.81064016,  0.7712228 ,  0.7967349 ,  0.7835527 ,\n",
       "        0.1998961 ,  0.7974956 , -0.01688717,  0.70351404,  0.26321673,\n",
       "        0.7276507 ,  0.77495927,  0.827435  ,  0.82999784,  0.624681  ,\n",
       "        0.8827115 ,  0.73736   ,  0.80082184,  0.8606915 ,  0.24558823,\n",
       "        0.84756666,  0.7758546 ,  0.8183936 ,  0.66848546,  0.82958907,\n",
       "        0.769333  ,  0.03986362,  0.8408096 ,  0.78266793,  0.8531037 ,\n",
       "        0.7516771 ,  0.07845141,  0.80515987,  0.8137815 ,  0.7454295 ,\n",
       "        0.80517733,  0.8414111 ,  0.71852815,  0.9445757 ,  0.76064074,\n",
       "        0.8007246 ,  0.3913677 ,  0.04929597,  0.09736243,  0.08727238,\n",
       "        0.62865674,  0.8024837 ,  0.8640513 ,  0.12225212,  0.06343558,\n",
       "        0.8222748 ,  0.01890786,  0.8152517 ,  0.7621932 ,  0.88364   ,\n",
       "        0.9016144 ,  0.7104595 ,  0.84775   ,  0.7852069 ,  0.72343016,\n",
       "        0.83628416,  0.7473082 ,  0.8205453 ,  0.8530904 ,  0.8168667 ,\n",
       "        0.24190766,  0.867974  ,  0.03887985,  0.5351891 ,  0.7777917 ,\n",
       "        0.7584896 ,  0.8085293 ,  0.02275027,  0.83004826,  0.7584896 ,\n",
       "        0.7432175 ,  0.88451695,  0.71332264,  0.10720003,  0.69655544,\n",
       "        0.7901029 ,  0.7786221 ,  0.77325237,  0.7857566 ,  0.671934  ,\n",
       "        0.6308925 ,  0.07800432,  0.80793744,  0.55181116,  0.71655434,\n",
       "        0.15742813,  0.02694937,  0.85476565,  0.11753149,  0.63758695,\n",
       "        0.7534782 ,  0.76819414,  0.75427717,  0.2262049 ,  0.11099199,\n",
       "        0.7662834 ,  0.9159242 ,  0.55181116,  0.7631996 ,  0.8152517 ,\n",
       "        0.8290675 ,  0.81686527,  0.82810915,  0.7445973 ,  0.8342269 ,\n",
       "        0.74766016,  0.76540875,  0.82958907,  0.6459201 ,  0.7498949 ,\n",
       "        0.78863394,  0.7852069 ,  0.08063144,  0.11728004,  0.75829864,\n",
       "        0.80793744,  0.24443203,  0.85128945,  0.0972323 ,  0.8383264 ,\n",
       "        0.5931684 ,  0.86342454,  0.88451695,  0.9185558 ,  0.80724853,\n",
       "        0.93565327,  0.8108197 ,  0.8619747 ,  0.72343016,  0.80118805,\n",
       "        0.79211944,  0.10066452,  0.8068125 ,  0.71332264,  0.8306065 ,\n",
       "        0.7914043 ,  0.9606497 ,  0.71908855,  0.7047255 ,  0.8597848 ,\n",
       "        0.88453025,  0.6838632 ,  0.6036958 ,  0.71332264,  0.13480799,\n",
       "        0.7621932 ,  0.88451695,  0.7716593 ,  0.8172594 ,  0.07720763,\n",
       "        0.69714683,  0.8147677 ,  0.751135  ,  0.800139  ,  0.8732287 ,\n",
       "        0.06848849,  0.12516786,  0.4242549 ,  0.9030134 ,  0.4464649 ,\n",
       "        0.7663012 ,  0.09555642,  0.8427434 ,  0.10340335,  0.61499566,\n",
       "        0.1301741 ,  0.8063302 ,  0.79944414,  0.6329424 ,  0.76310974,\n",
       "        0.02834983,  0.7879401 ,  0.83664256,  0.86870724,  0.8426873 ,\n",
       "        0.09003174,  0.78190684,  0.80502105,  0.8137719 ,  0.65398633,\n",
       "        0.76476675,  0.9072543 ,  0.7047081 ,  0.6723868 ,  0.76149625,\n",
       "        0.77839565,  0.00915332,  0.7971396 ,  0.13533072,  0.7034198 ,\n",
       "        0.87153906,  0.6294735 ,  0.66332453,  0.10542751,  0.06754823,\n",
       "        0.91617674,  0.79944414,  0.80517733,  0.08128856,  0.7428603 ,\n",
       "        0.8702012 ,  0.7962374 ,  0.7801432 ,  0.72764295,  0.42641973,\n",
       "        0.77042973,  0.7592405 ,  0.7484058 ,  0.77502304,  0.80675465,\n",
       "        0.80410165,  0.8636881 ,  0.73280317,  0.10342082,  0.8703055 ,\n",
       "        0.6652908 ,  0.80517733,  0.6140126 ,  0.8451629 ,  0.8129651 ,\n",
       "        0.7703229 ,  0.06222669,  0.6873087 ,  0.67153114,  0.90454584,\n",
       "        0.7148615 ,  0.77008474,  0.76943684,  0.73838574,  0.8749187 ,\n",
       "        0.7584896 ,  0.12704043,  0.8303664 ,  0.7473082 ,  0.77502304,\n",
       "        0.81686527,  0.7962374 ,  0.02174907,  0.72764295,  0.8470874 ,\n",
       "        0.8024704 ,  0.7113204 ,  0.73080426,  0.8537135 ,  0.7741016 ,\n",
       "        0.00615353,  0.9027376 ,  0.80362177,  0.78905994,  0.8427434 ,\n",
       "        0.75427717,  0.8152517 ,  0.71056503,  0.8386442 ,  0.87100595,\n",
       "        0.83850354,  0.7672978 ,  0.8903262 ,  0.8174268 ,  0.4099926 ,\n",
       "        0.93565327,  0.72953206,  0.60298115,  0.75689703,  0.71332264,\n",
       "        0.8152517 ,  0.06329428,  0.7432875 ,  0.7225411 ,  0.8156534 ,\n",
       "        0.77008474,  0.68778425,  0.84328204,  0.8152126 ,  0.0922124 ,\n",
       "        0.8181835 ,  0.79634595,  0.84086925,  0.7074613 ,  0.795082  ,\n",
       "        0.82657903,  0.9072676 ,  0.8507977 ,  0.85707635,  0.8701879 ,\n",
       "        0.75736094,  0.7406347 ], dtype=float32)"
      ]
     },
     "execution_count": 83,
     "metadata": {},
     "output_type": "execute_result"
    }
   ],
   "source": [
    "y_pred"
   ]
  },
  {
   "cell_type": "code",
   "execution_count": 84,
   "id": "b0fdbe5a",
   "metadata": {},
   "outputs": [
    {
     "data": {
      "text/plain": [
       "0.2267393917536893"
      ]
     },
     "execution_count": 84,
     "metadata": {},
     "output_type": "execute_result"
    }
   ],
   "source": [
    "#XGBOOST\n",
    "import xgboost as xgb\n",
    "model=xgb.XGBRegressor(\n",
    "    n_estimators=100,\n",
    "    reg_lambda=1,\n",
    "    gamma=0,\n",
    "    max_depth=3,\n",
    "    learning_rate=0.05   \n",
    ")\n",
    "model.fit(x_train1,y_train1)\n",
    "y_pred=model.predict(x_test1)\n",
    "r2_score(y_test1,y_pred)"
   ]
  },
  {
   "cell_type": "code",
   "execution_count": 85,
   "id": "99ca6762",
   "metadata": {},
   "outputs": [],
   "source": [
    "#SUPPORT_VECTOR_MACHINE\n",
    "from sklearn.svm import SVR\n",
    "model=SVR()\n",
    "model.fit(x_train,y_train)\n",
    "y_pred=model.predict(x_test)"
   ]
  },
  {
   "cell_type": "code",
   "execution_count": 86,
   "id": "e0091927",
   "metadata": {},
   "outputs": [
    {
     "data": {
      "text/plain": [
       "array([0.89978608, 0.90006931, 0.89972527, 0.89985099, 0.9000437 ,\n",
       "       0.89984302, 0.89884177, 0.9000865 , 0.90031976, 0.89979057,\n",
       "       0.89991235, 0.89996169, 0.90023551, 0.90050694, 0.9000384 ,\n",
       "       0.89979491, 0.89991819, 0.90033868, 0.76854501, 0.8998874 ,\n",
       "       0.90022828, 0.89854577, 0.90015869, 0.90011304, 0.9019902 ,\n",
       "       0.46560986, 0.90000925, 0.8942621 , 0.90043472, 0.89946164,\n",
       "       0.89926029, 0.90002841, 0.89984665, 0.89950802, 0.90016676,\n",
       "       0.89976792, 0.89491405, 0.89988389, 0.89976266, 0.89967021,\n",
       "       0.90011225, 0.90011779, 0.90006139, 0.89964197, 0.90015986,\n",
       "       0.90111633, 0.89985071, 0.9000321 , 0.8989337 , 0.89986202,\n",
       "       0.90005351, 0.90035997, 0.89962183, 0.90031687, 0.89989283,\n",
       "       0.89950727, 0.90008303, 0.90000055, 0.89988462, 0.90011233,\n",
       "       0.90009195, 0.89988166, 0.89990655, 0.90011987, 0.90007247,\n",
       "       0.89997319, 0.90001868, 0.90002516, 0.89977111, 0.90174863,\n",
       "       0.90000237, 0.90012783, 0.89951086, 0.89934832, 0.90105743,\n",
       "       0.8999942 , 0.8994059 , 0.89964249, 0.9008521 , 0.89982183,\n",
       "       0.90010024, 0.50553487, 0.89991975, 0.89996621, 0.90012081,\n",
       "       0.88983923, 0.89970765, 0.89988559, 0.89985773, 0.89987624,\n",
       "       0.8996106 , 0.90019807, 0.89960023, 0.89991229, 0.89979676,\n",
       "       0.89969244, 0.90056526, 0.89981893, 0.90007259, 0.89968518,\n",
       "       0.90007406, 0.89861095, 0.90013801, 0.89957175, 0.89993748,\n",
       "       0.8999435 , 0.89987075, 0.90007383, 0.90005563, 0.89990627,\n",
       "       0.90003345, 0.90016386, 0.9000661 , 0.89986366, 0.90285209,\n",
       "       0.9016333 , 0.89596449, 0.9001057 , 0.89997987, 0.89965413,\n",
       "       0.89997904, 0.90011905, 0.89995734, 0.90256007, 0.90047784,\n",
       "       0.90004166, 0.89964094, 0.89975598, 0.89992161, 0.89982151,\n",
       "       0.90017073, 0.90000154, 0.90006228, 0.90014287, 0.90011696,\n",
       "       0.90010955, 0.90004711, 0.89986639, 0.90021552, 0.90015145,\n",
       "       0.89999833, 0.89959521, 0.8999766 , 0.56096321, 0.90054884,\n",
       "       0.90048524, 0.900024  , 0.90000164, 0.90018222, 0.89974809,\n",
       "       0.90088666, 0.90017065, 0.89994067, 0.89980218, 0.90002225,\n",
       "       0.89985137, 0.9016823 , 0.89968508, 0.90006796, 0.89977882,\n",
       "       0.90163221, 0.89982323, 0.89981607, 0.8995995 , 0.89964682,\n",
       "       0.89863512, 0.89959118, 0.8996755 , 0.90003575, 0.90014669,\n",
       "       0.90014764, 0.90006895, 0.89989103, 0.89926797, 0.90004789,\n",
       "       0.90298212, 0.89980823, 0.89981945, 0.89991384, 0.90011527,\n",
       "       0.8995578 , 0.89989662, 0.90011174, 0.90096418, 0.89628338,\n",
       "       0.9000638 , 0.90001475, 0.90014305, 0.90042668, 0.88978801,\n",
       "       0.90005274, 0.90016011, 0.89955283, 0.89986428, 0.87609313,\n",
       "       0.89976266, 0.90001406, 0.90006162, 0.90019792, 0.90009264,\n",
       "       0.89963952, 0.90032094, 0.90025765, 0.89965242, 0.90004936,\n",
       "       0.89972373, 0.89991642, 0.90023192, 0.90016271, 0.90053347,\n",
       "       0.89910905, 0.89991988, 0.89984948, 0.89978219, 0.90059848,\n",
       "       0.89964233, 0.89914659, 0.89694227, 0.89949053, 0.89963041,\n",
       "       0.89997036, 0.8995622 , 0.89964213, 0.89997725, 0.89986256,\n",
       "       0.89936455, 0.9000798 , 0.90059071, 0.89970141, 0.89990902,\n",
       "       0.25898548, 0.89959587, 0.89941739, 0.89968046, 0.90009479,\n",
       "       0.89957955, 0.90207592, 0.62154429, 0.90026973, 0.89998214,\n",
       "       0.90015019, 0.89996818, 0.90039257, 0.9000401 , 0.89857488,\n",
       "       0.89940808, 0.89984399, 0.900252  , 0.90020077, 0.89984767,\n",
       "       0.90016408, 0.90023096, 0.90011756, 0.90020708, 0.89993176,\n",
       "       0.89964291, 0.90016787, 0.90112318, 0.9001034 , 0.90122471,\n",
       "       0.89946653, 0.90009966, 0.90042857, 0.90125604, 0.90010681,\n",
       "       0.89991191, 0.89992295, 0.90046213, 0.90009769, 0.90010192,\n",
       "       0.90000961, 0.90028613, 0.82644809, 0.90005522, 0.90010548,\n",
       "       0.90016467, 0.89968149, 0.89988628, 0.9001893 , 0.61816949,\n",
       "       0.89995625, 0.89995704, 0.89982362, 0.89999729, 0.52099777,\n",
       "       0.90004814, 0.89974494, 0.90086132, 0.89995007, 0.88465443,\n",
       "       0.8995644 , 0.8995189 , 0.9000216 , 0.90007365, 0.89988971,\n",
       "       0.89938748, 0.89966922, 0.90017697, 0.90012066, 0.90011808,\n",
       "       0.89964862, 0.89969102, 0.90014588, 0.89899924, 0.90025694,\n",
       "       0.90010427, 0.89974352, 0.90012809, 0.89968011, 0.90239367,\n",
       "       0.89986733, 0.90207007, 0.89957865, 0.89993966, 0.90013319,\n",
       "       0.89963594, 0.90011262, 0.90013806, 0.90001382, 0.89958967,\n",
       "       0.90003441, 0.89966736, 0.90003784, 0.70692048, 0.8998829 ,\n",
       "       0.89912519, 0.90014438, 0.9001337 , 0.89969477, 0.89994475,\n",
       "       0.89982574, 0.90028908, 0.89945692, 0.9000379 , 0.90014984,\n",
       "       0.89919252, 0.89972749, 0.90011665, 0.89983268, 0.89961422,\n",
       "       0.90133407, 0.90158229, 0.90013802, 0.90006113, 0.89968426,\n",
       "       0.89993764, 0.89970886, 0.89976276, 0.90006141, 0.89969899,\n",
       "       0.90002141, 0.67270389, 0.90009282, 0.90160956, 0.90007651,\n",
       "       0.89927817, 0.89979732, 0.8993261 , 0.89996478, 0.89960612,\n",
       "       0.87929419, 0.8999789 , 0.89980082, 0.90031424, 0.89973938,\n",
       "       0.89989412, 0.90020162])"
      ]
     },
     "execution_count": 86,
     "metadata": {},
     "output_type": "execute_result"
    }
   ],
   "source": [
    "y_pred"
   ]
  },
  {
   "cell_type": "code",
   "execution_count": 87,
   "id": "7a40fab3",
   "metadata": {},
   "outputs": [
    {
     "data": {
      "text/plain": [
       "-0.18969352451247468"
      ]
     },
     "execution_count": 87,
     "metadata": {},
     "output_type": "execute_result"
    }
   ],
   "source": [
    "#SUPPORT_VECTOR_MACHINE\n",
    "from sklearn.svm import SVR\n",
    "model=SVR()\n",
    "model.fit(x_train1,y_train1)\n",
    "y_pred=model.predict(x_test1)\n",
    "r2_score(y_test1,y_pred)"
   ]
  },
  {
   "cell_type": "code",
   "execution_count": null,
   "id": "4abc433e",
   "metadata": {},
   "outputs": [],
   "source": []
  },
  {
   "cell_type": "code",
   "execution_count": 88,
   "id": "4f1325d5",
   "metadata": {},
   "outputs": [],
   "source": [
    "from sklearn import preprocessing\n",
    "from sklearn.feature_selection import SelectKBest, chi2"
   ]
  },
  {
   "cell_type": "code",
   "execution_count": 89,
   "id": "690b0682",
   "metadata": {},
   "outputs": [],
   "source": [
    "sc=preprocessing.StandardScaler(with_mean=False)\n",
    "sc.fit(x_train1)\n",
    "x_train1=sc.transform(x_train1)\n",
    "sc.fit(x_test1)\n",
    "x_test1=sc.transform(x_test1)"
   ]
  },
  {
   "cell_type": "code",
   "execution_count": 90,
   "id": "6b8e1476",
   "metadata": {},
   "outputs": [],
   "source": [
    "#KNN\n",
    "from sklearn.neighbors import KNeighborsClassifier\n",
    "knnClassifier=KNeighborsClassifier(n_neighbors=8)\n",
    "knnClassifier.fit(x_train,y_train)\n",
    "y_pred=knnClassifier.predict(x_test)\n"
   ]
  },
  {
   "cell_type": "code",
   "execution_count": 91,
   "id": "c78c6cac",
   "metadata": {},
   "outputs": [
    {
     "data": {
      "text/plain": [
       "array([1, 1, 0, 1, 1, 1, 0, 1, 1, 1, 1, 1, 1, 1, 0, 1, 0, 1, 1, 0, 1, 0,\n",
       "       1, 1, 1, 0, 1, 1, 1, 1, 1, 0, 1, 1, 0, 1, 1, 1, 1, 1, 1, 1, 1, 1,\n",
       "       1, 1, 1, 1, 0, 1, 1, 1, 1, 1, 1, 0, 1, 1, 1, 0, 1, 1, 0, 1, 0, 1,\n",
       "       1, 0, 1, 1, 1, 0, 1, 1, 1, 1, 0, 0, 0, 1, 1, 1, 1, 1, 1, 1, 1, 1,\n",
       "       1, 1, 1, 1, 1, 0, 0, 0, 0, 1, 1, 1, 1, 0, 1, 0, 1, 1, 1, 0, 0, 1,\n",
       "       0, 1, 0, 1, 0, 0, 0, 0, 1, 0, 1, 1, 1, 1, 1, 0, 1, 1, 1, 1, 0, 0,\n",
       "       1, 0, 1, 0, 0, 0, 0, 1, 0, 1, 1, 1, 0, 1, 1, 1, 1, 1, 1, 0, 0, 1,\n",
       "       1, 1, 0, 1, 0, 1, 0, 1, 1, 0, 1, 0, 1, 1, 0, 0, 1, 0, 1, 1, 0, 1,\n",
       "       1, 1, 1, 1, 1, 0, 1, 0, 1, 0, 1, 1, 1, 1, 1, 1, 1, 1, 1, 1, 0, 1,\n",
       "       1, 1, 1, 1, 1, 0, 1, 1, 1, 1, 1, 1, 0, 1, 1, 1, 1, 1, 1, 1, 1, 1,\n",
       "       1, 1, 1, 0, 1, 1, 0, 0, 1, 1, 0, 1, 1, 1, 1, 1, 1, 1, 1, 1, 1, 1,\n",
       "       1, 0, 0, 1, 0, 1, 1, 1, 1, 1, 1, 1, 1, 1, 1, 0, 1, 1, 1, 1, 1, 1,\n",
       "       1, 1, 1, 1, 1, 0, 1, 1, 1, 1, 0, 0, 1, 1, 1, 1, 1, 0, 1, 1, 0, 1,\n",
       "       1, 1, 1, 1, 1, 1, 1, 1, 1, 0, 0, 1, 1, 1, 1, 0, 1, 0, 1, 1, 1, 1,\n",
       "       1, 0, 1, 1, 1, 0, 1, 1, 1, 0, 0, 1, 0, 1, 1, 0, 1, 1, 1, 1, 1, 1,\n",
       "       1, 1, 1, 0, 1, 1, 0, 1, 1, 1, 1, 0, 1, 1, 1, 1, 1, 1, 1, 1, 1, 1,\n",
       "       1, 1, 1, 1, 1, 1, 1, 1, 1, 1, 1, 1, 1, 0, 1])"
      ]
     },
     "execution_count": 91,
     "metadata": {},
     "output_type": "execute_result"
    }
   ],
   "source": [
    "y_pred"
   ]
  },
  {
   "cell_type": "code",
   "execution_count": 92,
   "id": "46db0c99",
   "metadata": {},
   "outputs": [
    {
     "data": {
      "text/plain": [
       "0.8108108108108109"
      ]
     },
     "execution_count": 92,
     "metadata": {},
     "output_type": "execute_result"
    }
   ],
   "source": [
    "#KNN\n",
    "from sklearn.neighbors import KNeighborsClassifier\n",
    "knnClassifier=KNeighborsClassifier(n_neighbors=8)\n",
    "knnClassifier.fit(x_train1,y_train1)\n",
    "y_pred=knnClassifier.predict(x_test1)\n",
    "from sklearn.metrics import accuracy_score\n",
    "accuracy_score(y_pred,y_test1)"
   ]
  },
  {
   "cell_type": "code",
   "execution_count": null,
   "id": "1dcd23dc",
   "metadata": {},
   "outputs": [],
   "source": []
  },
  {
   "cell_type": "code",
   "execution_count": null,
   "id": "50e4f544",
   "metadata": {},
   "outputs": [],
   "source": []
  },
  {
   "cell_type": "code",
   "execution_count": 93,
   "id": "4c072df7",
   "metadata": {},
   "outputs": [],
   "source": [
    "#this dataset has been evaluated using different type of regressions and classification techniques,\n",
    "#thus if we are provided with y_test we can find the r2 score of the model which can be used to find,\n",
    "#put the accuracy of the model."
   ]
  },
  {
   "cell_type": "code",
   "execution_count": 94,
   "id": "c87f601f",
   "metadata": {},
   "outputs": [],
   "source": [
    "#LogicticReression\n",
    "from sklearn.linear_model import LogisticRegression\n",
    "LRM=LogisticRegression(random_state=1,max_iter=500)\n",
    "LRM.fit(x_train,y_train)\n",
    "y_pred=LRM.predict(x_test)\n"
   ]
  },
  {
   "cell_type": "code",
   "execution_count": 95,
   "id": "ce4a3daa",
   "metadata": {},
   "outputs": [
    {
     "data": {
      "text/plain": [
       "array([1, 1, 1, 1, 1, 1, 1, 0, 1, 1, 1, 1, 1, 0, 1, 1, 1, 1, 1, 1, 1, 1,\n",
       "       1, 1, 1, 0, 1, 1, 1, 1, 1, 1, 1, 1, 1, 0, 1, 1, 1, 1, 1, 1, 1, 1,\n",
       "       1, 1, 1, 1, 1, 1, 1, 1, 1, 1, 1, 0, 1, 1, 0, 1, 1, 1, 1, 0, 1, 1,\n",
       "       0, 0, 1, 0, 1, 1, 1, 1, 1, 1, 1, 1, 1, 1, 0, 1, 0, 1, 0, 1, 1, 1,\n",
       "       1, 1, 1, 1, 1, 1, 0, 1, 1, 1, 1, 1, 1, 0, 1, 1, 1, 1, 0, 1, 1, 1,\n",
       "       1, 1, 1, 1, 1, 1, 1, 0, 0, 0, 1, 1, 1, 0, 0, 1, 0, 1, 1, 1, 1, 1,\n",
       "       1, 1, 1, 1, 1, 1, 1, 1, 0, 1, 0, 1, 1, 1, 1, 0, 1, 1, 1, 1, 1, 0,\n",
       "       1, 1, 1, 1, 1, 1, 1, 0, 1, 1, 1, 0, 0, 1, 0, 1, 1, 1, 1, 0, 0, 1,\n",
       "       1, 1, 1, 1, 1, 1, 1, 1, 1, 1, 1, 1, 1, 1, 1, 1, 0, 0, 1, 1, 0, 1,\n",
       "       0, 1, 1, 1, 1, 1, 1, 1, 1, 1, 1, 1, 1, 0, 1, 1, 1, 1, 1, 1, 1, 1,\n",
       "       1, 1, 1, 1, 0, 1, 1, 1, 1, 0, 1, 1, 1, 1, 1, 0, 0, 1, 1, 1, 1, 0,\n",
       "       1, 0, 1, 0, 1, 1, 1, 1, 0, 1, 1, 1, 1, 0, 1, 1, 1, 1, 1, 1, 1, 1,\n",
       "       1, 1, 0, 1, 0, 1, 1, 1, 1, 0, 0, 1, 1, 1, 0, 1, 1, 1, 1, 1, 1, 1,\n",
       "       1, 1, 1, 1, 1, 1, 1, 0, 1, 1, 1, 1, 1, 1, 1, 0, 1, 1, 1, 1, 1, 1,\n",
       "       1, 1, 1, 0, 1, 1, 1, 1, 1, 0, 1, 1, 1, 1, 1, 1, 1, 0, 1, 1, 1, 1,\n",
       "       1, 1, 1, 1, 1, 1, 1, 1, 1, 0, 1, 1, 1, 1, 1, 1, 0, 1, 1, 1, 1, 1,\n",
       "       1, 1, 0, 1, 1, 1, 1, 1, 1, 1, 1, 1, 1, 1, 1])"
      ]
     },
     "execution_count": 95,
     "metadata": {},
     "output_type": "execute_result"
    }
   ],
   "source": [
    "y_pred"
   ]
  },
  {
   "cell_type": "code",
   "execution_count": 96,
   "id": "9363038e",
   "metadata": {},
   "outputs": [
    {
     "data": {
      "text/plain": [
       "0.8"
      ]
     },
     "execution_count": 96,
     "metadata": {},
     "output_type": "execute_result"
    }
   ],
   "source": [
    "#LogicticReression\n",
    "from sklearn.linear_model import LogisticRegression\n",
    "LRM=LogisticRegression(random_state=1,max_iter=500)\n",
    "LRM.fit(x_train1,y_train1)\n",
    "y_pred=LRM.predict(x_test1)\n",
    "accuracy_score(y_pred,y_test1)"
   ]
  },
  {
   "cell_type": "code",
   "execution_count": 97,
   "id": "e2f393a9",
   "metadata": {},
   "outputs": [],
   "source": [
    "male=data[data['Gender']=='Male'].shape[0]"
   ]
  },
  {
   "cell_type": "code",
   "execution_count": 98,
   "id": "877f88d2",
   "metadata": {},
   "outputs": [],
   "source": [
    "#as we have 489 rows we know there are 489 males"
   ]
  },
  {
   "cell_type": "code",
   "execution_count": 99,
   "id": "c6942901",
   "metadata": {},
   "outputs": [],
   "source": [
    "\n",
    "female=data[data['Gender']=='Female'].shape[0]"
   ]
  },
  {
   "cell_type": "code",
   "execution_count": 100,
   "id": "a9843f4a",
   "metadata": {},
   "outputs": [],
   "source": [
    "#as we have 112 rows we know there are 112 females"
   ]
  },
  {
   "cell_type": "code",
   "execution_count": 101,
   "id": "739e4743",
   "metadata": {},
   "outputs": [
    {
     "name": "stdout",
     "output_type": "stream",
     "text": [
      "0.22903885480572597\n"
     ]
    }
   ],
   "source": [
    "#1\n",
    "ratio=female/male\n",
    "print(ratio)"
   ]
  },
  {
   "cell_type": "code",
   "execution_count": null,
   "id": "f0c7ebb9",
   "metadata": {},
   "outputs": [],
   "source": []
  },
  {
   "cell_type": "code",
   "execution_count": null,
   "id": "3b1e1857",
   "metadata": {},
   "outputs": [],
   "source": []
  },
  {
   "cell_type": "code",
   "execution_count": 102,
   "id": "cffe1a27",
   "metadata": {},
   "outputs": [
    {
     "name": "stdout",
     "output_type": "stream",
     "text": [
      "Married males are:\n",
      "357\n",
      "UnMarried males are:\n",
      "130\n"
     ]
    }
   ],
   "source": [
    "#2\n",
    "married_males=len(data.loc[((data['Married'] == 'Yes') & (data['Gender'] == 'Male'))])\n",
    "print(\"Married males are:\")\n",
    "print(married_males)\n",
    "unmarried_males=len(data.loc[((data['Married'] == 'No') & (data['Gender'] == 'Male'))])\n",
    "print(\"UnMarried males are:\")\n",
    "print(unmarried_males)"
   ]
  },
  {
   "cell_type": "code",
   "execution_count": null,
   "id": "4ee52f18",
   "metadata": {},
   "outputs": [],
   "source": []
  },
  {
   "cell_type": "code",
   "execution_count": 103,
   "id": "7462cf1f",
   "metadata": {},
   "outputs": [
    {
     "name": "stdout",
     "output_type": "stream",
     "text": [
      "Married Females are:\n",
      "31\n",
      "Unmarried Females are:\n",
      "80\n"
     ]
    }
   ],
   "source": [
    "#3\n",
    "married_females=len(data.loc[((data['Married'] == 'Yes') & (data['Gender'] == 'Female'))])\n",
    "print(\"Married Females are:\")\n",
    "print(married_females)\n",
    "unmarried_females=len(data.loc[((data['Married'] == 'No') & (data['Gender'] == 'Female'))])\n",
    "print(\"Unmarried Females are:\")\n",
    "print(unmarried_females)"
   ]
  },
  {
   "cell_type": "code",
   "execution_count": null,
   "id": "48d3b13a",
   "metadata": {},
   "outputs": [],
   "source": []
  },
  {
   "cell_type": "code",
   "execution_count": 104,
   "id": "34b84796",
   "metadata": {},
   "outputs": [
    {
     "name": "stdout",
     "output_type": "stream",
     "text": [
      "graduated_married_females are :\n",
      "25\n",
      "graduated_unmarried_females are :\n",
      "66\n",
      "non_graduated_married_females are :\n",
      "6\n",
      "non_graduated_unmarried_females are :\n",
      "14\n"
     ]
    }
   ],
   "source": [
    "#4.\n",
    "graduated_married_females=len(data.loc[((data['Married'] == 'Yes') & (data['Gender'] == 'Female') & (data['Education'] == 'Graduate'))])\n",
    "print(\"graduated_married_females are :\")\n",
    "print(graduated_married_females)\n",
    "graduated_unmarried_females=len(data.loc[((data['Married'] == 'No') & (data['Gender'] == 'Female') & (data['Education'] == 'Graduate'))])\n",
    "print(\"graduated_unmarried_females are :\")\n",
    "print(graduated_unmarried_females)\n",
    "nongraduated_married_females=len(data.loc[((data['Married'] == 'Yes') & (data['Gender'] == 'Female') & (data['Education'] == 'Not Graduate'))])\n",
    "print(\"non_graduated_married_females are :\")\n",
    "print(nongraduated_married_females)\n",
    "nongraduated_unmarried_females=len(data.loc[((data['Married'] == 'No') & (data['Gender'] == 'Female') & (data['Education'] == 'Not Graduate'))])\n",
    "print(\"non_graduated_unmarried_females are :\")\n",
    "print(nongraduated_unmarried_females)"
   ]
  },
  {
   "cell_type": "code",
   "execution_count": 105,
   "id": "a9c9b11c",
   "metadata": {},
   "outputs": [],
   "source": [
    "#5.Education column is encoded here with label encoding.Since there are 4 different values in \"encoded\" column so\n",
    "#if we use one hot encoding then there might be issues with training the data as the columns increases."
   ]
  },
  {
   "cell_type": "code",
   "execution_count": 106,
   "id": "4fb8f1a9",
   "metadata": {},
   "outputs": [],
   "source": [
    "#8.We will be considering all the necessary columns for the data training.The data columns that are used in the prediction of \n",
    "#the predicted value of the data class will be used that are relevant in making decision on the basis of the target class.\n",
    "#Here in this dataset,every attribute will be taken into consideration for the prediction except for \"Loan_ID\" as \"Loan_ID\" \n",
    "#has no importance in the prediction if the loan will be granted to the customer or not."
   ]
  },
  {
   "cell_type": "code",
   "execution_count": 107,
   "id": "3de9676f",
   "metadata": {},
   "outputs": [],
   "source": [
    "#9\n",
    "#Here I have prepared the model using KNN(K-Nearest Neighbour)\n",
    "#I have chosen I KNN model because KNN is a classification technique to predict values of the target class.\n",
    "#Since this was a prediction where the predicted value would vary between '0' and '1' or 'Yes' and 'No'.Classification\n",
    "#technique would have been suited best for this model and I have tried between KNN and Logistic Regression and out of the 2 \n",
    "#models KNN gives a better accuracy score.\n",
    "#I have displayed all the regression techniques and it is found out that regression techniques show very low valued r2_scores.\n",
    "#Thus KNN is selected"
   ]
  },
  {
   "cell_type": "code",
   "execution_count": 108,
   "id": "c40f32fc",
   "metadata": {},
   "outputs": [],
   "source": [
    "#10.No,I havent hyper paramiterizied the data"
   ]
  },
  {
   "cell_type": "code",
   "execution_count": 109,
   "id": "941ba249",
   "metadata": {},
   "outputs": [
    {
     "data": {
      "text/plain": [
       "0.8108108108108109"
      ]
     },
     "execution_count": 109,
     "metadata": {},
     "output_type": "execute_result"
    }
   ],
   "source": [
    "#11.\n",
    "#KNN\n",
    "from sklearn.neighbors import KNeighborsClassifier\n",
    "knnClassifier=KNeighborsClassifier(n_neighbors=8)\n",
    "knnClassifier.fit(x_train1,y_train1)\n",
    "y_pred=knnClassifier.predict(x_test1)\n",
    "from sklearn.metrics import accuracy_score\n",
    "accuracy_score(y_pred,y_test1)"
   ]
  },
  {
   "cell_type": "code",
   "execution_count": 110,
   "id": "efd22400",
   "metadata": {},
   "outputs": [
    {
     "name": "stdout",
     "output_type": "stream",
     "text": [
      "The accuracy of KNN classification is :\n",
      "0.8108108108108109\n"
     ]
    }
   ],
   "source": [
    "#12\n",
    "print(\"The accuracy of KNN classification is :\")\n",
    "print(accuracy_score(y_pred,y_test1))"
   ]
  },
  {
   "cell_type": "code",
   "execution_count": 111,
   "id": "34df374c",
   "metadata": {},
   "outputs": [],
   "source": [
    "#13\n",
    "#For a better model accuracy we can try more methods used for data cleaning,removing outliers.In this model the model is \n",
    "#encoded using label encoding,we can also try ONE-HOT ENCODING to see if it provides better results.\n",
    "#We can manually change the attributes for each training techniques or use hyper paramitezation."
   ]
  },
  {
   "cell_type": "code",
   "execution_count": 112,
   "id": "570cc415",
   "metadata": {},
   "outputs": [],
   "source": [
    "#14\n",
    "#We can conclude that every column of the data might be necessary for the prediction of the data,but also it is not mandatory\n",
    "#for every column to be included for the calculation.We can hereby note that every column for should be looked for missing data\n",
    "#missing data should be taken care of,outliers should be looked after as welll and data should be encoded using proper \n",
    "#encoding techniques"
   ]
  },
  {
   "cell_type": "code",
   "execution_count": null,
   "id": "1be6fed0",
   "metadata": {},
   "outputs": [],
   "source": []
  },
  {
   "cell_type": "code",
   "execution_count": null,
   "id": "3865a18b",
   "metadata": {},
   "outputs": [],
   "source": []
  },
  {
   "cell_type": "code",
   "execution_count": null,
   "id": "ccbbfb38",
   "metadata": {},
   "outputs": [],
   "source": []
  }
 ],
 "metadata": {
  "kernelspec": {
   "display_name": "Python 3 (ipykernel)",
   "language": "python",
   "name": "python3"
  },
  "language_info": {
   "codemirror_mode": {
    "name": "ipython",
    "version": 3
   },
   "file_extension": ".py",
   "mimetype": "text/x-python",
   "name": "python",
   "nbconvert_exporter": "python",
   "pygments_lexer": "ipython3",
   "version": "3.9.12"
  }
 },
 "nbformat": 4,
 "nbformat_minor": 5
}
