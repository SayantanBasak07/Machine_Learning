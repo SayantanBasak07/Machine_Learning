{
 "cells": [
  {
   "cell_type": "code",
   "execution_count": 149,
   "id": "27c2dca3",
   "metadata": {},
   "outputs": [],
   "source": [
    "import pandas as pd\n",
    "import numpy as np"
   ]
  },
  {
   "cell_type": "code",
   "execution_count": 150,
   "id": "64033391",
   "metadata": {},
   "outputs": [],
   "source": [
    "df=pd.read_csv(\"weatherAUS.csv\")\n"
   ]
  },
  {
   "cell_type": "code",
   "execution_count": 151,
   "id": "032a15cf",
   "metadata": {},
   "outputs": [],
   "source": [
    "x=df.iloc[:,:-1]\n",
    "y=df.iloc[:,-1]"
   ]
  },
  {
   "cell_type": "code",
   "execution_count": 152,
   "id": "d1e77853",
   "metadata": {},
   "outputs": [],
   "source": [
    "from sklearn.impute import SimpleImputer\n",
    "imp_mean=SimpleImputer(missing_values=np.nan,strategy='mean')\n",
    "numeric_columns=list(np.where((x.dtypes==np.int64) | (x.dtypes==np.float64))[0])\n",
    "imp_mean.fit(x.iloc[:,numeric_columns])\n",
    "x.iloc[:,numeric_columns]=imp_mean.transform(x.iloc[:,numeric_columns]) \n",
    "string_columns=list(np.where((x.dtypes!=np.int64) | (x.dtypes!=np.float64))[0])\n",
    "imp_mean=SimpleImputer(missing_values=np.nan,strategy='most_frequent')\n",
    "imp_mean.fit(x.iloc[:,string_columns])\n",
    "x.iloc[:,string_columns]=imp_mean.transform(x.iloc[:,string_columns])"
   ]
  },
  {
   "cell_type": "code",
   "execution_count": 153,
   "id": "37b61072",
   "metadata": {},
   "outputs": [],
   "source": [
    "def OneHotEncoderMethod(indices,data):\n",
    "    from sklearn.compose import ColumnTransformer\n",
    "    from sklearn.preprocessing import OneHotEncoder\n",
    "    columnTransformer = ColumnTransformer([('encoder',OneHotEncoder(),indices)],remainder='passthrough')\n",
    "    return columnTransformer.fit_transform(data)\n"
   ]
  },
  {
   "cell_type": "code",
   "execution_count": 154,
   "id": "27194e1b",
   "metadata": {},
   "outputs": [],
   "source": [
    "def LabelEncoderMethod(series):\n",
    "    from sklearn import preprocessing\n",
    "    le=preprocessing.LabelEncoder()\n",
    "    return le.fit_transform(series)"
   ]
  },
  {
   "cell_type": "code",
   "execution_count": 155,
   "id": "7e976369",
   "metadata": {},
   "outputs": [],
   "source": [
    "#encoding selection"
   ]
  },
  {
   "cell_type": "code",
   "execution_count": 156,
   "id": "28d63762",
   "metadata": {},
   "outputs": [
    {
     "name": "stderr",
     "output_type": "stream",
     "text": [
      "C:\\Users\\KIIT\\AppData\\Local\\Temp\\ipykernel_19888\\473694297.py:1: DeprecationWarning: `np.object` is a deprecated alias for the builtin `object`. To silence this warning, use `object` by itself. Doing this will not modify any behavior and is safe. \n",
      "Deprecated in NumPy 1.20; for more details and guidance: https://numpy.org/devdocs/release/1.20.0-notes.html#deprecations\n",
      "  string_cols  = list(np.where((x.dtypes == np.object))[0])\n"
     ]
    }
   ],
   "source": [
    "string_cols  = list(np.where((x.dtypes == np.object))[0])"
   ]
  },
  {
   "cell_type": "code",
   "execution_count": 157,
   "id": "3855a7c5",
   "metadata": {},
   "outputs": [
    {
     "data": {
      "text/plain": [
       "[0, 1, 7, 9, 10, 21]"
      ]
     },
     "execution_count": 157,
     "metadata": {},
     "output_type": "execute_result"
    }
   ],
   "source": [
    "string_cols\n"
   ]
  },
  {
   "cell_type": "code",
   "execution_count": 158,
   "id": "1df4f99f",
   "metadata": {},
   "outputs": [],
   "source": [
    "#labelEncoding"
   ]
  },
  {
   "cell_type": "code",
   "execution_count": 159,
   "id": "d83802fb",
   "metadata": {},
   "outputs": [],
   "source": [
    "y=LabelEncoderMethod(y)"
   ]
  },
  {
   "cell_type": "code",
   "execution_count": 160,
   "id": "1c9a534f",
   "metadata": {},
   "outputs": [
    {
     "data": {
      "text/plain": [
       "3436"
      ]
     },
     "execution_count": 160,
     "metadata": {},
     "output_type": "execute_result"
    }
   ],
   "source": [
    "  len(pd.unique(x[x.columns[0]]))"
   ]
  },
  {
   "cell_type": "code",
   "execution_count": 161,
   "id": "a6792fd1",
   "metadata": {},
   "outputs": [],
   "source": [
    "col_0=x.columns[0]"
   ]
  },
  {
   "cell_type": "code",
   "execution_count": 162,
   "id": "8f19add5",
   "metadata": {},
   "outputs": [
    {
     "data": {
      "text/plain": [
       "'Date'"
      ]
     },
     "execution_count": 162,
     "metadata": {},
     "output_type": "execute_result"
    }
   ],
   "source": [
    "col_0\n"
   ]
  },
  {
   "cell_type": "code",
   "execution_count": 163,
   "id": "38072579",
   "metadata": {},
   "outputs": [],
   "source": [
    "x[col_0]=LabelEncoderMethod(x[col_0])"
   ]
  },
  {
   "cell_type": "code",
   "execution_count": 164,
   "id": "424bd961",
   "metadata": {
    "scrolled": true
   },
   "outputs": [
    {
     "data": {
      "text/html": [
       "<div>\n",
       "<style scoped>\n",
       "    .dataframe tbody tr th:only-of-type {\n",
       "        vertical-align: middle;\n",
       "    }\n",
       "\n",
       "    .dataframe tbody tr th {\n",
       "        vertical-align: top;\n",
       "    }\n",
       "\n",
       "    .dataframe thead th {\n",
       "        text-align: right;\n",
       "    }\n",
       "</style>\n",
       "<table border=\"1\" class=\"dataframe\">\n",
       "  <thead>\n",
       "    <tr style=\"text-align: right;\">\n",
       "      <th></th>\n",
       "      <th>Date</th>\n",
       "      <th>Location</th>\n",
       "      <th>MinTemp</th>\n",
       "      <th>MaxTemp</th>\n",
       "      <th>Rainfall</th>\n",
       "      <th>Evaporation</th>\n",
       "      <th>Sunshine</th>\n",
       "      <th>WindGustDir</th>\n",
       "      <th>WindGustSpeed</th>\n",
       "      <th>WindDir9am</th>\n",
       "      <th>...</th>\n",
       "      <th>WindSpeed3pm</th>\n",
       "      <th>Humidity9am</th>\n",
       "      <th>Humidity3pm</th>\n",
       "      <th>Pressure9am</th>\n",
       "      <th>Pressure3pm</th>\n",
       "      <th>Cloud9am</th>\n",
       "      <th>Cloud3pm</th>\n",
       "      <th>Temp9am</th>\n",
       "      <th>Temp3pm</th>\n",
       "      <th>RainToday</th>\n",
       "    </tr>\n",
       "  </thead>\n",
       "  <tbody>\n",
       "    <tr>\n",
       "      <th>0</th>\n",
       "      <td>396</td>\n",
       "      <td>Albury</td>\n",
       "      <td>13.4</td>\n",
       "      <td>22.9</td>\n",
       "      <td>0.6</td>\n",
       "      <td>5.468232</td>\n",
       "      <td>7.611178</td>\n",
       "      <td>W</td>\n",
       "      <td>44.0</td>\n",
       "      <td>W</td>\n",
       "      <td>...</td>\n",
       "      <td>24.0</td>\n",
       "      <td>71.0</td>\n",
       "      <td>22.0</td>\n",
       "      <td>1007.7</td>\n",
       "      <td>1007.1</td>\n",
       "      <td>8.000000</td>\n",
       "      <td>4.50993</td>\n",
       "      <td>16.9</td>\n",
       "      <td>21.8</td>\n",
       "      <td>No</td>\n",
       "    </tr>\n",
       "    <tr>\n",
       "      <th>1</th>\n",
       "      <td>397</td>\n",
       "      <td>Albury</td>\n",
       "      <td>7.4</td>\n",
       "      <td>25.1</td>\n",
       "      <td>0.0</td>\n",
       "      <td>5.468232</td>\n",
       "      <td>7.611178</td>\n",
       "      <td>WNW</td>\n",
       "      <td>44.0</td>\n",
       "      <td>NNW</td>\n",
       "      <td>...</td>\n",
       "      <td>22.0</td>\n",
       "      <td>44.0</td>\n",
       "      <td>25.0</td>\n",
       "      <td>1010.6</td>\n",
       "      <td>1007.8</td>\n",
       "      <td>4.447461</td>\n",
       "      <td>4.50993</td>\n",
       "      <td>17.2</td>\n",
       "      <td>24.3</td>\n",
       "      <td>No</td>\n",
       "    </tr>\n",
       "    <tr>\n",
       "      <th>2</th>\n",
       "      <td>398</td>\n",
       "      <td>Albury</td>\n",
       "      <td>12.9</td>\n",
       "      <td>25.7</td>\n",
       "      <td>0.0</td>\n",
       "      <td>5.468232</td>\n",
       "      <td>7.611178</td>\n",
       "      <td>WSW</td>\n",
       "      <td>46.0</td>\n",
       "      <td>W</td>\n",
       "      <td>...</td>\n",
       "      <td>26.0</td>\n",
       "      <td>38.0</td>\n",
       "      <td>30.0</td>\n",
       "      <td>1007.6</td>\n",
       "      <td>1008.7</td>\n",
       "      <td>4.447461</td>\n",
       "      <td>2.00000</td>\n",
       "      <td>21.0</td>\n",
       "      <td>23.2</td>\n",
       "      <td>No</td>\n",
       "    </tr>\n",
       "    <tr>\n",
       "      <th>3</th>\n",
       "      <td>399</td>\n",
       "      <td>Albury</td>\n",
       "      <td>9.2</td>\n",
       "      <td>28.0</td>\n",
       "      <td>0.0</td>\n",
       "      <td>5.468232</td>\n",
       "      <td>7.611178</td>\n",
       "      <td>NE</td>\n",
       "      <td>24.0</td>\n",
       "      <td>SE</td>\n",
       "      <td>...</td>\n",
       "      <td>9.0</td>\n",
       "      <td>45.0</td>\n",
       "      <td>16.0</td>\n",
       "      <td>1017.6</td>\n",
       "      <td>1012.8</td>\n",
       "      <td>4.447461</td>\n",
       "      <td>4.50993</td>\n",
       "      <td>18.1</td>\n",
       "      <td>26.5</td>\n",
       "      <td>No</td>\n",
       "    </tr>\n",
       "    <tr>\n",
       "      <th>4</th>\n",
       "      <td>400</td>\n",
       "      <td>Albury</td>\n",
       "      <td>17.5</td>\n",
       "      <td>32.3</td>\n",
       "      <td>1.0</td>\n",
       "      <td>5.468232</td>\n",
       "      <td>7.611178</td>\n",
       "      <td>W</td>\n",
       "      <td>41.0</td>\n",
       "      <td>ENE</td>\n",
       "      <td>...</td>\n",
       "      <td>20.0</td>\n",
       "      <td>82.0</td>\n",
       "      <td>33.0</td>\n",
       "      <td>1010.8</td>\n",
       "      <td>1006.0</td>\n",
       "      <td>7.000000</td>\n",
       "      <td>8.00000</td>\n",
       "      <td>17.8</td>\n",
       "      <td>29.7</td>\n",
       "      <td>No</td>\n",
       "    </tr>\n",
       "  </tbody>\n",
       "</table>\n",
       "<p>5 rows × 22 columns</p>\n",
       "</div>"
      ],
      "text/plain": [
       "   Date Location  MinTemp  MaxTemp  Rainfall  Evaporation  Sunshine  \\\n",
       "0   396   Albury     13.4     22.9       0.6     5.468232  7.611178   \n",
       "1   397   Albury      7.4     25.1       0.0     5.468232  7.611178   \n",
       "2   398   Albury     12.9     25.7       0.0     5.468232  7.611178   \n",
       "3   399   Albury      9.2     28.0       0.0     5.468232  7.611178   \n",
       "4   400   Albury     17.5     32.3       1.0     5.468232  7.611178   \n",
       "\n",
       "  WindGustDir  WindGustSpeed WindDir9am  ... WindSpeed3pm  Humidity9am  \\\n",
       "0           W           44.0          W  ...         24.0         71.0   \n",
       "1         WNW           44.0        NNW  ...         22.0         44.0   \n",
       "2         WSW           46.0          W  ...         26.0         38.0   \n",
       "3          NE           24.0         SE  ...          9.0         45.0   \n",
       "4           W           41.0        ENE  ...         20.0         82.0   \n",
       "\n",
       "   Humidity3pm  Pressure9am  Pressure3pm  Cloud9am  Cloud3pm  Temp9am  \\\n",
       "0         22.0       1007.7       1007.1  8.000000   4.50993     16.9   \n",
       "1         25.0       1010.6       1007.8  4.447461   4.50993     17.2   \n",
       "2         30.0       1007.6       1008.7  4.447461   2.00000     21.0   \n",
       "3         16.0       1017.6       1012.8  4.447461   4.50993     18.1   \n",
       "4         33.0       1010.8       1006.0  7.000000   8.00000     17.8   \n",
       "\n",
       "   Temp3pm  RainToday  \n",
       "0     21.8         No  \n",
       "1     24.3         No  \n",
       "2     23.2         No  \n",
       "3     26.5         No  \n",
       "4     29.7         No  \n",
       "\n",
       "[5 rows x 22 columns]"
      ]
     },
     "execution_count": 164,
     "metadata": {},
     "output_type": "execute_result"
    }
   ],
   "source": [
    "x.head()"
   ]
  },
  {
   "cell_type": "code",
   "execution_count": 165,
   "id": "19e46f4d",
   "metadata": {},
   "outputs": [],
   "source": [
    "def EncodingSelection(x,threshold=10):\n",
    "    from sklearn.compose import ColumnTransformer\n",
    "    from sklearn.preprocessing import OneHotEncoder\n",
    "    string_cols = list(np.where((x.dtypes == np.object))[0])\n",
    "    one_hot_encoding_indices = []\n",
    "    for col in string_cols:\n",
    "        length = len(pd.unique(x[x.columns[col]]))\n",
    "        if length == 2 or length > threshold:\n",
    "            x[x.columns[col]]=LabelEncoderMethod(x[x.columns[col]])\n",
    "        else:\n",
    "            one_hot_encoding_indices.append(col)\n",
    "       \n",
    "    x=OneHotEncoderMethod(one_hot_encoding_indices,x)\n",
    "    return x\n",
    "            \n",
    "        "
   ]
  },
  {
   "cell_type": "code",
   "execution_count": 166,
   "id": "4f5a79f7",
   "metadata": {},
   "outputs": [
    {
     "name": "stderr",
     "output_type": "stream",
     "text": [
      "C:\\Users\\KIIT\\AppData\\Local\\Temp\\ipykernel_19888\\2598887645.py:4: DeprecationWarning: `np.object` is a deprecated alias for the builtin `object`. To silence this warning, use `object` by itself. Doing this will not modify any behavior and is safe. \n",
      "Deprecated in NumPy 1.20; for more details and guidance: https://numpy.org/devdocs/release/1.20.0-notes.html#deprecations\n",
      "  string_cols = list(np.where((x.dtypes == np.object))[0])\n"
     ]
    }
   ],
   "source": [
    " x=EncodingSelection(x,10)\n",
    "    "
   ]
  },
  {
   "cell_type": "code",
   "execution_count": 167,
   "id": "63a9ff08",
   "metadata": {},
   "outputs": [
    {
     "data": {
      "text/plain": [
       "(145460, 22)"
      ]
     },
     "execution_count": 167,
     "metadata": {},
     "output_type": "execute_result"
    }
   ],
   "source": [
    "x.shape"
   ]
  },
  {
   "cell_type": "code",
   "execution_count": 168,
   "id": "e7673194",
   "metadata": {},
   "outputs": [],
   "source": [
    "#feature selection"
   ]
  },
  {
   "cell_type": "code",
   "execution_count": 169,
   "id": "52060eb9",
   "metadata": {},
   "outputs": [],
   "source": [
    "from sklearn import preprocessing\n",
    "from sklearn.feature_selection import SelectKBest, chi2\n"
   ]
  },
  {
   "cell_type": "code",
   "execution_count": 170,
   "id": "b03352be",
   "metadata": {},
   "outputs": [],
   "source": [
    "kbest = SelectKBest(score_func=chi2,k=10)\n",
    "mms = preprocessing.MinMaxScaler()"
   ]
  },
  {
   "cell_type": "code",
   "execution_count": 171,
   "id": "644db826",
   "metadata": {},
   "outputs": [],
   "source": [
    "x_temp=mms.fit_transform(x)"
   ]
  },
  {
   "cell_type": "code",
   "execution_count": 172,
   "id": "a331ce26",
   "metadata": {},
   "outputs": [],
   "source": [
    "x_temp=kbest.fit(x_temp,y)"
   ]
  },
  {
   "cell_type": "code",
   "execution_count": 173,
   "id": "d89e2237",
   "metadata": {},
   "outputs": [
    {
     "data": {
      "text/plain": [
       "array([1.50514566e+01, 1.58175252e+01, 4.67783039e+01, 1.22836318e+02,\n",
       "       6.47157312e+02, 1.44422848e+01, 1.03352623e+03, 1.36011637e+02,\n",
       "       2.87006856e+02, 3.53677471e+01, 2.91689528e+01, 5.58462514e+01,\n",
       "       5.26833693e+01, 4.82960487e+02, 2.25219988e+03, 1.57728585e+02,\n",
       "       1.22708551e+02, 1.19373660e+03, 1.41579509e+03, 3.45236543e+00,\n",
       "       1.72316599e+02, 1.06248786e+04])"
      ]
     },
     "execution_count": 173,
     "metadata": {},
     "output_type": "execute_result"
    }
   ],
   "source": [
    "x_temp.scores_"
   ]
  },
  {
   "cell_type": "code",
   "execution_count": 174,
   "id": "d6303ebd",
   "metadata": {},
   "outputs": [
    {
     "name": "stdout",
     "output_type": "stream",
     "text": [
      "3.4523654257\n",
      "14.4422848064\n",
      "15.0514565951\n",
      "15.8175251532\n",
      "29.1689527570\n",
      "35.3677471243\n",
      "46.7783038988\n",
      "52.6833693451\n",
      "55.8462514403\n",
      "122.7085513091\n",
      "122.8363180739\n",
      "136.0116369921\n",
      "157.7285852884\n",
      "172.3165992609\n",
      "287.0068557768\n",
      "482.9604872103\n",
      "647.1573120166\n",
      "1033.5262335295\n",
      "1193.7366038538\n",
      "1415.7950926455\n",
      "2252.1998838441\n",
      "10624.8785997130\n"
     ]
    }
   ],
   "source": [
    "for i in np.sort(x_temp.scores_):\n",
    "    print('{0:.10f}'.format(i))"
   ]
  },
  {
   "cell_type": "code",
   "execution_count": 175,
   "id": "1538fd47",
   "metadata": {},
   "outputs": [],
   "source": [
    "best_features=np.argsort(x_temp.scores_)[-13:]"
   ]
  },
  {
   "cell_type": "code",
   "execution_count": 176,
   "id": "0ac435ce",
   "metadata": {},
   "outputs": [
    {
     "data": {
      "text/plain": [
       "array([16,  3,  7, 15, 20,  8, 13,  4,  6, 17, 18, 14, 21], dtype=int64)"
      ]
     },
     "execution_count": 176,
     "metadata": {},
     "output_type": "execute_result"
    }
   ],
   "source": [
    "best_features"
   ]
  },
  {
   "cell_type": "code",
   "execution_count": 177,
   "id": "3bf9b952",
   "metadata": {},
   "outputs": [],
   "source": [
    "features_to_delete=np.argsort(x_temp.scores_)[:12]"
   ]
  },
  {
   "cell_type": "code",
   "execution_count": 178,
   "id": "f7792168",
   "metadata": {},
   "outputs": [
    {
     "data": {
      "text/plain": [
       "array([19,  5,  0,  1, 10,  9,  2, 12, 11, 16,  3,  7], dtype=int64)"
      ]
     },
     "execution_count": 178,
     "metadata": {},
     "output_type": "execute_result"
    }
   ],
   "source": [
    "features_to_delete"
   ]
  },
  {
   "cell_type": "code",
   "execution_count": 179,
   "id": "5e1c8da7",
   "metadata": {},
   "outputs": [],
   "source": [
    "x=np.delete(x,features_to_delete,axis=1)"
   ]
  },
  {
   "cell_type": "code",
   "execution_count": 180,
   "id": "67bcbf2d",
   "metadata": {},
   "outputs": [
    {
     "data": {
      "text/plain": [
       "(145460, 10)"
      ]
     },
     "execution_count": 180,
     "metadata": {},
     "output_type": "execute_result"
    }
   ],
   "source": [
    "x.shape"
   ]
  },
  {
   "cell_type": "code",
   "execution_count": 181,
   "id": "f798df04",
   "metadata": {},
   "outputs": [],
   "source": [
    "from sklearn.model_selection import train_test_split\n",
    "x_train,x_test,y_train,y_test=train_test_split(x,y,test_size=0.2,random_state=1)"
   ]
  },
  {
   "cell_type": "code",
   "execution_count": 182,
   "id": "d02c22d7",
   "metadata": {},
   "outputs": [],
   "source": [
    "sc=preprocessing.StandardScaler(with_mean=False)\n",
    "sc.fit(x_train)\n",
    "x_train=sc.transform(x_train)\n",
    "sc.fit(x_test)\n",
    "x_test=sc.transform(x_test)"
   ]
  },
  {
   "cell_type": "code",
   "execution_count": 183,
   "id": "877c79b0",
   "metadata": {},
   "outputs": [
    {
     "data": {
      "text/plain": [
       "0.2214544176700992"
      ]
     },
     "execution_count": 183,
     "metadata": {},
     "output_type": "execute_result"
    }
   ],
   "source": [
    "#linear regression\n",
    "from sklearn.linear_model import LinearRegression\n",
    "from sklearn.metrics import r2_score\n",
    "model=LinearRegression()\n",
    "model.fit(x_train,y_train)\n",
    "y_pred=model.predict(x_test)\n",
    "r2_score(y_test,y_pred)"
   ]
  },
  {
   "cell_type": "code",
   "execution_count": 184,
   "id": "966d98dc",
   "metadata": {},
   "outputs": [
    {
     "data": {
      "text/plain": [
       "-12315977696953.361"
      ]
     },
     "execution_count": 184,
     "metadata": {},
     "output_type": "execute_result"
    }
   ],
   "source": [
    "from sklearn.linear_model import LinearRegression\n",
    "from sklearn.preprocessing import PolynomialFeatures\n",
    "model=LinearRegression()\n",
    "poly=PolynomialFeatures(degree=2)\n",
    "x_train_poly=poly.fit_transform(x_train)\n",
    "model.fit(x_train_poly,y_train)\n",
    "x_test_poly=poly.fit_transform(x_test)\n",
    "y_pred=model.predict(x_test_poly)\n",
    "r2_score(y_test,y_pred)"
   ]
  },
  {
   "cell_type": "code",
   "execution_count": 185,
   "id": "ee46a18c",
   "metadata": {},
   "outputs": [
    {
     "data": {
      "text/plain": [
       "0.2992480447992102"
      ]
     },
     "execution_count": 185,
     "metadata": {},
     "output_type": "execute_result"
    }
   ],
   "source": [
    "from sklearn.tree import DecisionTreeRegressor\n",
    "model=DecisionTreeRegressor(max_depth=4)\n",
    "model.fit(x_train,y_train)\n",
    "y_pred=model.predict(x_test)\n",
    "r2_score(y_test,y_pred)"
   ]
  },
  {
   "cell_type": "code",
   "execution_count": 186,
   "id": "f881773c",
   "metadata": {},
   "outputs": [
    {
     "data": {
      "text/plain": [
       "0.2920129898646323"
      ]
     },
     "execution_count": 186,
     "metadata": {},
     "output_type": "execute_result"
    }
   ],
   "source": [
    "from sklearn.ensemble import RandomForestRegressor\n",
    "model=RandomForestRegressor(n_estimators=25,random_state=10)\n",
    "model.fit(x_train,y_train)\n",
    "y_pred=model.predict(x_test)\n",
    "r2_score(y_test,y_pred)"
   ]
  },
  {
   "cell_type": "code",
   "execution_count": 187,
   "id": "db8868c4",
   "metadata": {},
   "outputs": [
    {
     "data": {
      "text/plain": [
       "0.10941208494283117"
      ]
     },
     "execution_count": 187,
     "metadata": {},
     "output_type": "execute_result"
    }
   ],
   "source": [
    "from sklearn.ensemble  import AdaBoostRegressor\n",
    "model=AdaBoostRegressor(random_state=0,n_estimators=100)\n",
    "model.fit(x_train,y_train)\n",
    "y_pred=model.predict(x_test)\n",
    "r2_score(y_test,y_pred)"
   ]
  },
  {
   "cell_type": "code",
   "execution_count": null,
   "id": "028f806d",
   "metadata": {},
   "outputs": [],
   "source": []
  }
 ],
 "metadata": {
  "kernelspec": {
   "display_name": "Python 3 (ipykernel)",
   "language": "python",
   "name": "python3"
  },
  "language_info": {
   "codemirror_mode": {
    "name": "ipython",
    "version": 3
   },
   "file_extension": ".py",
   "mimetype": "text/x-python",
   "name": "python",
   "nbconvert_exporter": "python",
   "pygments_lexer": "ipython3",
   "version": "3.9.12"
  }
 },
 "nbformat": 4,
 "nbformat_minor": 5
}
