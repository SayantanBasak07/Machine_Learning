{
 "cells": [
  {
   "cell_type": "code",
   "execution_count": 58,
   "id": "0c283d66",
   "metadata": {},
   "outputs": [],
   "source": [
    "import pandas as pd\n",
    "import numpy as np"
   ]
  },
  {
   "cell_type": "code",
   "execution_count": 59,
   "id": "9ff6e883",
   "metadata": {},
   "outputs": [],
   "source": [
    "df=pd.read_csv('insurance.csv')"
   ]
  },
  {
   "cell_type": "code",
   "execution_count": 60,
   "id": "be5505f1",
   "metadata": {},
   "outputs": [],
   "source": [
    "x=df.iloc[:,:-1]"
   ]
  },
  {
   "cell_type": "code",
   "execution_count": 61,
   "id": "15ae6790",
   "metadata": {},
   "outputs": [],
   "source": [
    "y=df.iloc[:,-1]"
   ]
  },
  {
   "cell_type": "code",
   "execution_count": 62,
   "id": "2254ff6f",
   "metadata": {},
   "outputs": [],
   "source": [
    "from sklearn import preprocessing\n",
    "le=preprocessing.LabelEncoder()"
   ]
  },
  {
   "cell_type": "code",
   "execution_count": 63,
   "id": "242485d0",
   "metadata": {},
   "outputs": [],
   "source": [
    "x['sex']=le.fit_transform(x['sex'])\n",
    "x['smoker']=le.fit_transform(x['smoker'])"
   ]
  },
  {
   "cell_type": "code",
   "execution_count": 64,
   "id": "c9e663c8",
   "metadata": {},
   "outputs": [],
   "source": [
    "from sklearn.preprocessing import OneHotEncoder\n",
    "from sklearn.compose import ColumnTransformer"
   ]
  },
  {
   "cell_type": "code",
   "execution_count": 65,
   "id": "7fcad967",
   "metadata": {},
   "outputs": [],
   "source": [
    "columnTransformer=ColumnTransformer([('encoder',OneHotEncoder(),[5])],remainder='passthrough')"
   ]
  },
  {
   "cell_type": "code",
   "execution_count": 66,
   "id": "8a34a6cf",
   "metadata": {},
   "outputs": [],
   "source": [
    "x=columnTransformer.fit_transform(x)"
   ]
  },
  {
   "cell_type": "code",
   "execution_count": 67,
   "id": "e9c94e87",
   "metadata": {},
   "outputs": [
    {
     "data": {
      "text/plain": [
       "array([[ 0.  ,  0.  ,  0.  , ..., 27.9 ,  0.  ,  1.  ],\n",
       "       [ 0.  ,  0.  ,  1.  , ..., 33.77,  1.  ,  0.  ],\n",
       "       [ 0.  ,  0.  ,  1.  , ..., 33.  ,  3.  ,  0.  ],\n",
       "       ...,\n",
       "       [ 0.  ,  0.  ,  1.  , ..., 36.85,  0.  ,  0.  ],\n",
       "       [ 0.  ,  0.  ,  0.  , ..., 25.8 ,  0.  ,  0.  ],\n",
       "       [ 0.  ,  1.  ,  0.  , ..., 29.07,  0.  ,  1.  ]])"
      ]
     },
     "execution_count": 67,
     "metadata": {},
     "output_type": "execute_result"
    }
   ],
   "source": [
    "x"
   ]
  },
  {
   "cell_type": "code",
   "execution_count": 68,
   "id": "ccb51445",
   "metadata": {},
   "outputs": [],
   "source": [
    "from sklearn.model_selection import train_test_split"
   ]
  },
  {
   "cell_type": "code",
   "execution_count": 69,
   "id": "d69dd520",
   "metadata": {},
   "outputs": [],
   "source": [
    "x_test,x_train,y_test,y_train=train_test_split(x,y,test_size=0.2,random_state=1)"
   ]
  },
  {
   "cell_type": "code",
   "execution_count": 70,
   "id": "ac9cd1ee",
   "metadata": {},
   "outputs": [],
   "source": [
    "from sklearn import preprocessing"
   ]
  },
  {
   "cell_type": "code",
   "execution_count": 71,
   "id": "2d54af5f",
   "metadata": {},
   "outputs": [],
   "source": [
    "sc=preprocessing.StandardScaler()\n",
    "sc.fit(x_train)\n",
    "x_train=sc.transform(x_train)\n",
    "x_test=sc.transform(x_test)"
   ]
  },
  {
   "cell_type": "code",
   "execution_count": 72,
   "id": "5d7438c1",
   "metadata": {},
   "outputs": [],
   "source": [
    "from sklearn.linear_model import LinearRegression\n",
    "from sklearn.preprocessing import PolynomialFeatures"
   ]
  },
  {
   "cell_type": "code",
   "execution_count": 73,
   "id": "f719270d",
   "metadata": {},
   "outputs": [],
   "source": [
    "model=LinearRegression()\n",
    "poly=PolynomialFeatures(degree = 2)"
   ]
  },
  {
   "cell_type": "code",
   "execution_count": 74,
   "id": "ec32646e",
   "metadata": {},
   "outputs": [],
   "source": [
    "x_train_poly=poly.fit_transform(x_train)"
   ]
  },
  {
   "cell_type": "code",
   "execution_count": 75,
   "id": "a2413a39",
   "metadata": {},
   "outputs": [
    {
     "data": {
      "text/plain": [
       "LinearRegression()"
      ]
     },
     "execution_count": 75,
     "metadata": {},
     "output_type": "execute_result"
    }
   ],
   "source": [
    "model.fit(x_train_poly,y_train)"
   ]
  },
  {
   "cell_type": "code",
   "execution_count": 76,
   "id": "ce12ba35",
   "metadata": {},
   "outputs": [],
   "source": [
    "x_test_poly=poly.fit_transform(x_test)\n",
    "y_pred=model.predict(x_test_poly)"
   ]
  },
  {
   "cell_type": "code",
   "execution_count": 77,
   "id": "6166dd82",
   "metadata": {},
   "outputs": [],
   "source": [
    "from sklearn.metrics import r2_score"
   ]
  },
  {
   "cell_type": "code",
   "execution_count": 78,
   "id": "94fb5d26",
   "metadata": {},
   "outputs": [
    {
     "data": {
      "text/plain": [
       "0.8161170884453433"
      ]
     },
     "execution_count": 78,
     "metadata": {},
     "output_type": "execute_result"
    }
   ],
   "source": [
    "r2_score(y_test,y_pred)"
   ]
  },
  {
   "cell_type": "code",
   "execution_count": null,
   "id": "7b954d4a",
   "metadata": {},
   "outputs": [],
   "source": []
  },
  {
   "cell_type": "code",
   "execution_count": null,
   "id": "ec0e06f8",
   "metadata": {},
   "outputs": [],
   "source": []
  },
  {
   "cell_type": "code",
   "execution_count": null,
   "id": "206465b7",
   "metadata": {},
   "outputs": [],
   "source": []
  }
 ],
 "metadata": {
  "kernelspec": {
   "display_name": "Python 3 (ipykernel)",
   "language": "python",
   "name": "python3"
  },
  "language_info": {
   "codemirror_mode": {
    "name": "ipython",
    "version": 3
   },
   "file_extension": ".py",
   "mimetype": "text/x-python",
   "name": "python",
   "nbconvert_exporter": "python",
   "pygments_lexer": "ipython3",
   "version": "3.9.12"
  }
 },
 "nbformat": 4,
 "nbformat_minor": 5
}
